{
 "cells": [
  {
   "cell_type": "code",
   "execution_count": 1,
   "id": "7a15a96b-996f-4ec6-8e09-9e956e474915",
   "metadata": {},
   "outputs": [],
   "source": [
    "import os\n",
    "import requests\n",
    "from datetime import datetime"
   ]
  },
  {
   "cell_type": "code",
   "execution_count": 35,
   "id": "65243e8c-acc3-4d56-9757-7f813b464648",
   "metadata": {},
   "outputs": [],
   "source": [
    "def download_grib_001(date): #date format : 2024-08-26T06:00:00Z\n",
    "    for i in range(49):\n",
    "        if i < 10:\n",
    "            url = f\"https://object.data.gouv.fr/meteofrance-pnt/pnt/{date}/arome/001/SP1/arome__001__SP1__0{i}H__{date}.grib2\"    \n",
    "            file_name = f\"arome_data/{date.replace(':','-')}/arome__001__SP1__0{i}H__{date.replace(':','_')}.grib2\"\n",
    "        else:\n",
    "            url = f\"https://object.data.gouv.fr/meteofrance-pnt/pnt/{date}/arome/001/SP1/arome__001__SP1__{i}H__{date}.grib2\" \n",
    "            file_name = f\"arome_data/{date.replace(':','-')}/arome__001__SP1__{i}H__{date.replace(':','_')}.grib2\"\n",
    "        try:\n",
    "            r = requests.get(url)\n",
    "            if not os.path.isdir(f\"C:/Users/alexl/Documents/GitHub/Meteo/maps/arome_data/{date.replace(':', '-')}\"):\n",
    "                os.mkdir(f\"C:/Users/alexl/Documents/GitHub/Meteo/maps/arome_data/{date.replace(':', '-')}\")\n",
    "            with open(file_name, \"wb\") as f:\n",
    "                f.write(r.content)\n",
    "        except Exception as e:\n",
    "                print(f\"An error occurred: {e}\")"
   ]
  },
  {
   "cell_type": "code",
   "execution_count": 2,
   "id": "85583d82-5e8c-4299-b9bc-4f964921863c",
   "metadata": {},
   "outputs": [],
   "source": [
    "def download_grib_025(date): #date format : 2024-08-26T06:00:00Z\n",
    "    prevision_list = ['00H06H','07H12H','13H18H','19H24H','25H30H','31H36H','37H42H','43H48H']\n",
    "    for i in prevision_list:\n",
    "        url = f\"https://object.data.gouv.fr/meteofrance-pnt/pnt/{date}/arome/0025/SP1/arome__0025__SP1__{i}__{date}.grib2\"\n",
    "        try:\n",
    "            r = requests.get(url)\n",
    "            if not os.path.isdir(f\"C:/Users/alexl/Documents/GitHub/Meteo/maps/arome_data/{date.replace(':', '-')}\"):\n",
    "                os.mkdir(f\"C:/Users/alexl/Documents/GitHub/Meteo/maps/arome_data/{date.replace(':', '-')}\")\n",
    "            with open(f\"arome_data/{date.replace(':', '-')}/arome__0025__SP1__{i}__{date.replace(':', '-')}.grib2\", \"wb\") as f:\n",
    "                f.write(r.content)\n",
    "        except Exception as e:\n",
    "                print(f\"An error occurred: {e}\")"
   ]
  },
  {
   "cell_type": "code",
   "execution_count": 3,
   "id": "f469b013-d337-4904-b54a-ed98e70482c4",
   "metadata": {},
   "outputs": [],
   "source": [
    "date = datetime.today().strftime('%Y-%m-%d') + 'T03:00:00Z'\n",
    "download_grib_025(date)"
   ]
  },
  {
   "cell_type": "code",
   "execution_count": null,
   "id": "56a76a02-f72d-4b83-bd16-b7257bbbeb4d",
   "metadata": {},
   "outputs": [],
   "source": []
  }
 ],
 "metadata": {
  "kernelspec": {
   "display_name": "Python 3 (ipykernel)",
   "language": "python",
   "name": "python3"
  },
  "language_info": {
   "codemirror_mode": {
    "name": "ipython",
    "version": 3
   },
   "file_extension": ".py",
   "mimetype": "text/x-python",
   "name": "python",
   "nbconvert_exporter": "python",
   "pygments_lexer": "ipython3",
   "version": "3.10.11"
  }
 },
 "nbformat": 4,
 "nbformat_minor": 5
}
