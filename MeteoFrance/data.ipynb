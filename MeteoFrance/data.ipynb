{
 "cells": [
  {
   "cell_type": "code",
   "execution_count": 8,
   "metadata": {},
   "outputs": [],
   "source": [
    "import requests\n",
    "from config import DATA_DOWNLOAD_URL\n",
    "import pandas as pd\n",
    "import io\n",
    "import gzip\n",
    "import numpy as np\n",
    "from datetime import datetime"
   ]
  },
  {
   "cell_type": "code",
   "execution_count": 9,
   "metadata": {},
   "outputs": [],
   "source": [
    "def get_market_year(row): #make a market year row in datas\n",
    "    year = row['DATE'].year\n",
    "    month = row['DATE'].month\n",
    "    if month >= 9:\n",
    "        market_year = f\"{year}/{year + 1}\"\n",
    "    else:\n",
    "        market_year = f\"{year - 1}/{year}\"\n",
    "    return market_year"
   ]
  },
  {
   "cell_type": "code",
   "execution_count": 7,
   "metadata": {},
   "outputs": [],
   "source": [
    "df = pd.DataFrame(columns=[\"DATE\", \"DEP\", \"RR\", \"TN\", \"TX\", \"TM\"])#, \"UM\"])"
   ]
  },
  {
   "cell_type": "code",
   "execution_count": null,
   "metadata": {},
   "outputs": [],
   "source": [
    "for i in range(95):\n",
    "    print(i)\n",
    "    url = f\"https://object.files.data.gouv.fr/meteofrance/data/synchro_ftp/BASE/QUOT/Q_{i+1:02d}_previous-1950-2023_RR-T-Vent.csv.gz\"\n",
    "    response = requests.get(url)\n",
    "\n",
    "    compressed_data = io.BytesIO(response.content)\n",
    "    decompressed_data = gzip.GzipFile(fileobj=compressed_data)\n",
    "\n",
    "    tmp = pd.read_csv(decompressed_data, sep=\";\")\n",
    "    tmp[\"DATE\"] = pd.to_datetime(tmp[\"AAAAMMJJ\"], format=\"%Y%m%d\") #string to date\n",
    "    tmp['DEP'] = i+1\n",
    "    tmp = tmp[[\"DATE\", \"DEP\", \"RR\", \"TN\", \"TX\", \"TM\"]] #keep only, in order : Date, departement code, précipitations, temp min, temp max and moy temp\n",
    "    df = pd.concat([df, tmp])\n",
    "df.to_csv(f\"{DATA_DOWNLOAD_URL}/raw_rr_tn_tx_tm-1950-2023.csv\")"
   ]
  },
  {
   "cell_type": "code",
   "execution_count": null,
   "metadata": {},
   "outputs": [],
   "source": [
    "#data for current market year\n",
    "for i in range(95):\n",
    "    print(i)\n",
    "    url = f\"https://object.files.data.gouv.fr/meteofrance/data/synchro_ftp/BASE/QUOT/Q_{i+1:02d}_latest-2024-2025_RR-T-Vent.csv.gz\"\n",
    "    response = requests.get(url)\n",
    "\n",
    "    compressed_data = io.BytesIO(response.content)\n",
    "    decompressed_data = gzip.GzipFile(fileobj=compressed_data)\n",
    "\n",
    "    tmp = pd.read_csv(decompressed_data, sep=\";\")\n",
    "    tmp[\"DATE\"] = pd.to_datetime(tmp[\"AAAAMMJJ\"], format=\"%Y%m%d\") #string to date\n",
    "    tmp['DEP'] = i+1\n",
    "    tmp = tmp[[\"DATE\", \"DEP\", \"RR\", \"TN\", \"TX\", \"TM\"]] #keep only, in order : Date, departement code, précipitations, temp min, temp max and moy temp\n",
    "    df = pd.concat([df, tmp])\n",
    "df.to_csv(f\"{DATA_DOWNLOAD_URL}/raw_rr_tn_tx_tm-current.csv\")"
   ]
  },
  {
   "cell_type": "markdown",
   "metadata": {},
   "source": [
    "Make a mean file for x last year and fo each month, each departement"
   ]
  },
  {
   "cell_type": "code",
   "execution_count": 10,
   "metadata": {},
   "outputs": [],
   "source": [
    "df = pd.read_csv(f\"{DATA_DOWNLOAD_URL}/raw_rr_tn_tx_tm-1950-2023.csv\")\n",
    "df[\"DATE\"] = pd.to_datetime(df[\"DATE\"])\n",
    "df = df[df[\"DATE\"] >= \"2019-09-01\"] #year to start, i will take arbitrary last 5 market years\n",
    "df = df.drop(columns=[\"Unnamed: 0\"])\n",
    "df[\"MY\"] = df.apply(get_market_year, axis=1)\n",
    "df[\"MONTH\"] = df[\"DATE\"].dt.month\n",
    "df[\"YEAR-MONTH\"] = df[\"DATE\"].dt.to_period(\"M\")\n",
    "\n",
    "current = df[df[\"MY\"] == \"2024/2025\"].copy() #copy current MY\n",
    "df = df[df[\"MY\"] != \"2024/2025\"] #remove current MY"
   ]
  },
  {
   "cell_type": "code",
   "execution_count": 13,
   "metadata": {},
   "outputs": [],
   "source": [
    "temp = df[[\"TN\", \"TX\", \"TM\", \"DEP\", \"MONTH\"]].groupby([\"DEP\", \"MONTH\"]).mean().reset_index()\n",
    "meanDailyPrecip = df[[\"RR\", \"DEP\", \"DATE\"]].groupby([\"DEP\", \"DATE\"]).mean().reset_index()\n",
    "meanDailyPrecip[\"YEAR-MONTH\"] = pd.to_datetime(meanDailyPrecip[\"DATE\"]).dt.to_period(\"M\")\n",
    "sumMonthlyPrecip = meanDailyPrecip[[\"DEP\", \"RR\", \"YEAR-MONTH\"]].groupby([\"DEP\", \"YEAR-MONTH\"]).sum().reset_index()\n",
    "sumMonthlyPrecip[\"MONTH\"] = sumMonthlyPrecip[\"YEAR-MONTH\"].dt.month\n",
    "precip = sumMonthlyPrecip[[\"MONTH\", \"RR\", \"DEP\"]].groupby([\"DEP\", \"MONTH\"]).mean().reset_index()"
   ]
  },
  {
   "cell_type": "code",
   "execution_count": 14,
   "metadata": {},
   "outputs": [],
   "source": [
    "weather = pd.merge(temp, precip, on=[\"DEP\", \"MONTH\"], how=\"inner\")"
   ]
  },
  {
   "cell_type": "code",
   "execution_count": 7,
   "metadata": {},
   "outputs": [],
   "source": [
    "weather.to_csv(\"../YieldModel/data/forecast/currentYear/historic_mean_weather.csv\")"
   ]
  },
  {
   "cell_type": "markdown",
   "metadata": {},
   "source": [
    "Same for the current year"
   ]
  },
  {
   "cell_type": "code",
   "execution_count": 16,
   "metadata": {},
   "outputs": [],
   "source": [
    "temp = current[[\"TN\", \"TX\", \"TM\", \"DEP\", \"MONTH\"]].groupby([\"DEP\", \"MONTH\"]).mean().reset_index()\n",
    "meanDailyPrecip = current[[\"RR\", \"DEP\", \"DATE\"]].groupby([\"DEP\", \"DATE\"]).mean().reset_index()\n",
    "meanDailyPrecip[\"YEAR-MONTH\"] = pd.to_datetime(meanDailyPrecip[\"DATE\"]).dt.to_period(\"M\")\n",
    "sumMonthlyPrecip = meanDailyPrecip[[\"DEP\", \"RR\", \"YEAR-MONTH\"]].groupby([\"DEP\", \"YEAR-MONTH\"]).sum().reset_index()\n",
    "sumMonthlyPrecip[\"MONTH\"] = sumMonthlyPrecip[\"YEAR-MONTH\"].dt.month\n",
    "precip = sumMonthlyPrecip[[\"MONTH\", \"RR\", \"DEP\"]].groupby([\"DEP\", \"MONTH\"]).mean().reset_index()"
   ]
  },
  {
   "cell_type": "code",
   "execution_count": 17,
   "metadata": {},
   "outputs": [],
   "source": [
    "currentWeather = pd.merge(temp, precip, on=[\"DEP\", \"MONTH\"], how=\"inner\")"
   ]
  },
  {
   "cell_type": "code",
   "execution_count": 19,
   "metadata": {},
   "outputs": [],
   "source": [
    "currentWeather.to_csv(\"../YieldModel/data/forecast/currentYear/current_mean_weather.csv\")"
   ]
  }
 ],
 "metadata": {
  "kernelspec": {
   "display_name": "conda-env",
   "language": "python",
   "name": "python3"
  },
  "language_info": {
   "codemirror_mode": {
    "name": "ipython",
    "version": 3
   },
   "file_extension": ".py",
   "mimetype": "text/x-python",
   "name": "python",
   "nbconvert_exporter": "python",
   "pygments_lexer": "ipython3",
   "version": "3.12.8"
  }
 },
 "nbformat": 4,
 "nbformat_minor": 2
}
