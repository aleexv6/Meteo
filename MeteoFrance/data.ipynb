{
 "cells": [
  {
   "cell_type": "code",
   "execution_count": 4,
   "metadata": {},
   "outputs": [],
   "source": [
    "import requests\n",
    "from config import DATA_DOWNLOAD_URL\n",
    "import pandas as pd\n",
    "import io\n",
    "import gzip"
   ]
  },
  {
   "cell_type": "code",
   "execution_count": 2,
   "metadata": {},
   "outputs": [],
   "source": [
    "df = pd.DataFrame(columns=[\"DATE\", \"DEP\", \"RR\", \"TN\", \"TX\", \"TM\"])"
   ]
  },
  {
   "cell_type": "code",
   "execution_count": null,
   "metadata": {},
   "outputs": [],
   "source": [
    "for i in range(95):\n",
    "    print(f\"{i+1:02d}\")\n",
    "    url = f\"https://object.files.data.gouv.fr/meteofrance/data/synchro_ftp/BASE/QUOT/Q_{i+1:02d}_previous-1950-2023_RR-T-Vent.csv.gz\"\n",
    "    response = requests.get(url)\n",
    "\n",
    "    compressed_data = io.BytesIO(response.content)\n",
    "    decompressed_data = gzip.GzipFile(fileobj=compressed_data)\n",
    "\n",
    "    tmp = pd.read_csv(decompressed_data, sep=\";\")\n",
    "    tmp[\"DATE\"] = pd.to_datetime(tmp[\"AAAAMMJJ\"], format=\"%Y%m%d\") #string to date\n",
    "    tmp = tmp[tmp[\"DATE\"] >= \"1979-01-01\"].reset_index(drop=True) #filter by date\n",
    "    tmp['DEP'] = i+1\n",
    "    tmp = tmp[[\"DATE\", \"DEP\", \"RR\", \"TN\", \"TX\", \"TM\"]] #keep only, in order : Date, departement code, précipitations, temp min, temp max and moy temp\n",
    "    df = pd.concat([df, tmp])\n"
   ]
  },
  {
   "cell_type": "code",
   "execution_count": 3,
   "metadata": {},
   "outputs": [
    {
     "name": "stdout",
     "output_type": "stream",
     "text": [
      "01\n"
     ]
    },
    {
     "name": "stderr",
     "output_type": "stream",
     "text": [
      "C:\\Users\\alexl\\AppData\\Local\\Temp\\ipykernel_3440\\1035153152.py:14: FutureWarning: The behavior of DataFrame concatenation with empty or all-NA entries is deprecated. In a future version, this will no longer exclude empty or all-NA columns when determining the result dtypes. To retain the old behavior, exclude the relevant entries before the concat operation.\n",
      "  df = pd.concat([df, tmp])\n"
     ]
    },
    {
     "name": "stdout",
     "output_type": "stream",
     "text": [
      "02\n",
      "03\n",
      "04\n",
      "05\n",
      "06\n",
      "07\n",
      "08\n",
      "09\n",
      "10\n",
      "11\n",
      "12\n",
      "13\n",
      "14\n",
      "15\n",
      "16\n",
      "17\n",
      "18\n",
      "19\n",
      "20\n",
      "21\n",
      "22\n",
      "23\n",
      "24\n",
      "25\n",
      "26\n",
      "27\n",
      "28\n",
      "29\n",
      "30\n",
      "31\n",
      "32\n",
      "33\n",
      "34\n",
      "35\n",
      "36\n",
      "37\n",
      "38\n",
      "39\n",
      "40\n",
      "41\n",
      "42\n",
      "43\n",
      "44\n",
      "45\n",
      "46\n",
      "47\n",
      "48\n",
      "49\n",
      "50\n",
      "51\n",
      "52\n",
      "53\n",
      "54\n",
      "55\n",
      "56\n",
      "57\n",
      "58\n",
      "59\n",
      "60\n",
      "61\n",
      "62\n",
      "63\n",
      "64\n",
      "65\n",
      "66\n",
      "67\n",
      "68\n",
      "69\n",
      "70\n",
      "71\n",
      "72\n",
      "73\n",
      "74\n",
      "75\n",
      "76\n",
      "77\n",
      "78\n",
      "79\n",
      "80\n",
      "81\n",
      "82\n",
      "83\n",
      "84\n",
      "85\n",
      "86\n",
      "87\n",
      "88\n",
      "89\n",
      "90\n",
      "91\n",
      "92\n",
      "93\n",
      "94\n",
      "95\n"
     ]
    }
   ],
   "source": [
    "for i in range(95):\n",
    "    print(f\"{i+1:02d}\")\n",
    "    url = f\"https://object.files.data.gouv.fr/meteofrance/data/synchro_ftp/BASE/QUOT/Q_{i+1:02d}_latest-2024-2025_RR-T-Vent.csv.gz\"\n",
    "    response = requests.get(url)\n",
    "\n",
    "    compressed_data = io.BytesIO(response.content)\n",
    "    decompressed_data = gzip.GzipFile(fileobj=compressed_data)\n",
    "\n",
    "    tmp = pd.read_csv(decompressed_data, sep=\";\")\n",
    "    tmp[\"DATE\"] = pd.to_datetime(tmp[\"AAAAMMJJ\"], format=\"%Y%m%d\") #string to date\n",
    "    tmp = tmp[tmp[\"DATE\"] >= \"2024-09-01\"].reset_index(drop=True) #filter by date\n",
    "    tmp['DEP'] = i+1\n",
    "    tmp = tmp[[\"DATE\", \"DEP\", \"RR\", \"TN\", \"TX\", \"TM\"]] #keep only, in order : Date, departement code, précipitations, temp min, temp max and moy temp\n",
    "    df = pd.concat([df, tmp])"
   ]
  },
  {
   "cell_type": "code",
   "execution_count": 4,
   "metadata": {},
   "outputs": [],
   "source": [
    "df = df.reset_index(drop=True)"
   ]
  },
  {
   "cell_type": "code",
   "execution_count": 5,
   "metadata": {},
   "outputs": [],
   "source": [
    "df.to_csv(f\"{DATA_DOWNLOAD_URL}/rr_tn_tx_tm-current.csv\")"
   ]
  },
  {
   "cell_type": "code",
   "execution_count": null,
   "metadata": {},
   "outputs": [],
   "source": [
    "df.to_csv(f\"{DATA_DOWNLOAD_URL}/rr_tn_tx_tm-1950-2023.csv\")"
   ]
  },
  {
   "cell_type": "markdown",
   "metadata": {},
   "source": [
    "Make a mean file for each month, each departement for the last 20 years from 2003 to 2023"
   ]
  },
  {
   "cell_type": "code",
   "execution_count": 6,
   "metadata": {},
   "outputs": [],
   "source": [
    "df = pd.read_csv(f\"{DATA_DOWNLOAD_URL}/rr_tn_tx_tm-1950-2023.csv\")\n",
    "df = df[df[\"DATE\"] >= \"2003-01-01\"]\n",
    "df = df.dropna()\n",
    "df = df.drop(columns=[\"Unnamed: 0\"])"
   ]
  },
  {
   "cell_type": "code",
   "execution_count": 7,
   "metadata": {},
   "outputs": [],
   "source": [
    "dailyDepMean = df.groupby([\"DEP\", \"DATE\"]).mean().reset_index()\n",
    "dailyDepMean['YEAR-MONTH'] = pd.to_datetime(dailyDepMean[\"DATE\"]).dt.to_period('M') #new column with YYYY-MM format"
   ]
  },
  {
   "cell_type": "code",
   "execution_count": 9,
   "metadata": {},
   "outputs": [],
   "source": [
    "yearlyPrecip = dailyDepMean.groupby([\"DEP\", \"YEAR-MONTH\"]).sum()[\"RR\"].reset_index()\n",
    "yearlyPrecip['MONTH'] = yearlyPrecip['YEAR-MONTH'].dt.month\n",
    "monthlyPrecip = yearlyPrecip.groupby([\"MONTH\", \"DEP\"]).mean()['RR'].reset_index()"
   ]
  },
  {
   "cell_type": "code",
   "execution_count": 11,
   "metadata": {},
   "outputs": [],
   "source": [
    "yearlyTemp = dailyDepMean[[\"DEP\", \"YEAR-MONTH\", \"TN\", \"TX\", \"TM\"]].groupby([\"DEP\", \"YEAR-MONTH\"]).mean()[[\"TN\", \"TX\", \"TM\"]].reset_index()\n",
    "yearlyTemp['MONTH'] = yearlyTemp['YEAR-MONTH'].dt.month\n",
    "monthlyTemp = yearlyTemp.groupby([\"MONTH\", \"DEP\"]).mean()[[\"TN\", \"TX\", \"TM\"]].reset_index()"
   ]
  },
  {
   "cell_type": "code",
   "execution_count": 14,
   "metadata": {},
   "outputs": [
    {
     "data": {
      "text/html": [
       "<div>\n",
       "<style scoped>\n",
       "    .dataframe tbody tr th:only-of-type {\n",
       "        vertical-align: middle;\n",
       "    }\n",
       "\n",
       "    .dataframe tbody tr th {\n",
       "        vertical-align: top;\n",
       "    }\n",
       "\n",
       "    .dataframe thead th {\n",
       "        text-align: right;\n",
       "    }\n",
       "</style>\n",
       "<table border=\"1\" class=\"dataframe\">\n",
       "  <thead>\n",
       "    <tr style=\"text-align: right;\">\n",
       "      <th></th>\n",
       "      <th>MONTH</th>\n",
       "      <th>DEP</th>\n",
       "      <th>RR</th>\n",
       "      <th>TN</th>\n",
       "      <th>TX</th>\n",
       "      <th>TM</th>\n",
       "    </tr>\n",
       "  </thead>\n",
       "  <tbody>\n",
       "    <tr>\n",
       "      <th>0</th>\n",
       "      <td>1</td>\n",
       "      <td>1</td>\n",
       "      <td>111.142766</td>\n",
       "      <td>-1.012066</td>\n",
       "      <td>5.468150</td>\n",
       "      <td>1.859154</td>\n",
       "    </tr>\n",
       "    <tr>\n",
       "      <th>1</th>\n",
       "      <td>1</td>\n",
       "      <td>2</td>\n",
       "      <td>63.543750</td>\n",
       "      <td>1.204320</td>\n",
       "      <td>6.098548</td>\n",
       "      <td>3.519510</td>\n",
       "    </tr>\n",
       "    <tr>\n",
       "      <th>2</th>\n",
       "      <td>1</td>\n",
       "      <td>3</td>\n",
       "      <td>60.424884</td>\n",
       "      <td>0.512403</td>\n",
       "      <td>6.722931</td>\n",
       "      <td>3.370427</td>\n",
       "    </tr>\n",
       "    <tr>\n",
       "      <th>3</th>\n",
       "      <td>1</td>\n",
       "      <td>4</td>\n",
       "      <td>49.107585</td>\n",
       "      <td>-3.260030</td>\n",
       "      <td>8.497296</td>\n",
       "      <td>1.471727</td>\n",
       "    </tr>\n",
       "    <tr>\n",
       "      <th>4</th>\n",
       "      <td>1</td>\n",
       "      <td>5</td>\n",
       "      <td>53.761693</td>\n",
       "      <td>-4.779385</td>\n",
       "      <td>6.117791</td>\n",
       "      <td>-0.398876</td>\n",
       "    </tr>\n",
       "    <tr>\n",
       "      <th>...</th>\n",
       "      <td>...</td>\n",
       "      <td>...</td>\n",
       "      <td>...</td>\n",
       "      <td>...</td>\n",
       "      <td>...</td>\n",
       "      <td>...</td>\n",
       "    </tr>\n",
       "    <tr>\n",
       "      <th>1135</th>\n",
       "      <td>12</td>\n",
       "      <td>91</td>\n",
       "      <td>62.340454</td>\n",
       "      <td>2.318371</td>\n",
       "      <td>7.686998</td>\n",
       "      <td>4.862220</td>\n",
       "    </tr>\n",
       "    <tr>\n",
       "      <th>1136</th>\n",
       "      <td>12</td>\n",
       "      <td>92</td>\n",
       "      <td>46.580000</td>\n",
       "      <td>4.584866</td>\n",
       "      <td>9.176586</td>\n",
       "      <td>6.604274</td>\n",
       "    </tr>\n",
       "    <tr>\n",
       "      <th>1137</th>\n",
       "      <td>12</td>\n",
       "      <td>93</td>\n",
       "      <td>44.542857</td>\n",
       "      <td>4.257143</td>\n",
       "      <td>8.658894</td>\n",
       "      <td>6.340369</td>\n",
       "    </tr>\n",
       "    <tr>\n",
       "      <th>1138</th>\n",
       "      <td>12</td>\n",
       "      <td>94</td>\n",
       "      <td>64.388095</td>\n",
       "      <td>3.248771</td>\n",
       "      <td>8.242857</td>\n",
       "      <td>5.538479</td>\n",
       "    </tr>\n",
       "    <tr>\n",
       "      <th>1139</th>\n",
       "      <td>12</td>\n",
       "      <td>95</td>\n",
       "      <td>67.056525</td>\n",
       "      <td>2.832297</td>\n",
       "      <td>7.876640</td>\n",
       "      <td>5.230442</td>\n",
       "    </tr>\n",
       "  </tbody>\n",
       "</table>\n",
       "<p>1140 rows × 6 columns</p>\n",
       "</div>"
      ],
      "text/plain": [
       "      MONTH  DEP          RR        TN        TX        TM\n",
       "0         1    1  111.142766 -1.012066  5.468150  1.859154\n",
       "1         1    2   63.543750  1.204320  6.098548  3.519510\n",
       "2         1    3   60.424884  0.512403  6.722931  3.370427\n",
       "3         1    4   49.107585 -3.260030  8.497296  1.471727\n",
       "4         1    5   53.761693 -4.779385  6.117791 -0.398876\n",
       "...     ...  ...         ...       ...       ...       ...\n",
       "1135     12   91   62.340454  2.318371  7.686998  4.862220\n",
       "1136     12   92   46.580000  4.584866  9.176586  6.604274\n",
       "1137     12   93   44.542857  4.257143  8.658894  6.340369\n",
       "1138     12   94   64.388095  3.248771  8.242857  5.538479\n",
       "1139     12   95   67.056525  2.832297  7.876640  5.230442\n",
       "\n",
       "[1140 rows x 6 columns]"
      ]
     },
     "execution_count": 14,
     "metadata": {},
     "output_type": "execute_result"
    }
   ],
   "source": [
    "meteoFranceMean = pd.merge(monthlyPrecip, monthlyTemp, on=[\"MONTH\", \"DEP\"], how='inner')\n",
    "meteoFranceMean"
   ]
  },
  {
   "cell_type": "code",
   "execution_count": null,
   "metadata": {},
   "outputs": [],
   "source": []
  }
 ],
 "metadata": {
  "kernelspec": {
   "display_name": "conda-env",
   "language": "python",
   "name": "python3"
  },
  "language_info": {
   "codemirror_mode": {
    "name": "ipython",
    "version": 3
   },
   "file_extension": ".py",
   "mimetype": "text/x-python",
   "name": "python",
   "nbconvert_exporter": "python",
   "pygments_lexer": "ipython3",
   "version": "3.12.8"
  }
 },
 "nbformat": 4,
 "nbformat_minor": 2
}
