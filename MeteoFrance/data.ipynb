{
 "cells": [
  {
   "cell_type": "code",
   "execution_count": 7,
   "metadata": {},
   "outputs": [],
   "source": [
    "import requests\n",
    "from config import DATA_DOWNLOAD_URL\n",
    "import pandas as pd\n",
    "import io\n",
    "import gzip\n",
    "import numpy as np\n",
    "from datetime import datetime"
   ]
  },
  {
   "cell_type": "code",
   "execution_count": 8,
   "metadata": {},
   "outputs": [],
   "source": [
    "def get_market_year(row): #make a market year row in datas\n",
    "    year = row['DATE'].year\n",
    "    month = row['DATE'].month\n",
    "    if month >= 9:\n",
    "        market_year = f\"{year}/{year + 1}\"\n",
    "    else:\n",
    "        market_year = f\"{year - 1}/{year}\"\n",
    "    return market_year"
   ]
  },
  {
   "cell_type": "code",
   "execution_count": 3,
   "metadata": {},
   "outputs": [],
   "source": [
    "df = pd.DataFrame(columns=[\"DATE\", \"DEP\", \"RR\", \"TN\", \"TX\", \"TM\"])#, \"UM\"])"
   ]
  },
  {
   "cell_type": "code",
   "execution_count": null,
   "metadata": {},
   "outputs": [],
   "source": [
    "for i in range(95):\n",
    "    print(i)\n",
    "    url = f\"https://object.files.data.gouv.fr/meteofrance/data/synchro_ftp/BASE/QUOT/Q_{i+1:02d}_previous-1950-2023_RR-T-Vent.csv.gz\"\n",
    "    response = requests.get(url)\n",
    "\n",
    "    compressed_data = io.BytesIO(response.content)\n",
    "    decompressed_data = gzip.GzipFile(fileobj=compressed_data)\n",
    "\n",
    "    tmp = pd.read_csv(decompressed_data, sep=\";\")\n",
    "    tmp[\"DATE\"] = pd.to_datetime(tmp[\"AAAAMMJJ\"], format=\"%Y%m%d\") #string to date\n",
    "    tmp['DEP'] = i+1\n",
    "    tmp = tmp[[\"DATE\", \"DEP\", \"RR\", \"TN\", \"TX\", \"TM\"]] #keep only, in order : Date, departement code, précipitations, temp min, temp max and moy temp\n",
    "    df = pd.concat([df, tmp])\n",
    "df.to_csv(f\"{DATA_DOWNLOAD_URL}/raw_rr_tn_tx_tm-1950-2023.csv\")"
   ]
  },
  {
   "cell_type": "code",
   "execution_count": null,
   "metadata": {},
   "outputs": [],
   "source": [
    "#data for current market year\n",
    "for i in range(95):\n",
    "    print(i)\n",
    "    url = f\"https://object.files.data.gouv.fr/meteofrance/data/synchro_ftp/BASE/QUOT/Q_{i+1:02d}_latest-2024-2025_RR-T-Vent.csv.gz\"\n",
    "    response = requests.get(url)\n",
    "\n",
    "    compressed_data = io.BytesIO(response.content)\n",
    "    decompressed_data = gzip.GzipFile(fileobj=compressed_data)\n",
    "\n",
    "    tmp = pd.read_csv(decompressed_data, sep=\";\")\n",
    "    tmp[\"DATE\"] = pd.to_datetime(tmp[\"AAAAMMJJ\"], format=\"%Y%m%d\") #string to date\n",
    "    tmp['DEP'] = i+1\n",
    "    tmp = tmp[[\"DATE\", \"DEP\", \"RR\", \"TN\", \"TX\", \"TM\"]] #keep only, in order : Date, departement code, précipitations, temp min, temp max and moy temp\n",
    "    df = pd.concat([df, tmp])\n",
    "df.to_csv(f\"{DATA_DOWNLOAD_URL}/raw_rr_tn_tx_tm-current.csv\")"
   ]
  },
  {
   "cell_type": "markdown",
   "metadata": {},
   "source": [
    "Make a mean file for x last year and fo each month, each departement"
   ]
  },
  {
   "cell_type": "code",
   "execution_count": null,
   "metadata": {},
   "outputs": [],
   "source": [
    "df = pd.read_csv(f\"{DATA_DOWNLOAD_URL}/raw_rr_tn_tx_tm-1950-2023.csv\")\n",
    "df[\"DATE\"] = pd.to_datetime(df[\"DATE\"])\n",
    "df = df[df[\"DATE\"] >= \"2019-09-01\"] #year to start, i will take arbitrary last 5 market years\n",
    "df = df.drop(columns=[\"Unnamed: 0\"])\n",
    "df[\"MY\"] = df.apply(get_market_year, axis=1)\n",
    "df[\"MONTH\"] = df[\"DATE\"].dt.month\n",
    "df[\"YEAR-MONTH\"] = df[\"DATE\"].dt.to_period(\"M\")"
   ]
  },
  {
   "cell_type": "code",
   "execution_count": 13,
   "metadata": {},
   "outputs": [],
   "source": [
    "temp = df[[\"TN\", \"TX\", \"TM\", \"DEP\", \"MONTH\"]].groupby([\"DEP\", \"MONTH\"]).mean().reset_index()\n",
    "meanDailyPrecip = df[[\"RR\", \"DEP\", \"DATE\"]].groupby([\"DEP\", \"DATE\"]).mean().reset_index()\n",
    "meanDailyPrecip[\"YEAR-MONTH\"] = pd.to_datetime(meanDailyPrecip[\"DATE\"]).dt.to_period(\"M\")\n",
    "sumMonthlyPrecip = meanDailyPrecip[[\"DEP\", \"RR\", \"YEAR-MONTH\"]].groupby([\"DEP\", \"YEAR-MONTH\"]).sum().reset_index()\n",
    "sumMonthlyPrecip[\"MONTH\"] = sumMonthlyPrecip[\"YEAR-MONTH\"].dt.month\n",
    "precip = sumMonthlyPrecip[[\"MONTH\", \"RR\", \"DEP\"]].groupby([\"DEP\", \"MONTH\"]).mean().reset_index()"
   ]
  },
  {
   "cell_type": "code",
   "execution_count": 14,
   "metadata": {},
   "outputs": [],
   "source": [
    "weather = pd.merge(temp, precip, on=[\"DEP\", \"MONTH\"], how=\"inner\")"
   ]
  },
  {
   "cell_type": "code",
   "execution_count": 7,
   "metadata": {},
   "outputs": [],
   "source": [
    "weather.to_csv(\"../YieldModel/data/forecast/currentYear/historic_mean_weather.csv\")"
   ]
  },
  {
   "cell_type": "markdown",
   "metadata": {},
   "source": [
    "Same for the current year"
   ]
  },
  {
   "cell_type": "code",
   "execution_count": 12,
   "metadata": {},
   "outputs": [
    {
     "name": "stderr",
     "output_type": "stream",
     "text": [
      "C:\\Users\\alexl\\AppData\\Local\\Temp\\ipykernel_2968\\732414382.py:1: DtypeWarning: Columns (7,9) have mixed types. Specify dtype option on import or set low_memory=False.\n",
      "  df = pd.read_csv(f\"{DATA_DOWNLOAD_URL}/raw_rr_tn_tx_tm-current.csv\")\n"
     ]
    }
   ],
   "source": [
    "df = pd.read_csv(f\"{DATA_DOWNLOAD_URL}/raw_rr_tn_tx_tm-current.csv\")\n",
    "df[\"DATE\"] = pd.to_datetime(df[\"DATE\"])\n",
    "df = df.drop(columns=[\"Unnamed: 0\"])\n",
    "df = df[df[\"DATE\"] >= \"2024-09-01\"]\n",
    "df[\"MY\"] = df.apply(get_market_year, axis=1)\n",
    "df[\"MONTH\"] = df[\"DATE\"].dt.month\n",
    "df[\"YEAR-MONTH\"] = df[\"DATE\"].dt.to_period(\"M\")\n",
    "\n",
    "temp = df[[\"TN\", \"TX\", \"TM\", \"DEP\", \"MONTH\"]].groupby([\"DEP\", \"MONTH\"]).mean().reset_index()\n",
    "meanDailyPrecip = df[[\"RR\", \"DEP\", \"DATE\"]].groupby([\"DEP\", \"DATE\"]).mean().reset_index()\n",
    "meanDailyPrecip[\"YEAR-MONTH\"] = pd.to_datetime(meanDailyPrecip[\"DATE\"]).dt.to_period(\"M\")\n",
    "sumMonthlyPrecip = meanDailyPrecip[[\"DEP\", \"RR\", \"YEAR-MONTH\"]].groupby([\"DEP\", \"YEAR-MONTH\"]).sum().reset_index()\n",
    "sumMonthlyPrecip[\"MONTH\"] = sumMonthlyPrecip[\"YEAR-MONTH\"].dt.month\n",
    "precip = sumMonthlyPrecip[[\"MONTH\", \"RR\", \"DEP\"]].groupby([\"DEP\", \"MONTH\"]).mean().reset_index()"
   ]
  },
  {
   "cell_type": "code",
   "execution_count": 13,
   "metadata": {},
   "outputs": [],
   "source": [
    "currentWeather = pd.merge(temp, precip, on=[\"DEP\", \"MONTH\"], how=\"inner\")"
   ]
  },
  {
   "cell_type": "code",
   "execution_count": 14,
   "metadata": {},
   "outputs": [
    {
     "data": {
      "text/html": [
       "<div>\n",
       "<style scoped>\n",
       "    .dataframe tbody tr th:only-of-type {\n",
       "        vertical-align: middle;\n",
       "    }\n",
       "\n",
       "    .dataframe tbody tr th {\n",
       "        vertical-align: top;\n",
       "    }\n",
       "\n",
       "    .dataframe thead th {\n",
       "        text-align: right;\n",
       "    }\n",
       "</style>\n",
       "<table border=\"1\" class=\"dataframe\">\n",
       "  <thead>\n",
       "    <tr style=\"text-align: right;\">\n",
       "      <th></th>\n",
       "      <th>DEP</th>\n",
       "      <th>MONTH</th>\n",
       "      <th>TN</th>\n",
       "      <th>TX</th>\n",
       "      <th>TM</th>\n",
       "      <th>RR</th>\n",
       "    </tr>\n",
       "  </thead>\n",
       "  <tbody>\n",
       "    <tr>\n",
       "      <th>0</th>\n",
       "      <td>1</td>\n",
       "      <td>1</td>\n",
       "      <td>-0.345996</td>\n",
       "      <td>7.201643</td>\n",
       "      <td>3.253289</td>\n",
       "      <td>164.560000</td>\n",
       "    </tr>\n",
       "    <tr>\n",
       "      <th>1</th>\n",
       "      <td>1</td>\n",
       "      <td>2</td>\n",
       "      <td>1.130804</td>\n",
       "      <td>9.039062</td>\n",
       "      <td>4.476190</td>\n",
       "      <td>43.906667</td>\n",
       "    </tr>\n",
       "    <tr>\n",
       "      <th>2</th>\n",
       "      <td>1</td>\n",
       "      <td>3</td>\n",
       "      <td>2.385484</td>\n",
       "      <td>13.458669</td>\n",
       "      <td>7.526667</td>\n",
       "      <td>58.786667</td>\n",
       "    </tr>\n",
       "    <tr>\n",
       "      <th>3</th>\n",
       "      <td>1</td>\n",
       "      <td>4</td>\n",
       "      <td>5.412083</td>\n",
       "      <td>18.343333</td>\n",
       "      <td>11.664444</td>\n",
       "      <td>116.833333</td>\n",
       "    </tr>\n",
       "    <tr>\n",
       "      <th>4</th>\n",
       "      <td>1</td>\n",
       "      <td>5</td>\n",
       "      <td>8.299683</td>\n",
       "      <td>20.197143</td>\n",
       "      <td>13.854286</td>\n",
       "      <td>89.850000</td>\n",
       "    </tr>\n",
       "    <tr>\n",
       "      <th>5</th>\n",
       "      <td>1</td>\n",
       "      <td>9</td>\n",
       "      <td>10.424792</td>\n",
       "      <td>20.138958</td>\n",
       "      <td>14.705111</td>\n",
       "      <td>175.386667</td>\n",
       "    </tr>\n",
       "    <tr>\n",
       "      <th>6</th>\n",
       "      <td>1</td>\n",
       "      <td>10</td>\n",
       "      <td>9.366935</td>\n",
       "      <td>18.344153</td>\n",
       "      <td>13.221382</td>\n",
       "      <td>171.293333</td>\n",
       "    </tr>\n",
       "    <tr>\n",
       "      <th>7</th>\n",
       "      <td>1</td>\n",
       "      <td>11</td>\n",
       "      <td>3.049893</td>\n",
       "      <td>11.362955</td>\n",
       "      <td>6.764531</td>\n",
       "      <td>62.060000</td>\n",
       "    </tr>\n",
       "    <tr>\n",
       "      <th>8</th>\n",
       "      <td>1</td>\n",
       "      <td>12</td>\n",
       "      <td>-1.229032</td>\n",
       "      <td>5.622151</td>\n",
       "      <td>1.805300</td>\n",
       "      <td>127.660000</td>\n",
       "    </tr>\n",
       "    <tr>\n",
       "      <th>9</th>\n",
       "      <td>2</td>\n",
       "      <td>1</td>\n",
       "      <td>0.781360</td>\n",
       "      <td>6.295226</td>\n",
       "      <td>3.237215</td>\n",
       "      <td>126.800000</td>\n",
       "    </tr>\n",
       "    <tr>\n",
       "      <th>10</th>\n",
       "      <td>2</td>\n",
       "      <td>2</td>\n",
       "      <td>1.384615</td>\n",
       "      <td>7.481593</td>\n",
       "      <td>4.073077</td>\n",
       "      <td>42.330769</td>\n",
       "    </tr>\n",
       "    <tr>\n",
       "      <th>11</th>\n",
       "      <td>2</td>\n",
       "      <td>3</td>\n",
       "      <td>2.333995</td>\n",
       "      <td>14.007692</td>\n",
       "      <td>7.756824</td>\n",
       "      <td>11.707692</td>\n",
       "    </tr>\n",
       "  </tbody>\n",
       "</table>\n",
       "</div>"
      ],
      "text/plain": [
       "    DEP  MONTH         TN         TX         TM          RR\n",
       "0     1      1  -0.345996   7.201643   3.253289  164.560000\n",
       "1     1      2   1.130804   9.039062   4.476190   43.906667\n",
       "2     1      3   2.385484  13.458669   7.526667   58.786667\n",
       "3     1      4   5.412083  18.343333  11.664444  116.833333\n",
       "4     1      5   8.299683  20.197143  13.854286   89.850000\n",
       "5     1      9  10.424792  20.138958  14.705111  175.386667\n",
       "6     1     10   9.366935  18.344153  13.221382  171.293333\n",
       "7     1     11   3.049893  11.362955   6.764531   62.060000\n",
       "8     1     12  -1.229032   5.622151   1.805300  127.660000\n",
       "9     2      1   0.781360   6.295226   3.237215  126.800000\n",
       "10    2      2   1.384615   7.481593   4.073077   42.330769\n",
       "11    2      3   2.333995  14.007692   7.756824   11.707692"
      ]
     },
     "execution_count": 14,
     "metadata": {},
     "output_type": "execute_result"
    }
   ],
   "source": [
    "currentWeather.head(12)"
   ]
  },
  {
   "cell_type": "code",
   "execution_count": 15,
   "metadata": {},
   "outputs": [],
   "source": [
    "currentWeather.to_csv(\"../YieldModel/data/forecast/currentYear/current_mean_weather.csv\")"
   ]
  },
  {
   "cell_type": "code",
   "execution_count": null,
   "metadata": {},
   "outputs": [],
   "source": []
  }
 ],
 "metadata": {
  "kernelspec": {
   "display_name": "conda-env",
   "language": "python",
   "name": "python3"
  },
  "language_info": {
   "codemirror_mode": {
    "name": "ipython",
    "version": 3
   },
   "file_extension": ".py",
   "mimetype": "text/x-python",
   "name": "python",
   "nbconvert_exporter": "python",
   "pygments_lexer": "ipython3",
   "version": "3.12.8"
  }
 },
 "nbformat": 4,
 "nbformat_minor": 2
}
