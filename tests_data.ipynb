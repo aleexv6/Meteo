{
 "cells": [
  {
   "cell_type": "code",
   "execution_count": 20,
   "id": "36b2c960-ab88-4b74-81a6-b3a4454f9090",
   "metadata": {},
   "outputs": [],
   "source": [
    "import pandas as pd\n",
    "import os"
   ]
  },
  {
   "cell_type": "code",
   "execution_count": null,
   "id": "9825f4a9-470e-4479-9519-04289f632c7f",
   "metadata": {},
   "outputs": [],
   "source": [
    "norm = [2000, 2001, 2002, 2003, 2004, 2005, 2006, 2007, 2008, 2009, 2010, 2011, 2012, 2013, 2014, 2015, 2016, 2017, 2018, 2019, 2020, 2021, 2022, 2023]\n",
    "directory = 'C:/Users/alexl/Dropbox/Alex/aleexv6Corporation/Trading/Data/Meteo/Final'\n",
    "for filename in os.listdir(directory):\n",
    "    df = pd.read_csv(f'{directory}/{filename}', low_memory=False, parse_dates=['DATE'])\n",
    "    years = df['DATE'].dt.year.unique()\n",
    "    lol = True if norm == sorted(years) else False\n",
    "    print(f'{filename} {lol}')"
   ]
  },
  {
   "cell_type": "code",
   "execution_count": 17,
   "id": "c78a9548-f1cf-48dd-98c8-6d026c0331ff",
   "metadata": {},
   "outputs": [
    {
     "data": {
      "text/plain": [
       "False"
      ]
     },
     "execution_count": 17,
     "metadata": {},
     "output_type": "execute_result"
    }
   ],
   "source": [
    "years = df['DATE'].dt.year.unique()\n",
    "lol = True if norm == sorted(years) else False\n",
    "lol"
   ]
  },
  {
   "cell_type": "code",
   "execution_count": null,
   "id": "9e45fb34-a2f0-4401-a2f2-6dd482a1f827",
   "metadata": {},
   "outputs": [],
   "source": []
  }
 ],
 "metadata": {
  "kernelspec": {
   "display_name": "Python 3 (ipykernel)",
   "language": "python",
   "name": "python3"
  },
  "language_info": {
   "codemirror_mode": {
    "name": "ipython",
    "version": 3
   },
   "file_extension": ".py",
   "mimetype": "text/x-python",
   "name": "python",
   "nbconvert_exporter": "python",
   "pygments_lexer": "ipython3",
   "version": "3.10.11"
  }
 },
 "nbformat": 4,
 "nbformat_minor": 5
}
