{
 "cells": [
  {
   "cell_type": "code",
   "execution_count": 1,
   "id": "356ba983-819d-4f28-a951-07030dc460f8",
   "metadata": {},
   "outputs": [],
   "source": [
    "import pandas as pd\n",
    "import requests\n",
    "import os\n",
    "import xarray as xr\n",
    "import numpy as np\n",
    "import gzip\n",
    "import shutil\n",
    "import glob\n",
    "from config import BASE_URL"
   ]
  },
  {
   "cell_type": "code",
   "execution_count": 2,
   "id": "0d9cc564-3a6e-4f0c-a377-ebc259ca8f95",
   "metadata": {},
   "outputs": [],
   "source": [
    "def dl_weather_history(departement):\n",
    "    url = f'https://object.files.data.gouv.fr/meteofrance/data/synchro_ftp/BASE/HOR/H_{departement}_latest-2023-2024.csv.gz'\n",
    "    try:\n",
    "        r = requests.get(url)\n",
    "        r.raise_for_status()\n",
    "        with open(f\"{BASE_URL}Meteo/AromeAccuracy/data/MeteoFrance/H_{departement}_latest-2023-2024.csv.gz\", \"wb\") as f:\n",
    "            f.write(r.content)\n",
    "        with gzip.open(f'{BASE_URL}Meteo/AromeAccuracy/data/MeteoFrance/H_{departement}_latest-2023-2024.csv.gz', 'rb') as f_in:\n",
    "            with open(f'{BASE_URL}Meteo/AromeAccuracy/data/MeteoFrance/H_{departement}_latest-2023-2024.csv', 'wb') as f_out:\n",
    "                shutil.copyfileobj(f_in, f_out)\n",
    "    except requests.exceptions.RequestException as e:\n",
    "        print(f\"Error downloading the file: {e}\")\n",
    "    except Exception as e:\n",
    "        print(f\"An error occurred: {e}\")\n",
    "departements = [f\"{dep:02}\" for dep in range(1, 96)]\n",
    "for dep in departements:\n",
    "    dl_weather_history(dep)"
   ]
  },
  {
   "cell_type": "code",
   "execution_count": 3,
   "id": "5c3d30a6-783d-4724-b698-cf099d8aa2e7",
   "metadata": {},
   "outputs": [],
   "source": [
    "def make_df(url):\n",
    "    dfList = []\n",
    "    os.chdir(str(url))\n",
    "    files = glob.glob('*.{}'.format('csv'))\n",
    "    for file in files:\n",
    "        #We accept a small loss of data in Latitude and Longitude by specifiying float32 for memory purpose\n",
    "        tmp = pd.read_csv(f'{url}/{file}', sep=';', usecols=['LAT', 'LON', 'AAAAMMJJHH', 'RR1', 'T'], dtype={'LAT':'float32', 'LON':'float32', 'AAAAMMJJHH':'int32', 'RR1':'float32', 'T':'float32'})\n",
    "        tmp['AAAAMMJJHH'] = pd.to_datetime(tmp['AAAAMMJJHH'], format='%Y%m%d%H')\n",
    "        datemax = pd.Timestamp.now().date() - pd.Timedelta(14, \"d\")\n",
    "        tmp = tmp[tmp['AAAAMMJJHH'].dt.date >= datemax].reset_index(drop=True)\n",
    "        dfList.append(tmp)\n",
    "    df = pd.concat(dfList)\n",
    "    return df"
   ]
  },
  {
   "cell_type": "code",
   "execution_count": 4,
   "id": "bbd72251-ee1f-439d-914c-294e67f26b5a",
   "metadata": {},
   "outputs": [],
   "source": [
    "df = make_df(f'{BASE_URL}Meteo/AromeAccuracy/data/MeteoFrance/')"
   ]
  },
  {
   "cell_type": "code",
   "execution_count": 5,
   "id": "a22f11cd-e4c9-4307-a9e1-f807bf2b814a",
   "metadata": {},
   "outputs": [],
   "source": [
    "def download_grib_025(date): #date format : 2024-08-26T06:00:00Z\n",
    "    prevision_list = ['00H06H','07H12H','13H18H','19H24H','25H30H','31H36H','37H42H','43H48H']\n",
    "    if os.path.isdir(f\"{BASE_URL}Meteo/AromeAccuracy/data/arome/{date.replace(':', '-')}\"): #remove dir if exists\n",
    "        shutil.rmtree(f\"{BASE_URL}Meteo/AromeAccuracy/data/arome/{date.replace(':', '-')}\")\n",
    "    if not os.path.isdir(f\"{BASE_URL}Meteo/AromeAccuracy/data/arome/{date.replace(':', '-')}\"): #create dir if doesnt exists\n",
    "        os.mkdir(f\"{BASE_URL}Meteo/AromeAccuracy/data/arome/{date.replace(':', '-')}\")\n",
    "    for i in prevision_list:\n",
    "        url = f\"https://object.data.gouv.fr/meteofrance-pnt/pnt/{date}/arome/0025/SP1/arome__0025__SP1__{i}__{date}.grib2\"\n",
    "        try:\n",
    "            r = requests.get(url)\n",
    "            with open(f\"{BASE_URL}Meteo/AromeAccuracy/data/arome/{date.replace(':', '-')}/arome__0025__SP1__{i}__{date.replace(':', '-')}.grib2\", \"wb\") as f:\n",
    "                f.write(r.content)\n",
    "        except Exception as e:\n",
    "                print(f\"An error occurred: {e}\")"
   ]
  },
  {
   "cell_type": "code",
   "execution_count": 6,
   "id": "8b19a4ad-0e94-4d6e-9592-1c2975b99c36",
   "metadata": {},
   "outputs": [],
   "source": [
    "for date in df['AAAAMMJJHH'].dt.date.unique():\n",
    "    download_grib_025(str(date)+\"T00:00:00Z\")"
   ]
  },
  {
   "cell_type": "code",
   "execution_count": 6,
   "id": "8d87b930-c362-47be-b36b-5de462eb2ea7",
   "metadata": {},
   "outputs": [],
   "source": [
    "def grib_to_dataframe(date, base_path):\n",
    "    directory = f\"{base_path}/{date.replace(':', '-')}\"\n",
    "    file_list = [os.path.join(directory, file.replace(':', '-')) for file in os.listdir(directory)]\n",
    "\n",
    "    backend_kwargs = [\n",
    "        {'filter_by_keys': {'paramId': 167, 'level': 2}}, #temperature\n",
    "        {'filter_by_keys': {'paramId': 228228}} #precipitations\n",
    "    ]\n",
    "\n",
    "    datasets = []\n",
    "    for file in file_list:\n",
    "        for bk in backend_kwargs:\n",
    "            ds = xr.open_dataset(file, engine='cfgrib', backend_kwargs=bk)\n",
    "            datasets.append(ds)\n",
    "\n",
    "    ds = xr.merge(datasets)\n",
    "    return ds"
   ]
  },
  {
   "cell_type": "code",
   "execution_count": 9,
   "id": "8709f639-f103-45ff-9053-18514ba18189",
   "metadata": {},
   "outputs": [],
   "source": [
    "arome_path = f\"{BASE_URL}Meteo/AromeAccuracy/data/arome\"\n",
    "#date = str(df['AAAAMMJJHH'].dt.date.unique()[0]) + \"T00:00:00Z\"\n",
    "datasets_list = []\n",
    "\n",
    "for i in df['AAAAMMJJHH'].dt.date.unique()[:-3]: #remove the 3 last days of arome because we do not have full weather station data (saving memory)\n",
    "    tmp = grib_to_dataframe(str(i)+\"T00:00:00Z\", arome_path)\n",
    "    datasets_list.append(tmp)"
   ]
  },
  {
   "cell_type": "code",
   "execution_count": 10,
   "id": "ec4cc06c-658c-47d1-85d0-10a3836f982c",
   "metadata": {},
   "outputs": [],
   "source": [
    "#Make a custom dataframe since I cant make xarray.Dataset.to_dataframe() keep the step and timedelta into the dataframe\n",
    "superdflist = []\n",
    "for dataset in datasets_list:\n",
    "    #set to float32 to save memory even if we lose some precision, we will find the nearest arome point next. \n",
    "    dataset['latitude'] = dataset['latitude'].astype('float32')\n",
    "    dataset['longitude'] = dataset['longitude'].astype('float32')\n",
    "    \n",
    "    step = dataset['step'].values #values of each step (48 times one hour)\n",
    "    valid_date = np.datetime64(dataset['valid_time'].values[0]) #first date value as np datetime to work with np timedelta\n",
    "    lst = []\n",
    "    for i in range(49): #number of steps\n",
    "        lat_grid, lon_grid = np.meshgrid(dataset['latitude'].values.round(3), dataset['longitude'].values.round(3), indexing='ij')\n",
    "        # flatten array\n",
    "        flat_temp = dataset['t2m'][i].values.flatten()\n",
    "        flat_precip = dataset['tp'][i].values.flatten()\n",
    "        flat_lat = lat_grid.flatten()\n",
    "        flat_lon = lon_grid.flatten()\n",
    "\n",
    "        # create dataframe\n",
    "        tmp = pd.DataFrame({\n",
    "            'Latitude': flat_lat,\n",
    "            'Longitude': flat_lon,\n",
    "            't2m': flat_temp,\n",
    "            'tp': flat_precip, \n",
    "            'DateTimePrevision': dataset['time'].values,\n",
    "            'DateTimeEffective': valid_date + step[i]\n",
    "        })\n",
    "        lst.append(tmp)\n",
    "    data = pd.concat(lst).reset_index(drop=True)\n",
    "    superdflist.append(data)\n",
    "superdf = pd.concat(superdflist)\n",
    "superdf = superdf.dropna()"
   ]
  },
  {
   "cell_type": "code",
   "execution_count": 11,
   "id": "b8463b29-5d36-43bf-86f9-442f81714aa4",
   "metadata": {},
   "outputs": [],
   "source": [
    "#find the nearest Arome LAT, LON from each station\n",
    "lat_lon_unique = [df['LAT'].unique(), df['LON'].unique()]\n",
    "nearest_lat_lon = []\n",
    "for lat, lon in zip(lat_lon_unique[0], lat_lon_unique[1]):    \n",
    "    nearest_lat_idx = (data['Latitude'] - lat).abs().idxmin()\n",
    "    nearest_lon_idx = (data['Longitude'] - lon).abs().idxmin()\n",
    "    nearest_lat_lon.append([lat, lon, data.iloc[nearest_lat_idx]['Latitude'], data.iloc[nearest_lon_idx]['Longitude']])\n",
    "nearest_lat_lon_df = pd.DataFrame(nearest_lat_lon, columns=['LAT', 'LON', 'Latitude', 'Longitude'])"
   ]
  },
  {
   "cell_type": "code",
   "execution_count": 28,
   "id": "54c36e62-0271-4b2b-8b07-4a9b8d05e346",
   "metadata": {},
   "outputs": [],
   "source": [
    "dfMerge = pd.merge(df, nearest_lat_lon_df, on=['LAT', 'LON'], how='inner')\n",
    "dfMerge = dfMerge.rename(columns={'AAAAMMJJHH':'DateTimeEffective'})\n",
    "end = pd.merge(dfMerge, superdf, on=['Latitude', 'Longitude', 'DateTimeEffective'], how='inner')\n",
    "end = end.sort_values(by=['DateTimePrevision', 'Latitude']).reset_index(drop=True) #we sort the df for the RR1 cumsum next\n",
    "end['t2m'] = end['t2m'] - 273.15 #temp is set to kelvin so we convert to °C"
   ]
  },
  {
   "cell_type": "code",
   "execution_count": 15,
   "id": "6bf66724-7830-4d27-82be-d9424a2b8022",
   "metadata": {},
   "outputs": [],
   "source": [
    "precipcumsum = end.groupby(['DateTimePrevision', 'Latitude', 'Longitude'])['RR1'].cumsum()"
   ]
  },
  {
   "cell_type": "code",
   "execution_count": 29,
   "id": "47d709fb-7906-432e-bd99-c5726bb0d6cb",
   "metadata": {},
   "outputs": [],
   "source": [
    "end['RR1Cumul'] = precipcumsum\n",
    "rr1Rain = end['RR1'] > 0\n",
    "tpRain = end['tp'].diff() > 0\n",
    "end['ForecastRight'] = rr1Rain == tpRain #if it rained or it did not rained for this hour"
   ]
  },
  {
   "cell_type": "code",
   "execution_count": 30,
   "id": "e9e614d4-1d26-4ab6-8555-d84f8a486242",
   "metadata": {},
   "outputs": [
    {
     "data": {
      "text/html": [
       "<div>\n",
       "<style scoped>\n",
       "    .dataframe tbody tr th:only-of-type {\n",
       "        vertical-align: middle;\n",
       "    }\n",
       "\n",
       "    .dataframe tbody tr th {\n",
       "        vertical-align: top;\n",
       "    }\n",
       "\n",
       "    .dataframe thead th {\n",
       "        text-align: right;\n",
       "    }\n",
       "</style>\n",
       "<table border=\"1\" class=\"dataframe\">\n",
       "  <thead>\n",
       "    <tr style=\"text-align: right;\">\n",
       "      <th></th>\n",
       "      <th>LAT</th>\n",
       "      <th>LON</th>\n",
       "      <th>DateTimeEffective</th>\n",
       "      <th>RR1</th>\n",
       "      <th>T</th>\n",
       "      <th>Latitude</th>\n",
       "      <th>Longitude</th>\n",
       "      <th>t2m</th>\n",
       "      <th>tp</th>\n",
       "      <th>DateTimePrevision</th>\n",
       "      <th>RR1Cumul</th>\n",
       "      <th>ForecastRight</th>\n",
       "    </tr>\n",
       "  </thead>\n",
       "  <tbody>\n",
       "    <tr>\n",
       "      <th>0</th>\n",
       "      <td>43.523666</td>\n",
       "      <td>6.898667</td>\n",
       "      <td>2024-10-11 01:00:00</td>\n",
       "      <td>0.0</td>\n",
       "      <td>14.3</td>\n",
       "      <td>43.525002</td>\n",
       "      <td>6.90</td>\n",
       "      <td>14.912506</td>\n",
       "      <td>0.000000</td>\n",
       "      <td>2024-10-11</td>\n",
       "      <td>0.0</td>\n",
       "      <td>True</td>\n",
       "    </tr>\n",
       "    <tr>\n",
       "      <th>1</th>\n",
       "      <td>43.523666</td>\n",
       "      <td>6.898667</td>\n",
       "      <td>2024-10-11 02:00:00</td>\n",
       "      <td>0.0</td>\n",
       "      <td>14.2</td>\n",
       "      <td>43.525002</td>\n",
       "      <td>6.90</td>\n",
       "      <td>14.209351</td>\n",
       "      <td>0.000000</td>\n",
       "      <td>2024-10-11</td>\n",
       "      <td>0.0</td>\n",
       "      <td>True</td>\n",
       "    </tr>\n",
       "    <tr>\n",
       "      <th>2</th>\n",
       "      <td>43.523666</td>\n",
       "      <td>6.898667</td>\n",
       "      <td>2024-10-11 03:00:00</td>\n",
       "      <td>0.0</td>\n",
       "      <td>13.3</td>\n",
       "      <td>43.525002</td>\n",
       "      <td>6.90</td>\n",
       "      <td>13.833008</td>\n",
       "      <td>0.000000</td>\n",
       "      <td>2024-10-11</td>\n",
       "      <td>0.0</td>\n",
       "      <td>True</td>\n",
       "    </tr>\n",
       "    <tr>\n",
       "      <th>3</th>\n",
       "      <td>43.523666</td>\n",
       "      <td>6.898667</td>\n",
       "      <td>2024-10-11 04:00:00</td>\n",
       "      <td>0.0</td>\n",
       "      <td>12.0</td>\n",
       "      <td>43.525002</td>\n",
       "      <td>6.90</td>\n",
       "      <td>13.119293</td>\n",
       "      <td>0.000000</td>\n",
       "      <td>2024-10-11</td>\n",
       "      <td>0.0</td>\n",
       "      <td>True</td>\n",
       "    </tr>\n",
       "    <tr>\n",
       "      <th>4</th>\n",
       "      <td>43.523666</td>\n",
       "      <td>6.898667</td>\n",
       "      <td>2024-10-11 05:00:00</td>\n",
       "      <td>0.0</td>\n",
       "      <td>12.0</td>\n",
       "      <td>43.525002</td>\n",
       "      <td>6.90</td>\n",
       "      <td>12.976257</td>\n",
       "      <td>0.000000</td>\n",
       "      <td>2024-10-11</td>\n",
       "      <td>0.0</td>\n",
       "      <td>True</td>\n",
       "    </tr>\n",
       "    <tr>\n",
       "      <th>...</th>\n",
       "      <td>...</td>\n",
       "      <td>...</td>\n",
       "      <td>...</td>\n",
       "      <td>...</td>\n",
       "      <td>...</td>\n",
       "      <td>...</td>\n",
       "      <td>...</td>\n",
       "      <td>...</td>\n",
       "      <td>...</td>\n",
       "      <td>...</td>\n",
       "      <td>...</td>\n",
       "      <td>...</td>\n",
       "    </tr>\n",
       "    <tr>\n",
       "      <th>133469</th>\n",
       "      <td>50.959831</td>\n",
       "      <td>1.956167</td>\n",
       "      <td>2024-10-23 20:00:00</td>\n",
       "      <td>0.0</td>\n",
       "      <td>10.1</td>\n",
       "      <td>50.950001</td>\n",
       "      <td>1.95</td>\n",
       "      <td>8.827545</td>\n",
       "      <td>6.703125</td>\n",
       "      <td>2024-10-22</td>\n",
       "      <td>4.5</td>\n",
       "      <td>True</td>\n",
       "    </tr>\n",
       "    <tr>\n",
       "      <th>133470</th>\n",
       "      <td>50.959831</td>\n",
       "      <td>1.956167</td>\n",
       "      <td>2024-10-23 21:00:00</td>\n",
       "      <td>0.0</td>\n",
       "      <td>9.5</td>\n",
       "      <td>50.950001</td>\n",
       "      <td>1.95</td>\n",
       "      <td>7.868225</td>\n",
       "      <td>6.703125</td>\n",
       "      <td>2024-10-22</td>\n",
       "      <td>4.5</td>\n",
       "      <td>True</td>\n",
       "    </tr>\n",
       "    <tr>\n",
       "      <th>133471</th>\n",
       "      <td>50.959831</td>\n",
       "      <td>1.956167</td>\n",
       "      <td>2024-10-23 22:00:00</td>\n",
       "      <td>0.0</td>\n",
       "      <td>8.0</td>\n",
       "      <td>50.950001</td>\n",
       "      <td>1.95</td>\n",
       "      <td>6.937195</td>\n",
       "      <td>6.703125</td>\n",
       "      <td>2024-10-22</td>\n",
       "      <td>4.5</td>\n",
       "      <td>True</td>\n",
       "    </tr>\n",
       "    <tr>\n",
       "      <th>133472</th>\n",
       "      <td>50.959831</td>\n",
       "      <td>1.956167</td>\n",
       "      <td>2024-10-23 23:00:00</td>\n",
       "      <td>0.0</td>\n",
       "      <td>7.8</td>\n",
       "      <td>50.950001</td>\n",
       "      <td>1.95</td>\n",
       "      <td>6.389404</td>\n",
       "      <td>6.718750</td>\n",
       "      <td>2024-10-22</td>\n",
       "      <td>4.5</td>\n",
       "      <td>False</td>\n",
       "    </tr>\n",
       "    <tr>\n",
       "      <th>133473</th>\n",
       "      <td>50.959831</td>\n",
       "      <td>1.956167</td>\n",
       "      <td>2024-10-24 00:00:00</td>\n",
       "      <td>0.0</td>\n",
       "      <td>8.2</td>\n",
       "      <td>50.950001</td>\n",
       "      <td>1.95</td>\n",
       "      <td>6.677460</td>\n",
       "      <td>6.742188</td>\n",
       "      <td>2024-10-22</td>\n",
       "      <td>4.5</td>\n",
       "      <td>False</td>\n",
       "    </tr>\n",
       "  </tbody>\n",
       "</table>\n",
       "<p>133474 rows × 12 columns</p>\n",
       "</div>"
      ],
      "text/plain": [
       "              LAT       LON   DateTimeEffective  RR1     T   Latitude  \\\n",
       "0       43.523666  6.898667 2024-10-11 01:00:00  0.0  14.3  43.525002   \n",
       "1       43.523666  6.898667 2024-10-11 02:00:00  0.0  14.2  43.525002   \n",
       "2       43.523666  6.898667 2024-10-11 03:00:00  0.0  13.3  43.525002   \n",
       "3       43.523666  6.898667 2024-10-11 04:00:00  0.0  12.0  43.525002   \n",
       "4       43.523666  6.898667 2024-10-11 05:00:00  0.0  12.0  43.525002   \n",
       "...           ...       ...                 ...  ...   ...        ...   \n",
       "133469  50.959831  1.956167 2024-10-23 20:00:00  0.0  10.1  50.950001   \n",
       "133470  50.959831  1.956167 2024-10-23 21:00:00  0.0   9.5  50.950001   \n",
       "133471  50.959831  1.956167 2024-10-23 22:00:00  0.0   8.0  50.950001   \n",
       "133472  50.959831  1.956167 2024-10-23 23:00:00  0.0   7.8  50.950001   \n",
       "133473  50.959831  1.956167 2024-10-24 00:00:00  0.0   8.2  50.950001   \n",
       "\n",
       "        Longitude        t2m        tp DateTimePrevision  RR1Cumul  \\\n",
       "0            6.90  14.912506  0.000000        2024-10-11       0.0   \n",
       "1            6.90  14.209351  0.000000        2024-10-11       0.0   \n",
       "2            6.90  13.833008  0.000000        2024-10-11       0.0   \n",
       "3            6.90  13.119293  0.000000        2024-10-11       0.0   \n",
       "4            6.90  12.976257  0.000000        2024-10-11       0.0   \n",
       "...           ...        ...       ...               ...       ...   \n",
       "133469       1.95   8.827545  6.703125        2024-10-22       4.5   \n",
       "133470       1.95   7.868225  6.703125        2024-10-22       4.5   \n",
       "133471       1.95   6.937195  6.703125        2024-10-22       4.5   \n",
       "133472       1.95   6.389404  6.718750        2024-10-22       4.5   \n",
       "133473       1.95   6.677460  6.742188        2024-10-22       4.5   \n",
       "\n",
       "        ForecastRight  \n",
       "0                True  \n",
       "1                True  \n",
       "2                True  \n",
       "3                True  \n",
       "4                True  \n",
       "...               ...  \n",
       "133469           True  \n",
       "133470           True  \n",
       "133471           True  \n",
       "133472          False  \n",
       "133473          False  \n",
       "\n",
       "[133474 rows x 12 columns]"
      ]
     },
     "execution_count": 30,
     "metadata": {},
     "output_type": "execute_result"
    }
   ],
   "source": [
    "end"
   ]
  },
  {
   "cell_type": "code",
   "execution_count": 31,
   "id": "4e70da32-8ec3-4192-a1c6-40df95bd72f9",
   "metadata": {},
   "outputs": [
    {
     "data": {
      "text/plain": [
       "np.float32(1.553764)"
      ]
     },
     "execution_count": 31,
     "metadata": {},
     "output_type": "execute_result"
    }
   ],
   "source": [
    "rmsetmp = np.sqrt(((end['t2m'] - end['T']) ** 2).mean())\n",
    "rmsetmp"
   ]
  },
  {
   "cell_type": "code",
   "execution_count": 32,
   "id": "10131353-0b8e-4439-a9d2-2d6e34797c1c",
   "metadata": {},
   "outputs": [
    {
     "data": {
      "text/plain": [
       "np.float32(-0.3958679)"
      ]
     },
     "execution_count": 32,
     "metadata": {},
     "output_type": "execute_result"
    }
   ],
   "source": [
    "biastmp = (end['t2m'] - end['T']).mean()\n",
    "biastmp"
   ]
  },
  {
   "cell_type": "raw",
   "id": "19842790-4f47-42c0-8d17-588d081af5c1",
   "metadata": {},
   "source": [
    "Temperature conclusion : \n",
    "For a very short period of time (< 2 weeks), Arome model for France have a mean difference of +/- 1.48°C (RMSE) and a small underpredictive bias (-0.20) which makes it very good at predicting local evenements\n",
    "We still need more data to see how the model performs overall."
   ]
  },
  {
   "cell_type": "code",
   "execution_count": 33,
   "id": "19692e79-4de0-4e3b-96ee-25e294b4b142",
   "metadata": {},
   "outputs": [
    {
     "data": {
      "text/plain": [
       "np.float32(8.126516)"
      ]
     },
     "execution_count": 33,
     "metadata": {},
     "output_type": "execute_result"
    }
   ],
   "source": [
    "rmseprecip = np.sqrt(((end['tp'] - end['RR1Cumul']) ** 2).mean())\n",
    "rmseprecip"
   ]
  },
  {
   "cell_type": "code",
   "execution_count": 34,
   "id": "132ee5b1-910a-44cd-8648-9049ade05f14",
   "metadata": {},
   "outputs": [
    {
     "data": {
      "text/plain": [
       "np.float32(0.7222519)"
      ]
     },
     "execution_count": 34,
     "metadata": {},
     "output_type": "execute_result"
    }
   ],
   "source": [
    "biasprecip = (end['tp'] - end['RR1Cumul']).mean()\n",
    "biasprecip"
   ]
  },
  {
   "cell_type": "code",
   "execution_count": 47,
   "id": "35433863-af4f-4986-a718-7edb0d2d2663",
   "metadata": {},
   "outputs": [
    {
     "data": {
      "text/plain": [
       "np.float64(0.7648306037130826)"
      ]
     },
     "execution_count": 47,
     "metadata": {},
     "output_type": "execute_result"
    }
   ],
   "source": [
    "end['ForecastRight'].value_counts(normalize=True)[True]"
   ]
  },
  {
   "cell_type": "raw",
   "id": "9a7c3f6e-9a2a-4438-b91c-f0ca3d6e8f1d",
   "metadata": {},
   "source": [
    "For this period, AROME model is right 76% of the time when forecasting rain in an hourly timeframe"
   ]
  }
 ],
 "metadata": {
  "kernelspec": {
   "display_name": "Python 3 (ipykernel)",
   "language": "python",
   "name": "python3"
  },
  "language_info": {
   "codemirror_mode": {
    "name": "ipython",
    "version": 3
   },
   "file_extension": ".py",
   "mimetype": "text/x-python",
   "name": "python",
   "nbconvert_exporter": "python",
   "pygments_lexer": "ipython3",
   "version": "3.10.11"
  }
 },
 "nbformat": 4,
 "nbformat_minor": 5
}
