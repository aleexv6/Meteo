{
 "cells": [
  {
   "cell_type": "code",
   "execution_count": 19,
   "id": "356ba983-819d-4f28-a951-07030dc460f8",
   "metadata": {},
   "outputs": [],
   "source": [
    "import pandas as pd\n",
    "import requests\n",
    "import os\n",
    "import xarray as xr\n",
    "import numpy as np\n",
    "import matplotlib.pyplot as plt"
   ]
  },
  {
   "cell_type": "code",
   "execution_count": 2,
   "id": "ec91e386-95d1-41e0-b839-92e353a2241a",
   "metadata": {},
   "outputs": [],
   "source": [
    "df = pd.read_csv('data/H_79_latest-2023-2024.csv', sep=';', usecols=['LAT', 'LON', 'AAAAMMJJHH', 'RR1', 'T'], dtype={'LAT':'float64', 'LON':'float64', 'AAAAMMJJHH':'int32', 'RR1':'float32', 'T':'float32'})\n",
    "df['AAAAMMJJHH'] = pd.to_datetime(df['AAAAMMJJHH'], format='%Y%m%d%H')\n",
    "datemax = pd.Timestamp.now().date() - pd.Timedelta(14, \"d\")\n",
    "df = df[df['AAAAMMJJHH'].dt.date >= datemax].reset_index(drop=True)"
   ]
  },
  {
   "cell_type": "code",
   "execution_count": 3,
   "id": "a22f11cd-e4c9-4307-a9e1-f807bf2b814a",
   "metadata": {},
   "outputs": [],
   "source": [
    "def download_grib_025(date): #date format : 2024-08-26T06:00:00Z\n",
    "    prevision_list = ['00H06H','07H12H','13H18H','19H24H','25H30H','31H36H','37H42H','43H48H']\n",
    "    for i in prevision_list:\n",
    "        url = f\"https://object.data.gouv.fr/meteofrance-pnt/pnt/{date}/arome/0025/SP1/arome__0025__SP1__{i}__{date}.grib2\"\n",
    "        try:\n",
    "            r = requests.get(url)\n",
    "            if not os.path.isdir(f\"C:/Users/alexl/Documents/GitHub/Meteo/AromeAccuracy/data/arome/{date.replace(':', '-')}\"):\n",
    "                os.mkdir(f\"C:/Users/alexl/Documents/GitHub/Meteo/AromeAccuracy/data/arome/{date.replace(':', '-')}\")\n",
    "            with open(f\"C:/Users/alexl/Documents/GitHub/Meteo/AromeAccuracy/data/arome/{date.replace(':', '-')}/arome__0025__SP1__{i}__{date.replace(':', '-')}.grib2\", \"wb\") as f:\n",
    "                f.write(r.content)\n",
    "        except Exception as e:\n",
    "                print(f\"An error occurred: {e}\")"
   ]
  },
  {
   "cell_type": "code",
   "execution_count": 4,
   "id": "8b19a4ad-0e94-4d6e-9592-1c2975b99c36",
   "metadata": {},
   "outputs": [],
   "source": [
    "for date in df['AAAAMMJJHH'].dt.date.unique():\n",
    "    download_grib_025(str(date)+\"T00:00:00Z\")"
   ]
  },
  {
   "cell_type": "code",
   "execution_count": 6,
   "id": "8d87b930-c362-47be-b36b-5de462eb2ea7",
   "metadata": {},
   "outputs": [],
   "source": [
    "def grib_to_dataframe(date, base_path):\n",
    "    directory = f\"{base_path}/{date.replace(':', '-')}\"\n",
    "    file_list = [os.path.join(directory, file.replace(':', '-')) for file in os.listdir(directory)]\n",
    "\n",
    "    backend_kwargs = [\n",
    "        {'filter_by_keys': {'paramId': 167, 'level': 2}}, #temperature\n",
    "        {'filter_by_keys': {'paramId': 228228}} #precipitations\n",
    "    ]\n",
    "\n",
    "    datasets = []\n",
    "    for file in file_list:\n",
    "        for bk in backend_kwargs:\n",
    "            ds = xr.open_dataset(file, engine='cfgrib', backend_kwargs=bk)\n",
    "            datasets.append(ds)\n",
    "\n",
    "    ds = xr.merge(datasets)\n",
    "    return ds"
   ]
  },
  {
   "cell_type": "code",
   "execution_count": 10,
   "id": "8709f639-f103-45ff-9053-18514ba18189",
   "metadata": {},
   "outputs": [],
   "source": [
    "base_path = \"C:/Users/alexl/Documents/GitHub/Meteo/AromeAccuracy/data/arome\"\n",
    "date = str(df['AAAAMMJJHH'].dt.date.unique()[0]) + \"T00:00:00Z\"\n",
    "\n",
    "dfArome = grib_to_dataframe(date, base_path)"
   ]
  },
  {
   "cell_type": "code",
   "execution_count": 12,
   "id": "ec4cc06c-658c-47d1-85d0-10a3836f982c",
   "metadata": {},
   "outputs": [],
   "source": [
    "#Make a custom dataframe since I cant make xarray.Dataset.to_dataframe() keep the step and timedelta into the dataframe\n",
    "step = dfArome['step'].values #values of each step (48 times one hour)\n",
    "valid_date = np.datetime64(dfArome['valid_time'].values[0]) #first date value as np datetime to work with np timedelta\n",
    "lst = []\n",
    "for i in range(49): #number of steps\n",
    "    lat_grid, lon_grid = np.meshgrid(dfArome['latitude'].values.round(3), dfArome['longitude'].values.round(3), indexing='ij')\n",
    "    # flatten array\n",
    "    flat_temp = dfArome['t2m'][i].values.flatten()\n",
    "    flat_precip = dfArome['tp'][i].values.flatten()\n",
    "    flat_lat = lat_grid.flatten()\n",
    "    flat_lon = lon_grid.flatten()\n",
    "    \n",
    "    # create dataframe\n",
    "    tmp = pd.DataFrame({\n",
    "        'Latitude': flat_lat,\n",
    "        'Longitude': flat_lon,\n",
    "        't2m': flat_temp,\n",
    "        'tp': flat_precip, \n",
    "        'DateTime': valid_date + step[i]\n",
    "    })\n",
    "    lst.append(tmp)\n",
    "data = pd.concat(lst).reset_index(drop=True)"
   ]
  },
  {
   "cell_type": "code",
   "execution_count": 13,
   "id": "b8463b29-5d36-43bf-86f9-442f81714aa4",
   "metadata": {},
   "outputs": [],
   "source": [
    "#find the nearest Arome LAT, LON from each station\n",
    "lat_lon_unique = [df['LAT'].unique(), df['LON'].unique()]\n",
    "nearest_lat_lon = []\n",
    "for lat, lon in zip(lat_lon_unique[0], lat_lon_unique[1]):    \n",
    "    nearest_lat_idx = (data['Latitude'] - lat).abs().idxmin()\n",
    "    nearest_lon_idx = (data['Longitude'] - lon).abs().idxmin()\n",
    "    nearest_lat_lon.append([lat, lon, data.iloc[nearest_lat_idx]['Latitude'], data.iloc[nearest_lon_idx]['Longitude']])\n",
    "nearest_lat_lon_df = pd.DataFrame(nearest_lat_lon, columns=['LAT', 'LON', 'Latitude', 'Longitude'])"
   ]
  },
  {
   "cell_type": "code",
   "execution_count": 14,
   "id": "54c36e62-0271-4b2b-8b07-4a9b8d05e346",
   "metadata": {},
   "outputs": [],
   "source": [
    "df = pd.merge(df, nearest_lat_lon_df, on=['LAT', 'LON'], how='inner')\n",
    "df = df.rename(columns={'AAAAMMJJHH':'DateTime'})\n",
    "end = pd.merge(df, data, on=['Latitude', 'Longitude', 'DateTime'], how='inner')\n",
    "end['t2m'] = end['t2m'] - 273.15"
   ]
  },
  {
   "cell_type": "code",
   "execution_count": 20,
   "id": "6bb1b48a-51f1-4016-baa0-df5d9a9bbfc6",
   "metadata": {},
   "outputs": [
    {
     "data": {
      "text/html": [
       "<div>\n",
       "<style scoped>\n",
       "    .dataframe tbody tr th:only-of-type {\n",
       "        vertical-align: middle;\n",
       "    }\n",
       "\n",
       "    .dataframe tbody tr th {\n",
       "        vertical-align: top;\n",
       "    }\n",
       "\n",
       "    .dataframe thead th {\n",
       "        text-align: right;\n",
       "    }\n",
       "</style>\n",
       "<table border=\"1\" class=\"dataframe\">\n",
       "  <thead>\n",
       "    <tr style=\"text-align: right;\">\n",
       "      <th></th>\n",
       "      <th>LAT</th>\n",
       "      <th>LON</th>\n",
       "      <th>DateTime</th>\n",
       "      <th>RR1</th>\n",
       "      <th>T</th>\n",
       "      <th>Latitude</th>\n",
       "      <th>Longitude</th>\n",
       "      <th>t2m</th>\n",
       "      <th>tp</th>\n",
       "    </tr>\n",
       "  </thead>\n",
       "  <tbody>\n",
       "    <tr>\n",
       "      <th>0</th>\n",
       "      <td>46.941167</td>\n",
       "      <td>-0.584167</td>\n",
       "      <td>2024-10-02 00:00:00</td>\n",
       "      <td>0.0</td>\n",
       "      <td>7.0</td>\n",
       "      <td>46.95</td>\n",
       "      <td>-0.575</td>\n",
       "      <td>7.623260</td>\n",
       "      <td>NaN</td>\n",
       "    </tr>\n",
       "    <tr>\n",
       "      <th>1</th>\n",
       "      <td>46.941167</td>\n",
       "      <td>-0.584167</td>\n",
       "      <td>2024-10-02 01:00:00</td>\n",
       "      <td>0.2</td>\n",
       "      <td>6.5</td>\n",
       "      <td>46.95</td>\n",
       "      <td>-0.575</td>\n",
       "      <td>8.573120</td>\n",
       "      <td>0.000000</td>\n",
       "    </tr>\n",
       "    <tr>\n",
       "      <th>2</th>\n",
       "      <td>46.941167</td>\n",
       "      <td>-0.584167</td>\n",
       "      <td>2024-10-02 02:00:00</td>\n",
       "      <td>0.0</td>\n",
       "      <td>6.3</td>\n",
       "      <td>46.95</td>\n",
       "      <td>-0.575</td>\n",
       "      <td>8.008331</td>\n",
       "      <td>0.000000</td>\n",
       "    </tr>\n",
       "    <tr>\n",
       "      <th>3</th>\n",
       "      <td>46.941167</td>\n",
       "      <td>-0.584167</td>\n",
       "      <td>2024-10-02 03:00:00</td>\n",
       "      <td>0.0</td>\n",
       "      <td>7.7</td>\n",
       "      <td>46.95</td>\n",
       "      <td>-0.575</td>\n",
       "      <td>7.205139</td>\n",
       "      <td>0.000000</td>\n",
       "    </tr>\n",
       "    <tr>\n",
       "      <th>4</th>\n",
       "      <td>46.941167</td>\n",
       "      <td>-0.584167</td>\n",
       "      <td>2024-10-02 04:00:00</td>\n",
       "      <td>0.0</td>\n",
       "      <td>8.1</td>\n",
       "      <td>46.95</td>\n",
       "      <td>-0.575</td>\n",
       "      <td>7.023804</td>\n",
       "      <td>0.000000</td>\n",
       "    </tr>\n",
       "    <tr>\n",
       "      <th>...</th>\n",
       "      <td>...</td>\n",
       "      <td>...</td>\n",
       "      <td>...</td>\n",
       "      <td>...</td>\n",
       "      <td>...</td>\n",
       "      <td>...</td>\n",
       "      <td>...</td>\n",
       "      <td>...</td>\n",
       "      <td>...</td>\n",
       "    </tr>\n",
       "    <tr>\n",
       "      <th>828</th>\n",
       "      <td>46.989167</td>\n",
       "      <td>-0.207000</td>\n",
       "      <td>2024-10-03 20:00:00</td>\n",
       "      <td>0.0</td>\n",
       "      <td>11.8</td>\n",
       "      <td>47.00</td>\n",
       "      <td>-0.200</td>\n",
       "      <td>11.915375</td>\n",
       "      <td>0.070312</td>\n",
       "    </tr>\n",
       "    <tr>\n",
       "      <th>829</th>\n",
       "      <td>46.989167</td>\n",
       "      <td>-0.207000</td>\n",
       "      <td>2024-10-03 21:00:00</td>\n",
       "      <td>0.0</td>\n",
       "      <td>9.7</td>\n",
       "      <td>47.00</td>\n",
       "      <td>-0.200</td>\n",
       "      <td>11.559174</td>\n",
       "      <td>0.070312</td>\n",
       "    </tr>\n",
       "    <tr>\n",
       "      <th>830</th>\n",
       "      <td>46.989167</td>\n",
       "      <td>-0.207000</td>\n",
       "      <td>2024-10-03 22:00:00</td>\n",
       "      <td>0.0</td>\n",
       "      <td>7.5</td>\n",
       "      <td>47.00</td>\n",
       "      <td>-0.200</td>\n",
       "      <td>10.671600</td>\n",
       "      <td>0.070312</td>\n",
       "    </tr>\n",
       "    <tr>\n",
       "      <th>831</th>\n",
       "      <td>46.989167</td>\n",
       "      <td>-0.207000</td>\n",
       "      <td>2024-10-03 23:00:00</td>\n",
       "      <td>0.0</td>\n",
       "      <td>6.8</td>\n",
       "      <td>47.00</td>\n",
       "      <td>-0.200</td>\n",
       "      <td>10.079651</td>\n",
       "      <td>0.062500</td>\n",
       "    </tr>\n",
       "    <tr>\n",
       "      <th>832</th>\n",
       "      <td>46.989167</td>\n",
       "      <td>-0.207000</td>\n",
       "      <td>2024-10-04 00:00:00</td>\n",
       "      <td>0.0</td>\n",
       "      <td>5.9</td>\n",
       "      <td>47.00</td>\n",
       "      <td>-0.200</td>\n",
       "      <td>9.590851</td>\n",
       "      <td>0.062500</td>\n",
       "    </tr>\n",
       "  </tbody>\n",
       "</table>\n",
       "<p>833 rows × 9 columns</p>\n",
       "</div>"
      ],
      "text/plain": [
       "           LAT       LON            DateTime  RR1     T  Latitude  Longitude  \\\n",
       "0    46.941167 -0.584167 2024-10-02 00:00:00  0.0   7.0     46.95     -0.575   \n",
       "1    46.941167 -0.584167 2024-10-02 01:00:00  0.2   6.5     46.95     -0.575   \n",
       "2    46.941167 -0.584167 2024-10-02 02:00:00  0.0   6.3     46.95     -0.575   \n",
       "3    46.941167 -0.584167 2024-10-02 03:00:00  0.0   7.7     46.95     -0.575   \n",
       "4    46.941167 -0.584167 2024-10-02 04:00:00  0.0   8.1     46.95     -0.575   \n",
       "..         ...       ...                 ...  ...   ...       ...        ...   \n",
       "828  46.989167 -0.207000 2024-10-03 20:00:00  0.0  11.8     47.00     -0.200   \n",
       "829  46.989167 -0.207000 2024-10-03 21:00:00  0.0   9.7     47.00     -0.200   \n",
       "830  46.989167 -0.207000 2024-10-03 22:00:00  0.0   7.5     47.00     -0.200   \n",
       "831  46.989167 -0.207000 2024-10-03 23:00:00  0.0   6.8     47.00     -0.200   \n",
       "832  46.989167 -0.207000 2024-10-04 00:00:00  0.0   5.9     47.00     -0.200   \n",
       "\n",
       "           t2m        tp  \n",
       "0     7.623260       NaN  \n",
       "1     8.573120  0.000000  \n",
       "2     8.008331  0.000000  \n",
       "3     7.205139  0.000000  \n",
       "4     7.023804  0.000000  \n",
       "..         ...       ...  \n",
       "828  11.915375  0.070312  \n",
       "829  11.559174  0.070312  \n",
       "830  10.671600  0.070312  \n",
       "831  10.079651  0.062500  \n",
       "832   9.590851  0.062500  \n",
       "\n",
       "[833 rows x 9 columns]"
      ]
     },
     "execution_count": 20,
     "metadata": {},
     "output_type": "execute_result"
    }
   ],
   "source": [
    "end"
   ]
  },
  {
   "cell_type": "code",
   "execution_count": 39,
   "id": "4e70da32-8ec3-4192-a1c6-40df95bd72f9",
   "metadata": {},
   "outputs": [
    {
     "data": {
      "text/plain": [
       "1.1982584"
      ]
     },
     "execution_count": 39,
     "metadata": {},
     "output_type": "execute_result"
    }
   ],
   "source": [
    "rmse = np.sqrt(((end['t2m'] - end['T']) ** 2).mean())\n",
    "rmse"
   ]
  },
  {
   "cell_type": "code",
   "execution_count": 38,
   "id": "10131353-0b8e-4439-a9d2-2d6e34797c1c",
   "metadata": {},
   "outputs": [
    {
     "data": {
      "text/plain": [
       "-0.04287086"
      ]
     },
     "execution_count": 38,
     "metadata": {},
     "output_type": "execute_result"
    }
   ],
   "source": [
    "bias = (end['t2m'] - end['T']).mean()\n",
    "bias"
   ]
  },
  {
   "cell_type": "code",
   "execution_count": 41,
   "id": "47463918-9e2d-4ae7-a6a9-25d482eb5e21",
   "metadata": {},
   "outputs": [],
   "source": [
    "#Conclusion : \n",
    "#For a very (too) short period of time Arome model for Deux-Sèvres department have a mean gap of +/- 1.20°C (RMSE) and a very\n",
    "#small underpredictive bias (-0.04) which makes it very good at predicting local evenements\n",
    "#Now, we need more data to see how the model performs overall"
   ]
  },
  {
   "cell_type": "code",
   "execution_count": null,
   "id": "9da72d13-8441-443b-8d71-fe97751ee5bf",
   "metadata": {},
   "outputs": [],
   "source": []
  }
 ],
 "metadata": {
  "kernelspec": {
   "display_name": "Python 3 (ipykernel)",
   "language": "python",
   "name": "python3"
  },
  "language_info": {
   "codemirror_mode": {
    "name": "ipython",
    "version": 3
   },
   "file_extension": ".py",
   "mimetype": "text/x-python",
   "name": "python",
   "nbconvert_exporter": "python",
   "pygments_lexer": "ipython3",
   "version": "3.10.11"
  }
 },
 "nbformat": 4,
 "nbformat_minor": 5
}
