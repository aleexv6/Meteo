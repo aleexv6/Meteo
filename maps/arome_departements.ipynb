{
 "cells": [
  {
   "cell_type": "code",
   "execution_count": 48,
   "id": "456ce8d3-4946-4cc4-8735-ad658ada29b9",
   "metadata": {},
   "outputs": [],
   "source": [
    "import xarray as xr\n",
    "import matplotlib.pyplot as plt\n",
    "import numpy as np\n",
    "import pandas as pd"
   ]
  },
  {
   "cell_type": "code",
   "execution_count": 49,
   "id": "c603c025-8687-47fa-8b5f-191954b92f5e",
   "metadata": {},
   "outputs": [],
   "source": [
    "file_list = ['arome_data/arome__001__SP1__00H__2024-08-22T06_00_00Z.grib2', \n",
    "             'arome_data/arome__001__SP1__01H__2024-08-22T06_00_00Z.grib2', \n",
    "             'arome_data/arome__001__SP1__02H__2024-08-22T06_00_00Z.grib2',\n",
    "             'arome_data/arome__001__SP1__03H__2024-08-22T06_00_00Z.grib2']\n",
    "backend_kwargs = {\n",
    "    'filter_by_keys': {\n",
    "        'typeOfLevel': 'heightAboveGround',\n",
    "        'level': 2\n",
    "    }\n",
    "}\n",
    "datasets = [xr.open_dataset(f, engine='cfgrib', backend_kwargs=backend_kwargs) for f in file_list]\n",
    "ds = xr.concat(datasets, dim='step')"
   ]
  },
  {
   "cell_type": "code",
   "execution_count": 50,
   "id": "cbc8b4d4-8741-4c5d-ab0b-491172a26036",
   "metadata": {},
   "outputs": [],
   "source": [
    "dsf = ds.to_dataframe()\n",
    "dsf = dsf.reset_index()"
   ]
  },
  {
   "cell_type": "code",
   "execution_count": 58,
   "id": "f3e07e55-2f07-4abb-99d6-8da1a7bc74b5",
   "metadata": {},
   "outputs": [],
   "source": [
    "mean_dsf = dsf.groupby(['latitude', 'longitude']).mean().reset_index()[['latitude', 'longitude', 't2m']]\n",
    "mean_dsf['latitude'] = round(mean_dsf['latitude'], 2)\n",
    "mean_dsf['longitude'] = round(mean_dsf['longitude'], 2)"
   ]
  },
  {
   "cell_type": "code",
   "execution_count": 62,
   "id": "7239a71a-dc3c-448e-8d76-999bd7f9cd4c",
   "metadata": {},
   "outputs": [],
   "source": [
    "dep_coords = pd.read_csv('coords_dep_001.csv', low_memory=False)"
   ]
  },
  {
   "cell_type": "code",
   "execution_count": 63,
   "id": "338af794-aa80-4a9b-86f6-27e8b88f51dd",
   "metadata": {},
   "outputs": [],
   "source": [
    "dep_coords_ain = dep_coords[dep_coords['Dep'] == '01']\n",
    "dsf_ain = pd.merge(mean_dsf, dep_coords_ain, on=['latitude', 'longitude'], how='inner')"
   ]
  },
  {
   "cell_type": "code",
   "execution_count": 65,
   "id": "4ba64a8d-9cd8-44ea-8205-df874374ec16",
   "metadata": {},
   "outputs": [],
   "source": [
    "mean_ain = dsf_ain['t2m'].mean()"
   ]
  },
  {
   "cell_type": "code",
   "execution_count": null,
   "id": "9e4af70b-c06a-421f-bb21-b8ab97d1ef19",
   "metadata": {},
   "outputs": [],
   "source": [
    "lst = []\n",
    "for i in dep_coords['Dep'].unique():\n",
    "    dep_coords_dep = dep_coords[dep_coords['Dep'] == i]\n",
    "    dsf_dep = pd.merge(mean_dsf, dep_coords_dep, on=['latitude', 'longitude'], how='inner')\n",
    "    mean_dep = dsf_dep['t2m'].mean() - 273.15\n",
    "    data = [i, mean_dep]\n",
    "    lst.append(data)\n",
    "df = pd.DataFrame(lst, columns=['Dep', 'TmpMean'])"
   ]
  },
  {
   "cell_type": "code",
   "execution_count": 70,
   "id": "32b60075-4791-4b7a-93dc-0ef11167b732",
   "metadata": {},
   "outputs": [
    {
     "data": {
      "text/html": [
       "<div>\n",
       "<style scoped>\n",
       "    .dataframe tbody tr th:only-of-type {\n",
       "        vertical-align: middle;\n",
       "    }\n",
       "\n",
       "    .dataframe tbody tr th {\n",
       "        vertical-align: top;\n",
       "    }\n",
       "\n",
       "    .dataframe thead th {\n",
       "        text-align: right;\n",
       "    }\n",
       "</style>\n",
       "<table border=\"1\" class=\"dataframe\">\n",
       "  <thead>\n",
       "    <tr style=\"text-align: right;\">\n",
       "      <th></th>\n",
       "      <th>Dep</th>\n",
       "      <th>TmpMean</th>\n",
       "    </tr>\n",
       "  </thead>\n",
       "  <tbody>\n",
       "    <tr>\n",
       "      <th>0</th>\n",
       "      <td>01</td>\n",
       "      <td>287.683228</td>\n",
       "    </tr>\n",
       "    <tr>\n",
       "      <th>1</th>\n",
       "      <td>02</td>\n",
       "      <td>288.664185</td>\n",
       "    </tr>\n",
       "    <tr>\n",
       "      <th>2</th>\n",
       "      <td>03</td>\n",
       "      <td>287.485657</td>\n",
       "    </tr>\n",
       "    <tr>\n",
       "      <th>3</th>\n",
       "      <td>04</td>\n",
       "      <td>291.350861</td>\n",
       "    </tr>\n",
       "    <tr>\n",
       "      <th>4</th>\n",
       "      <td>05</td>\n",
       "      <td>287.770294</td>\n",
       "    </tr>\n",
       "    <tr>\n",
       "      <th>...</th>\n",
       "      <td>...</td>\n",
       "      <td>...</td>\n",
       "    </tr>\n",
       "    <tr>\n",
       "      <th>91</th>\n",
       "      <td>93</td>\n",
       "      <td>289.594604</td>\n",
       "    </tr>\n",
       "    <tr>\n",
       "      <th>92</th>\n",
       "      <td>94</td>\n",
       "      <td>288.432190</td>\n",
       "    </tr>\n",
       "    <tr>\n",
       "      <th>93</th>\n",
       "      <td>95</td>\n",
       "      <td>288.887756</td>\n",
       "    </tr>\n",
       "    <tr>\n",
       "      <th>94</th>\n",
       "      <td>2A</td>\n",
       "      <td>295.694061</td>\n",
       "    </tr>\n",
       "    <tr>\n",
       "      <th>95</th>\n",
       "      <td>2B</td>\n",
       "      <td>296.479248</td>\n",
       "    </tr>\n",
       "  </tbody>\n",
       "</table>\n",
       "<p>96 rows × 2 columns</p>\n",
       "</div>"
      ],
      "text/plain": [
       "   Dep     TmpMean\n",
       "0   01  287.683228\n",
       "1   02  288.664185\n",
       "2   03  287.485657\n",
       "3   04  291.350861\n",
       "4   05  287.770294\n",
       "..  ..         ...\n",
       "91  93  289.594604\n",
       "92  94  288.432190\n",
       "93  95  288.887756\n",
       "94  2A  295.694061\n",
       "95  2B  296.479248\n",
       "\n",
       "[96 rows x 2 columns]"
      ]
     },
     "execution_count": 70,
     "metadata": {},
     "output_type": "execute_result"
    }
   ],
   "source": [
    "df"
   ]
  },
  {
   "cell_type": "code",
   "execution_count": null,
   "id": "86ab1412-4ddd-4a6c-9675-4061688492de",
   "metadata": {},
   "outputs": [],
   "source": []
  }
 ],
 "metadata": {
  "kernelspec": {
   "display_name": "Python 3 (ipykernel)",
   "language": "python",
   "name": "python3"
  },
  "language_info": {
   "codemirror_mode": {
    "name": "ipython",
    "version": 3
   },
   "file_extension": ".py",
   "mimetype": "text/x-python",
   "name": "python",
   "nbconvert_exporter": "python",
   "pygments_lexer": "ipython3",
   "version": "3.10.11"
  }
 },
 "nbformat": 4,
 "nbformat_minor": 5
}
