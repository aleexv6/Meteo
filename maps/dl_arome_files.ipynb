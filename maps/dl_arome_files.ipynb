{
 "cells": [
  {
   "cell_type": "code",
   "execution_count": 2,
   "id": "7a15a96b-996f-4ec6-8e09-9e956e474915",
   "metadata": {},
   "outputs": [],
   "source": [
    "import os\n",
    "import requests\n",
    "import xarray as xr"
   ]
  },
  {
   "cell_type": "code",
   "execution_count": 35,
   "id": "65243e8c-acc3-4d56-9757-7f813b464648",
   "metadata": {},
   "outputs": [],
   "source": [
    "def download_grib(date): #date format : 2024-08-26T06:00:00Z\n",
    "    for i in range(49):\n",
    "        if i < 10:\n",
    "            url = f\"https://object.data.gouv.fr/meteofrance-pnt/pnt/{date}/arome/001/SP1/arome__001__SP1__0{i}H__{date}.grib2\"    \n",
    "            file_name = f\"arome_data/{date.replace(':','-')}/arome__001__SP1__0{i}H__{date.replace(':','_')}.grib2\"\n",
    "        else:\n",
    "            url = f\"https://object.data.gouv.fr/meteofrance-pnt/pnt/{date}/arome/001/SP1/arome__001__SP1__{i}H__{date}.grib2\" \n",
    "            file_name = f\"arome_data/{date.replace(':','-')}/arome__001__SP1__{i}H__{date.replace(':','_')}.grib2\"\n",
    "        try:\n",
    "            r = requests.get(url)\n",
    "            if not os.path.isdir(f\"C:/Users/alexl/Documents/GitHub/Meteo/maps/arome_data/{date.replace(':', '-')}\"):\n",
    "                os.mkdir(f\"C:/Users/alexl/Documents/GitHub/Meteo/maps/arome_data/{date.replace(':', '-')}\")\n",
    "            with open(file_name, \"wb\") as f:\n",
    "                f.write(r.content)\n",
    "        except Exception as e:\n",
    "                print(f\"An error occurred: {e}\")\n",
    "\n",
    "        #arome__001__SP1__00H__2024-08-26T06_00_00Z.grib2"
   ]
  },
  {
   "cell_type": "code",
   "execution_count": 36,
   "id": "f469b013-d337-4904-b54a-ed98e70482c4",
   "metadata": {},
   "outputs": [],
   "source": [
    "download_grib('2024-08-26T06:00:00Z')"
   ]
  },
  {
   "cell_type": "code",
   "execution_count": null,
   "id": "be039a59-a7a7-40f1-ad26-4e14ea6385f7",
   "metadata": {},
   "outputs": [],
   "source": []
  }
 ],
 "metadata": {
  "kernelspec": {
   "display_name": "Python 3 (ipykernel)",
   "language": "python",
   "name": "python3"
  },
  "language_info": {
   "codemirror_mode": {
    "name": "ipython",
    "version": 3
   },
   "file_extension": ".py",
   "mimetype": "text/x-python",
   "name": "python",
   "nbconvert_exporter": "python",
   "pygments_lexer": "ipython3",
   "version": "3.10.11"
  }
 },
 "nbformat": 4,
 "nbformat_minor": 5
}
