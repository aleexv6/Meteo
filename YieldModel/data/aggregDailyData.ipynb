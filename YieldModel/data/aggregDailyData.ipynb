{
 "cells": [
  {
   "cell_type": "code",
   "execution_count": 2,
   "metadata": {},
   "outputs": [],
   "source": [
    "import pandas as pd\n",
    "from config import *"
   ]
  },
  {
   "cell_type": "code",
   "execution_count": null,
   "metadata": {},
   "outputs": [],
   "source": [
    "hist_weather_raw = pd.read_csv(f\"{WEATHER_DATA_URL}/raw_rr_tn_tx_tm-1950-2023.csv\").drop([\"Unnamed: 0\"], axis=1) #read raw weather data\n",
    "current_weather_raw = pd.read_csv(f\"{WEATHER_DATA_URL}/raw_rr_tn_tx_tm-current.csv\").drop([\"Unnamed: 0\"], axis=1)\n",
    "raw_weather = pd.concat([hist_weather_raw, current_weather_raw])"
   ]
  },
  {
   "cell_type": "code",
   "execution_count": null,
   "metadata": {},
   "outputs": [],
   "source": []
  }
 ],
 "metadata": {
  "kernelspec": {
   "display_name": "conda-env",
   "language": "python",
   "name": "python3"
  },
  "language_info": {
   "codemirror_mode": {
    "name": "ipython",
    "version": 3
   },
   "file_extension": ".py",
   "mimetype": "text/x-python",
   "name": "python",
   "nbconvert_exporter": "python",
   "pygments_lexer": "ipython3",
   "version": "3.12.8"
  }
 },
 "nbformat": 4,
 "nbformat_minor": 2
}
