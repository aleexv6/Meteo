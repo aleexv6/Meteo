{
 "cells": [
  {
   "cell_type": "code",
   "execution_count": 41,
   "metadata": {},
   "outputs": [],
   "source": [
    "import pandas as pd\n",
    "import numpy as np"
   ]
  },
  {
   "cell_type": "code",
   "execution_count": 49,
   "metadata": {},
   "outputs": [],
   "source": [
    "#load historical mean of data for month we can't predict (we cant predict EVI data, we cant predict weather for 9 month in future etc) so we remplace prediction with mean historical values\n",
    "hist_temp = pd.read_csv(\"temp_precip_mean_historical.csv\")\n",
    "hist_evi = pd.read_csv(\"evi_mean_historical.csv\")\n",
    "hist_vpd = pd.read_csv(\"vpd_mean_historical.csv\")\n",
    "\n",
    "#load current market year data, without data from current month\n",
    "current_weather_vpd = pd.read_csv(\"temp_precip_vpd_mean_current.csv\")\n",
    "current_evi = pd.read_csv(\"evi_mean_current.csv\")\n",
    "\n",
    "#load forecast data\n",
    "forecast_weather_vpd = pd.read_csv(\"weather_forecast.csv\")"
   ]
  },
  {
   "cell_type": "code",
   "execution_count": null,
   "metadata": {},
   "outputs": [],
   "source": [
    "hist_evi_month = np.setxor1d(hist_evi[\"MONTH\"].unique(), current_evi[\"MONTH\"].unique()) #get month that we do not have in current data \n",
    "hist_evi = hist_evi[hist_evi[\"MONTH\"].isin(hist_evi_month)] #only keep month were we do not have the current data\n",
    "\n",
    "forecast_weather_vpd_month = np.setxor1d(hist_temp[\"MONTH\"].unique(), current_weather_vpd[\"MONTH\"].unique()) #same for forecast data\n",
    "forecast_weather_vpd = forecast_weather_vpd[forecast_weather_vpd[\"MONTH\"].isin(forecast_weather_vpd_month)]"
   ]
  },
  {
   "cell_type": "code",
   "execution_count": null,
   "metadata": {},
   "outputs": [],
   "source": []
  }
 ],
 "metadata": {
  "kernelspec": {
   "display_name": "conda-env",
   "language": "python",
   "name": "python3"
  },
  "language_info": {
   "codemirror_mode": {
    "name": "ipython",
    "version": 3
   },
   "file_extension": ".py",
   "mimetype": "text/x-python",
   "name": "python",
   "nbconvert_exporter": "python",
   "pygments_lexer": "ipython3",
   "version": "3.12.8"
  }
 },
 "nbformat": 4,
 "nbformat_minor": 2
}
