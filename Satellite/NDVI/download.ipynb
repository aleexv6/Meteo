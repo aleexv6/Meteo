{
 "cells": [
  {
   "cell_type": "code",
   "execution_count": 1,
   "metadata": {},
   "outputs": [],
   "source": [
    "import requests\n",
    "from bs4 import BeautifulSoup\n",
    "from datetime import datetime\n",
    "import os\n",
    "from config import NDVI_DATA_URL_WSL\n",
    "from netCDF4 import Dataset"
   ]
  },
  {
   "cell_type": "code",
   "execution_count": 2,
   "metadata": {},
   "outputs": [
    {
     "name": "stdout",
     "output_type": "stream",
     "text": [
      "1981\n"
     ]
    },
    {
     "ename": "OSError",
     "evalue": "[Errno 5] Input/output error",
     "output_type": "error",
     "traceback": [
      "\u001b[0;31m---------------------------------------------------------------------------\u001b[0m",
      "\u001b[0;31mOSError\u001b[0m                                   Traceback (most recent call last)",
      "Cell \u001b[0;32mIn[2], line 18\u001b[0m\n\u001b[1;32m     16\u001b[0m     file_req\u001b[38;5;241m.\u001b[39mraise_for_status()\n\u001b[1;32m     17\u001b[0m     \u001b[38;5;28;01mwith\u001b[39;00m \u001b[38;5;28mopen\u001b[39m(\u001b[38;5;124mf\u001b[39m\u001b[38;5;124m\"\u001b[39m\u001b[38;5;132;01m{\u001b[39;00mNDVI_DATA_URL_WSL\u001b[38;5;132;01m}\u001b[39;00m\u001b[38;5;124m/\u001b[39m\u001b[38;5;132;01m{\u001b[39;00myear\u001b[38;5;132;01m}\u001b[39;00m\u001b[38;5;124m/\u001b[39m\u001b[38;5;132;01m{\u001b[39;00mdate\u001b[38;5;132;01m}\u001b[39;00m\u001b[38;5;124m.nc\u001b[39m\u001b[38;5;124m\"\u001b[39m, \u001b[38;5;124m\"\u001b[39m\u001b[38;5;124mwb\u001b[39m\u001b[38;5;124m\"\u001b[39m) \u001b[38;5;28;01mas\u001b[39;00m f:\n\u001b[0;32m---> 18\u001b[0m         \u001b[43mf\u001b[49m\u001b[38;5;241;43m.\u001b[39;49m\u001b[43mwrite\u001b[49m\u001b[43m(\u001b[49m\u001b[43mfile_req\u001b[49m\u001b[38;5;241;43m.\u001b[39;49m\u001b[43mcontent\u001b[49m\u001b[43m)\u001b[49m\n\u001b[1;32m     19\u001b[0m     days_count \u001b[38;5;241m+\u001b[39m\u001b[38;5;241m=\u001b[39m \u001b[38;5;241m1\u001b[39m\n\u001b[1;32m     20\u001b[0m \u001b[38;5;28mprint\u001b[39m(days_count)\n",
      "\u001b[0;31mOSError\u001b[0m: [Errno 5] Input/output error"
     ]
    }
   ],
   "source": [
    "for year in range(1981, datetime.today().year + 1):\n",
    "    print(year)\n",
    "    days_count = 0\n",
    "    if not str(year) in os.listdir(NDVI_DATA_URL_WSL):\n",
    "        os.mkdir(f\"{NDVI_DATA_URL_WSL}/{year}\")\n",
    "    r = requests.get(f\"https://www.ncei.noaa.gov/data/land-normalized-difference-vegetation-index/access/{year}/\")\n",
    "    soup = BeautifulSoup(r.content, 'html.parser')\n",
    "    tds = soup.find_all(\"td\")\n",
    "    files = []\n",
    "    for td in tds:\n",
    "        if td.text[-3:] == \".nc\":\n",
    "            files.append(td.text)\n",
    "    for file in files:\n",
    "        date = file.split(\"_\")[4]\n",
    "        file_req = requests.get(f\"https://www.ncei.noaa.gov/data/land-normalized-difference-vegetation-index/access/{year}/{file}\")\n",
    "        file_req.raise_for_status()\n",
    "        with open(f\"{NDVI_DATA_URL_WSL}/{year}/{date}.nc\", \"wb\") as f:\n",
    "            f.write(file_req.content)\n",
    "        days_count += 1\n",
    "    print(days_count)\n",
    "    break"
   ]
  },
  {
   "cell_type": "code",
   "execution_count": 5,
   "metadata": {},
   "outputs": [
    {
     "data": {
      "text/plain": [
       "masked_array(data=[ 89.975  ,  89.925  ,  89.875  , ..., -89.875  ,\n",
       "                   -89.925  , -89.97499],\n",
       "             mask=False,\n",
       "       fill_value=1e+20,\n",
       "            dtype=float32)"
      ]
     },
     "execution_count": 5,
     "metadata": {},
     "output_type": "execute_result"
    }
   ],
   "source": [
    "Dataset(f\"{NDVI_DATA_URL}/1981/19810624.nc\").variables[\"latitude\"][:]"
   ]
  },
  {
   "cell_type": "code",
   "execution_count": 10,
   "metadata": {},
   "outputs": [
    {
     "data": {
      "text/plain": [
       "masked_array(data=[50.975   , 50.925   , 50.874996, 50.824997, 50.774998,\n",
       "                   50.725   , 50.675   , 50.624996, 50.574997, 50.524998,\n",
       "                   50.475   , 50.425   , 50.374996, 50.324997, 50.274998,\n",
       "                   50.225   , 50.175   , 50.124996, 50.074997, 50.024998,\n",
       "                   49.975   , 49.925   , 49.874996, 49.824997, 49.774998,\n",
       "                   49.725   , 49.675   , 49.624996, 49.574997, 49.524998,\n",
       "                   49.475   , 49.425   , 49.374996, 49.324997, 49.274998,\n",
       "                   49.225   , 49.175   , 49.124996, 49.074997, 49.024998,\n",
       "                   48.975   , 48.925   , 48.874996, 48.824997, 48.774998,\n",
       "                   48.725   , 48.675   , 48.624996, 48.574997, 48.524998,\n",
       "                   48.475   , 48.425   , 48.374996, 48.324997, 48.274998,\n",
       "                   48.225   , 48.175   , 48.124996, 48.074997, 48.024998,\n",
       "                   47.975   , 47.925   , 47.874996, 47.824997, 47.774998,\n",
       "                   47.725   , 47.675   , 47.624996, 47.574997, 47.524998,\n",
       "                   47.475   , 47.425   , 47.374996, 47.324997, 47.274998,\n",
       "                   47.225   , 47.175   , 47.124996, 47.074997, 47.024998,\n",
       "                   46.975   , 46.925   , 46.874996, 46.824997, 46.774998,\n",
       "                   46.725   , 46.675   , 46.624996, 46.574997, 46.524998,\n",
       "                   46.475   , 46.425   , 46.374996, 46.324997, 46.274998,\n",
       "                   46.225   , 46.175   , 46.124996, 46.074997, 46.024998,\n",
       "                   45.975   , 45.925   , 45.874996, 45.824997, 45.774998,\n",
       "                   45.725   , 45.675   , 45.624996, 45.574997, 45.524998,\n",
       "                   45.475   , 45.425   , 45.374996, 45.324997, 45.274998,\n",
       "                   45.225   , 45.175   , 45.124996, 45.074997, 45.024998,\n",
       "                   44.975   , 44.925   , 44.874996, 44.824997, 44.774998,\n",
       "                   44.725   , 44.675   , 44.624996, 44.574997, 44.524998,\n",
       "                   44.475   , 44.425   , 44.374996, 44.324997, 44.274998,\n",
       "                   44.225   , 44.175   , 44.124996, 44.074997, 44.024998,\n",
       "                   43.975   , 43.925   , 43.874996, 43.824997, 43.774998,\n",
       "                   43.725   , 43.675   , 43.624996, 43.574997, 43.524998,\n",
       "                   43.475   , 43.425   , 43.374996, 43.324997, 43.274998,\n",
       "                   43.225   , 43.175   , 43.124996, 43.074997, 43.024998,\n",
       "                   42.975   , 42.925   , 42.874996, 42.824997, 42.774998,\n",
       "                   42.725   , 42.675   , 42.624996, 42.574997, 42.524998,\n",
       "                   42.475   , 42.425   , 42.374996, 42.324997, 42.274998,\n",
       "                   42.225   , 42.175   , 42.124996, 42.074997, 42.024998,\n",
       "                   41.975   , 41.925   , 41.874996, 41.824997, 41.774998,\n",
       "                   41.725   , 41.675   , 41.624996, 41.574997, 41.524998],\n",
       "             mask=False,\n",
       "       fill_value=1e+20,\n",
       "            dtype=float32)"
      ]
     },
     "execution_count": 10,
     "metadata": {},
     "output_type": "execute_result"
    }
   ],
   "source": [
    "Dataset(f\"{NDVI_DATA_URL}/1981/out.nc\").variables[\"latitude\"][:]"
   ]
  },
  {
   "cell_type": "code",
   "execution_count": null,
   "metadata": {},
   "outputs": [],
   "source": []
  }
 ],
 "metadata": {
  "kernelspec": {
   "display_name": "Python 3 (ipykernel)",
   "language": "python",
   "name": "python3"
  },
  "language_info": {
   "codemirror_mode": {
    "name": "ipython",
    "version": 3
   },
   "file_extension": ".py",
   "mimetype": "text/x-python",
   "name": "python",
   "nbconvert_exporter": "python",
   "pygments_lexer": "ipython3",
   "version": "3.12.3"
  }
 },
 "nbformat": 4,
 "nbformat_minor": 2
}
