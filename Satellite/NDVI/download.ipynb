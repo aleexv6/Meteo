{
 "cells": [
  {
   "cell_type": "code",
   "execution_count": 1,
   "metadata": {},
   "outputs": [],
   "source": [
    "import requests\n",
    "from bs4 import BeautifulSoup\n",
    "from datetime import datetime\n",
    "import os\n",
    "from config import NDVI_DATA_URL\n",
    "from netCDF4 import Dataset\n",
    "import io\n",
    "import xarray as xr"
   ]
  },
  {
   "cell_type": "code",
   "execution_count": null,
   "metadata": {},
   "outputs": [],
   "source": []
  },
  {
   "cell_type": "code",
   "execution_count": null,
   "metadata": {},
   "outputs": [
    {
     "name": "stdout",
     "output_type": "stream",
     "text": [
      "1985\n"
     ]
    }
   ],
   "source": [
    "for year in range(1985, datetime.today().year + 1):\n",
    "    print(year)\n",
    "    days_count = 0\n",
    "    if not str(year) in os.listdir(NDVI_DATA_URL):\n",
    "        os.mkdir(f\"{NDVI_DATA_URL}/{year}\")\n",
    "    r = requests.get(f\"https://www.ncei.noaa.gov/data/land-normalized-difference-vegetation-index/access/{year}/\")\n",
    "    soup = BeautifulSoup(r.content, 'html.parser')\n",
    "    tds = soup.find_all(\"td\")\n",
    "    files = []\n",
    "    for td in tds:\n",
    "        if td.text[-3:] == \".nc\":\n",
    "            files.append(td.text)\n",
    "    for file in files:\n",
    "        date = file.split(\"_\")[4]\n",
    "        file_req = requests.get(f\"https://www.ncei.noaa.gov/data/land-normalized-difference-vegetation-index/access/{year}/{file}\")\n",
    "        file_req.raise_for_status()\n",
    "        #select part of file to go from a total of 8 To to 6 Go :)\n",
    "        buffer = io.BytesIO(file_req.content) #creates buffer from binary file\n",
    "        dataset = xr.open_dataset(buffer, engine=\"h5netcdf\")\n",
    "        subset = dataset.sel( #select subset for france only to save a lot a space \n",
    "            longitude=slice(-5, 10),\n",
    "            latitude=slice(51, 42))\n",
    "        subset.to_netcdf(f\"{NDVI_DATA_URL}/{year}/{date}.nc\") #save new nc file\n",
    "        \n",
    "        days_count += 1\n",
    "    print(days_count) #check numbers of days in month to be sure we have good data\n",
    "    "
   ]
  },
  {
   "cell_type": "code",
   "execution_count": 10,
   "metadata": {},
   "outputs": [
    {
     "data": {
      "text/plain": [
       "(1, 180, 300)"
      ]
     },
     "execution_count": 10,
     "metadata": {},
     "output_type": "execute_result"
    }
   ],
   "source": [
    "Dataset(f\"{NDVI_DATA_URL}/1981/19810624.nc\").variables[\"NDVI\"].shape"
   ]
  },
  {
   "cell_type": "code",
   "execution_count": 19,
   "metadata": {},
   "outputs": [
    {
     "data": {
      "text/plain": [
       "(1, 190, 295)"
      ]
     },
     "execution_count": 19,
     "metadata": {},
     "output_type": "execute_result"
    }
   ],
   "source": [
    "Dataset(f\"{NDVI_DATA_URL}/1981/out.nc\").variables[\"NDVI\"][:].shape"
   ]
  },
  {
   "cell_type": "code",
   "execution_count": null,
   "metadata": {},
   "outputs": [],
   "source": []
  }
 ],
 "metadata": {
  "kernelspec": {
   "display_name": "Python 3 (ipykernel)",
   "language": "python",
   "name": "python3"
  },
  "language_info": {
   "codemirror_mode": {
    "name": "ipython",
    "version": 3
   },
   "file_extension": ".py",
   "mimetype": "text/x-python",
   "name": "python",
   "nbconvert_exporter": "python",
   "pygments_lexer": "ipython3",
   "version": "3.12.2"
  }
 },
 "nbformat": 4,
 "nbformat_minor": 4
}
