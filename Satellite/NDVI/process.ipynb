{
 "cells": [
  {
   "cell_type": "code",
   "execution_count": 1,
   "metadata": {},
   "outputs": [],
   "source": [
    "from netCDF4 import Dataset\n",
    "import numpy as np\n",
    "import pandas as pd\n",
    "from shapely.geometry import Point\n",
    "from shapely.prepared import prep\n",
    "import geopandas\n",
    "from config import NDVI_DATA_URL\n",
    "import os\n",
    "from datetime import datetime, timedelta"
   ]
  },
  {
   "cell_type": "code",
   "execution_count": 2,
   "metadata": {},
   "outputs": [],
   "source": [
    "data_index = 0\n",
    "points = dict()\n",
    "latitude = Dataset(f\"{NDVI_DATA_URL}/yearly_subsample/1981.nc\").variables[\"latitude\"][:]\n",
    "longitude = Dataset(f\"{NDVI_DATA_URL}/yearly_subsample/1981.nc\").variables[\"longitude\"][:]\n",
    "#for every lat and lon, we make a dict of index POINT(lon, lat) and value the index of the data associated with this point\n",
    "for lat in latitude:\n",
    "    for lon in longitude:\n",
    "        points[Point(lon, lat)] = data_index\n",
    "        data_index +=1"
   ]
  },
  {
   "cell_type": "code",
   "execution_count": 3,
   "metadata": {},
   "outputs": [],
   "source": [
    "geo = geopandas.read_file(\"geojsonfrance_corse_20.json\") #read france departement geometries\n",
    "geo[\"code\"] = geo[\"code\"].astype(int)\n",
    "geo = geo.sort_values(by=\"code\").reset_index(drop=True)"
   ]
  },
  {
   "cell_type": "code",
   "execution_count": null,
   "metadata": {},
   "outputs": [],
   "source": [
    "result = []\n",
    "for file in sorted(os.listdir(f\"{NDVI_DATA_URL}/yearly_subsample/\")):\n",
    "    ds = Dataset(f\"{NDVI_DATA_URL}/yearly_subsample/{file}\")\n",
    "    data = ds.variables[\"NDVI\"][:]\n",
    "    days = data.shape[0]\n",
    "    first_date = datetime(1981, 1, 1)\n",
    "    year = file[:4]\n",
    "    print(year)\n",
    "    for day in range(days):\n",
    "        date = (first_date + timedelta(days=int(ds.variables[\"time\"][day].data.item()))).strftime(\"%Y-%m-%d\")\n",
    "        daily_flattened = data[day].flatten()\n",
    "        daily_data = daily_flattened.filled(np.nan)\n",
    "        for _, dep in geo.iterrows():\n",
    "            if not np.all(np.isnan(daily_data)): #check if full array is not nan\n",
    "                prepared = prep(dep[\"geometry\"]) #use prep for batch operations\n",
    "                valid_points = []\n",
    "                valid_points.extend(filter(prepared.contains, points)) #find POINTS in dep\n",
    "                valid_indices = [points[point] for point in valid_points if point in points] #make a list of valid points that are in the dep\n",
    "                ndvi = daily_data[valid_indices]\n",
    "                mean_ndvi = np.nanmean(ndvi)\n",
    "            else:\n",
    "                mean_ndvi = np.nan\n",
    "            result.append({\"date\": date, \"departement\": dep[\"nom\"], \"dep\": dep[\"code\"], \"ndvi_mean\": float(mean_ndvi)})\n",
    "    df = pd.DataFrame(result)\n",
    "    df.to_csv(f\"{NDVI_DATA_URL}/{year}.csv\")"
   ]
  },
  {
   "cell_type": "code",
   "execution_count": null,
   "metadata": {},
   "outputs": [],
   "source": []
  },
  {
   "cell_type": "code",
   "execution_count": null,
   "metadata": {},
   "outputs": [],
   "source": []
  }
 ],
 "metadata": {
  "kernelspec": {
   "display_name": "conda-env",
   "language": "python",
   "name": "python3"
  },
  "language_info": {
   "codemirror_mode": {
    "name": "ipython",
    "version": 3
   },
   "file_extension": ".py",
   "mimetype": "text/x-python",
   "name": "python",
   "nbconvert_exporter": "python",
   "pygments_lexer": "ipython3",
   "version": "3.12.8"
  }
 },
 "nbformat": 4,
 "nbformat_minor": 4
}
