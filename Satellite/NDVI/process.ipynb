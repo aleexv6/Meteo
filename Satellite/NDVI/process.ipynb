{
 "cells": [
  {
   "cell_type": "code",
   "execution_count": 5,
   "metadata": {},
   "outputs": [],
   "source": [
    "from netCDF4 import Dataset\n",
    "import numpy as np\n",
    "import pandas as pd\n",
    "from shapely.geometry import Point\n",
    "from shapely.prepared import prep\n",
    "import geopandas\n",
    "from config import NDVI_DATA_URL\n",
    "import os\n",
    "from datetime import datetime, timedelta"
   ]
  },
  {
   "cell_type": "code",
   "execution_count": 6,
   "metadata": {},
   "outputs": [],
   "source": [
    "def check_bit(arr, satellite=\"AVHRR\"):\n",
    "    if satellite == \"AVHRR\":\n",
    "        # bit mask 5.3 in doc : https://www.ncei.noaa.gov/pub/data/sds/cdr/CDRs/Normalized_Difference_Vegetation_Index/AVHRR/AlgorithmDescriptionAVHRR_01B-20b.pdf\n",
    "        mask_fixed_bits = np.uint16(0b0001111111011110)  # Où les bits fixes sont à 1\n",
    "        expected_values = np.uint16(0b0000000010000000)  # Les valeurs attendues pour ces bits fixes\n",
    "    elif satellite == \"VIIRS\":\n",
    "        #bit mask 4.3 in doc : https://www.ncei.noaa.gov/pub/data/sds/cdr/CDRs/Normalized_Difference_Vegetation_Index/VIIRS/AlgorithmDescriptionVIIRS_01B-20b.pdf\n",
    "        mask_fixed_bits = np.uint16(0b1000011101110111)  # Où les bits fixes sont à 1\n",
    "        expected_values = np.uint16(0b0000000001000000)  # Les valeurs attendues pour ces bits fixes\n",
    "    else:\n",
    "        print(\"Bad argument for QA\")\n",
    "        return \"\"\n",
    "    \n",
    "    # mask\n",
    "    return (arr & mask_fixed_bits) == expected_values"
   ]
  },
  {
   "cell_type": "code",
   "execution_count": 7,
   "metadata": {},
   "outputs": [],
   "source": [
    "data_index = 0\n",
    "points = dict()\n",
    "latitude = Dataset(f\"{NDVI_DATA_URL}/yearly_subsample/1981.nc\").variables[\"latitude\"][:]\n",
    "longitude = Dataset(f\"{NDVI_DATA_URL}/yearly_subsample/1981.nc\").variables[\"longitude\"][:]\n",
    "#for every lat and lon, we make a dict of index POINT(lon, lat) and value the index of the data associated with this point\n",
    "for lat in latitude:\n",
    "    for lon in longitude:\n",
    "        points[Point(lon, lat)] = data_index\n",
    "        data_index +=1"
   ]
  },
  {
   "cell_type": "code",
   "execution_count": 8,
   "metadata": {},
   "outputs": [],
   "source": [
    "geo = geopandas.read_file(\"geojsonfrance_corse_20.json\") #read france departement geometries\n",
    "geo[\"code\"] = geo[\"code\"].astype(int)\n",
    "geo = geo.sort_values(by=\"code\").reset_index(drop=True)"
   ]
  },
  {
   "cell_type": "code",
   "execution_count": null,
   "metadata": {},
   "outputs": [],
   "source": [
    "result = []\n",
    "for file in sorted(os.listdir(f\"{NDVI_DATA_URL}/yearly_subsample/\")):\n",
    "    year = file[:4]\n",
    "    ds = Dataset(f\"{NDVI_DATA_URL}/yearly_subsample/{file}\")\n",
    "    data = ds.variables[\"NDVI\"][:]\n",
    "    qa = ds.variables[\"QA\"][:]\n",
    "    if int(year) >= 2014:\n",
    "        is_cloudy = check_bit(qa, satellite=\"VIIRS\") #qa is integer -> bitwise operation to make a 16 bit binary value with 1 at 10th place and logical and operation between the two (10th bit is set to one when cloudy)\n",
    "    else:\n",
    "        is_cloudy = check_bit(qa, satellite=\"AVHRR\")\n",
    "    days = data.shape[0]\n",
    "    first_date = datetime(1981, 1, 1)\n",
    "    print(year)\n",
    "    for day in range(days):\n",
    "        date = (first_date + timedelta(days=int(ds.variables[\"time\"][day].data.item()))).strftime(\"%Y-%m-%d\")\n",
    "        cloud_masked = np.ma.masked_array(data[day], mask=~is_cloudy[day])\n",
    "        daily_flattened = cloud_masked.flatten()\n",
    "        daily_data = daily_flattened.filled(np.nan)\n",
    "        for _, dep in geo.iterrows():\n",
    "            if not np.all(np.isnan(daily_data)): #check if full array is not nan\n",
    "                prepared = prep(dep[\"geometry\"]) #use prep for batch operations\n",
    "                valid_points = []\n",
    "                valid_points.extend(filter(prepared.contains, points)) #find POINTS in dep\n",
    "                valid_indices = [points[point] for point in valid_points if point in points] #make a list of valid points that are in the dep\n",
    "                ndvi = daily_data[valid_indices]\n",
    "                mean_ndvi = np.nanmean(ndvi)\n",
    "            else:\n",
    "                mean_ndvi = np.nan\n",
    "            result.append({\"date\": date, \"departement\": dep[\"nom\"], \"dep\": dep[\"code\"], \"ndvi_mean\": float(mean_ndvi)})\n",
    "    df = pd.DataFrame(result)\n",
    "    df.to_csv(f\"{NDVI_DATA_URL}/no_cloud/{year}.csv\")"
   ]
  },
  {
   "cell_type": "code",
   "execution_count": null,
   "metadata": {},
   "outputs": [
    {
     "name": "stderr",
     "output_type": "stream",
     "text": [
      "C:\\Users\\alexl\\AppData\\Local\\Temp\\ipykernel_5788\\1570962859.py:22: RuntimeWarning: Mean of empty slice\n",
      "  mean_ndvi = np.nanmean(ndvi)\n"
     ]
    }
   ],
   "source": [
    "#single file (for concat last year)\n",
    "result = []\n",
    "year = \"2025\"\n",
    "ds = Dataset(f\"{NDVI_DATA_URL}/yearly_subsample/2025.nc\")\n",
    "data = ds.variables[\"NDVI\"][:]\n",
    "qa = ds.variables[\"QA\"][:]\n",
    "is_cloudy = check_bit(qa, satellite=\"VIIRS\") #qa is integer -> bitwise operation to make a 16 bit binary value with 1 at 10th place and logical and operation between the two (10th bit is set to one when cloudy)\n",
    "days = data.shape[0]\n",
    "first_date = datetime(1981, 1, 1)\n",
    "for day in range(days):\n",
    "    date = (first_date + timedelta(days=int(ds.variables[\"time\"][day].data.item()))).strftime(\"%Y-%m-%d\")\n",
    "    cloud_masked = np.ma.masked_array(data[day], mask=~is_cloudy[day])\n",
    "    daily_flattened = cloud_masked.flatten()\n",
    "    daily_data = daily_flattened.filled(np.nan)\n",
    "    for _, dep in geo.iterrows():\n",
    "        if not np.all(np.isnan(daily_data)): #check if full array is not nan\n",
    "            prepared = prep(dep[\"geometry\"]) #use prep for batch operations\n",
    "            valid_points = []\n",
    "            valid_points.extend(filter(prepared.contains, points)) #find POINTS in dep\n",
    "            valid_indices = [points[point] for point in valid_points if point in points] #make a list of valid points that are in the dep\n",
    "            ndvi = daily_data[valid_indices]\n",
    "            mean_ndvi = np.nanmean(ndvi)\n",
    "        else:\n",
    "            mean_ndvi = np.nan\n",
    "        result.append({\"date\": date, \"departement\": dep[\"nom\"], \"dep\": dep[\"code\"], \"ndvi_mean\": float(mean_ndvi)})\n",
    "df = pd.DataFrame(result)\n",
    "\n",
    "hist = pd.read_csv(f\"{NDVI_DATA_URL}/no_cloud/{year}.csv\").drop(\"Unnamed: 0\", axis=1)\n",
    "hist = hist.sort_values(by=\"date\")\n",
    "\n",
    "current = df[df[\"date\"] > hist[\"date\"].iloc[-1]]\n",
    "\n",
    "result = pd.concat([hist, current])\n",
    "result.to_csv(f\"{NDVI_DATA_URL}/no_cloud/{year}.csv\")"
   ]
  },
  {
   "cell_type": "code",
   "execution_count": null,
   "metadata": {},
   "outputs": [],
   "source": []
  },
  {
   "cell_type": "code",
   "execution_count": null,
   "metadata": {},
   "outputs": [],
   "source": [
    "ds = Dataset(f\"{NDVI_DATA_URL}/yearly_subsample/1981.nc\")\n",
    "data = ds.variables[\"NDVI\"][:]\n",
    "qa = ds.variables[\"QA\"][:]\n",
    "is_cloudy = check_bit(qa, satellite=\"AVHRR\") #qa is integer -> bitwise operation to make a 16 bit binary value with 1 at 10th place and logical and operation between the two (10th bit is set to one when cloudy)"
   ]
  },
  {
   "cell_type": "code",
   "execution_count": null,
   "metadata": {},
   "outputs": [],
   "source": []
  }
 ],
 "metadata": {
  "kernelspec": {
   "display_name": "conda-env",
   "language": "python",
   "name": "python3"
  },
  "language_info": {
   "codemirror_mode": {
    "name": "ipython",
    "version": 3
   },
   "file_extension": ".py",
   "mimetype": "text/x-python",
   "name": "python",
   "nbconvert_exporter": "python",
   "pygments_lexer": "ipython3",
   "version": "3.12.8"
  }
 },
 "nbformat": 4,
 "nbformat_minor": 4
}
