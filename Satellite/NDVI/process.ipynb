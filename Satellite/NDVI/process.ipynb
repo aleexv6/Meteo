{
 "cells": [
  {
   "cell_type": "code",
   "execution_count": 1,
   "metadata": {},
   "outputs": [],
   "source": [
    "from netCDF4 import Dataset\n",
    "import numpy as np\n",
    "import pandas as pd\n",
    "from shapely.geometry import Point\n",
    "from shapely.prepared import prep\n",
    "import geopandas\n",
    "from config import NDVI_DATA_URL\n",
    "import os\n",
    "from datetime import datetime, timedelta\n",
    "\n",
    "import matplotlib.pyplot as plt"
   ]
  },
  {
   "cell_type": "code",
   "execution_count": 2,
   "metadata": {},
   "outputs": [],
   "source": [
    "def check_bit(arr, satellite=\"AVHRR\"):\n",
    "    if satellite == \"AVHRR\":\n",
    "        # bit mask 5.3 in doc : https://www.ncei.noaa.gov/pub/data/sds/cdr/CDRs/Normalized_Difference_Vegetation_Index/AVHRR/AlgorithmDescriptionAVHRR_01B-20b.pdf\n",
    "        mask_fixed_bits = np.uint16(0b0001111111011110)  # Où les bits fixes sont à 1\n",
    "        expected_values = np.uint16(0b0000000010000000)  # Les valeurs attendues pour ces bits fixes\n",
    "    elif satellite == \"VIIRS\":\n",
    "        #bit mask 4.3 in doc : https://www.ncei.noaa.gov/pub/data/sds/cdr/CDRs/Normalized_Difference_Vegetation_Index/VIIRS/AlgorithmDescriptionVIIRS_01B-20b.pdf\n",
    "        mask_fixed_bits = np.uint16(0b1000011101110111)  # Où les bits fixes sont à 1\n",
    "        expected_values = np.uint16(0b0000000001000000)  # Les valeurs attendues pour ces bits fixes\n",
    "    else:\n",
    "        print(\"Bad argument for QA\")\n",
    "        return \"\"\n",
    "    \n",
    "    # mask\n",
    "    return (arr & mask_fixed_bits) == expected_values"
   ]
  },
  {
   "cell_type": "code",
   "execution_count": 3,
   "metadata": {},
   "outputs": [],
   "source": [
    "data_index = 0\n",
    "points = dict()\n",
    "latitude = Dataset(f\"{NDVI_DATA_URL}/yearly_subsample/1981.nc\").variables[\"latitude\"][:]\n",
    "longitude = Dataset(f\"{NDVI_DATA_URL}/yearly_subsample/1981.nc\").variables[\"longitude\"][:]\n",
    "#for every lat and lon, we make a dict of index POINT(lon, lat) and value the index of the data associated with this point\n",
    "for lat in latitude:\n",
    "    for lon in longitude:\n",
    "        points[Point(lon, lat)] = data_index\n",
    "        data_index +=1"
   ]
  },
  {
   "cell_type": "code",
   "execution_count": 4,
   "metadata": {},
   "outputs": [],
   "source": [
    "geo = geopandas.read_file(\"geojsonfrance_corse_20.json\") #read france departement geometries\n",
    "geo[\"code\"] = geo[\"code\"].astype(int)\n",
    "geo = geo.sort_values(by=\"code\").reset_index(drop=True)"
   ]
  },
  {
   "cell_type": "code",
   "execution_count": 5,
   "metadata": {},
   "outputs": [
    {
     "name": "stdout",
     "output_type": "stream",
     "text": [
      "1981\n"
     ]
    },
    {
     "name": "stderr",
     "output_type": "stream",
     "text": [
      "C:\\Users\\alexl\\AppData\\Local\\Temp\\ipykernel_15388\\2343476595.py:26: RuntimeWarning: Mean of empty slice\n",
      "  mean_ndvi = np.nanmean(ndvi)\n"
     ]
    },
    {
     "name": "stdout",
     "output_type": "stream",
     "text": [
      "1982\n"
     ]
    },
    {
     "ename": "KeyboardInterrupt",
     "evalue": "",
     "output_type": "error",
     "traceback": [
      "\u001b[1;31m---------------------------------------------------------------------------\u001b[0m",
      "\u001b[1;31mKeyboardInterrupt\u001b[0m                         Traceback (most recent call last)",
      "Cell \u001b[1;32mIn[5], line 23\u001b[0m\n\u001b[0;32m     21\u001b[0m prepared \u001b[38;5;241m=\u001b[39m prep(dep[\u001b[38;5;124m\"\u001b[39m\u001b[38;5;124mgeometry\u001b[39m\u001b[38;5;124m\"\u001b[39m]) \u001b[38;5;66;03m#use prep for batch operations\u001b[39;00m\n\u001b[0;32m     22\u001b[0m valid_points \u001b[38;5;241m=\u001b[39m []\n\u001b[1;32m---> 23\u001b[0m valid_points\u001b[38;5;241m.\u001b[39mextend(\u001b[38;5;28mfilter\u001b[39m(prepared\u001b[38;5;241m.\u001b[39mcontains, points)) \u001b[38;5;66;03m#find POINTS in dep\u001b[39;00m\n\u001b[0;32m     24\u001b[0m valid_indices \u001b[38;5;241m=\u001b[39m [points[point] \u001b[38;5;28;01mfor\u001b[39;00m point \u001b[38;5;129;01min\u001b[39;00m valid_points \u001b[38;5;28;01mif\u001b[39;00m point \u001b[38;5;129;01min\u001b[39;00m points] \u001b[38;5;66;03m#make a list of valid points that are in the dep\u001b[39;00m\n\u001b[0;32m     25\u001b[0m ndvi \u001b[38;5;241m=\u001b[39m daily_data[valid_indices]\n",
      "File \u001b[1;32mc:\\Users\\alexl\\miniconda3\\envs\\conda-env\\Lib\\site-packages\\shapely\\prepared.py:32\u001b[0m, in \u001b[0;36mPreparedGeometry.contains\u001b[1;34m(self, other)\u001b[0m\n\u001b[0;32m     30\u001b[0m \u001b[38;5;28;01mdef\u001b[39;00m \u001b[38;5;21mcontains\u001b[39m(\u001b[38;5;28mself\u001b[39m, other):\n\u001b[0;32m     31\u001b[0m \u001b[38;5;250m    \u001b[39m\u001b[38;5;124;03m\"\"\"Returns True if the geometry contains the other, else False\"\"\"\u001b[39;00m\n\u001b[1;32m---> 32\u001b[0m     \u001b[38;5;28;01mreturn\u001b[39;00m \u001b[38;5;28mself\u001b[39m\u001b[38;5;241m.\u001b[39mcontext\u001b[38;5;241m.\u001b[39mcontains(other)\n",
      "File \u001b[1;32mc:\\Users\\alexl\\miniconda3\\envs\\conda-env\\Lib\\site-packages\\shapely\\geometry\\base.py:675\u001b[0m, in \u001b[0;36mBaseGeometry.contains\u001b[1;34m(self, other)\u001b[0m\n\u001b[0;32m    673\u001b[0m \u001b[38;5;28;01mdef\u001b[39;00m \u001b[38;5;21mcontains\u001b[39m(\u001b[38;5;28mself\u001b[39m, other):\n\u001b[0;32m    674\u001b[0m \u001b[38;5;250m    \u001b[39m\u001b[38;5;124;03m\"\"\"Returns True if the geometry contains the other, else False\"\"\"\u001b[39;00m\n\u001b[1;32m--> 675\u001b[0m     \u001b[38;5;28;01mreturn\u001b[39;00m _maybe_unpack(shapely\u001b[38;5;241m.\u001b[39mcontains(\u001b[38;5;28mself\u001b[39m, other))\n",
      "File \u001b[1;32mc:\\Users\\alexl\\miniconda3\\envs\\conda-env\\Lib\\site-packages\\shapely\\decorators.py:77\u001b[0m, in \u001b[0;36mmultithreading_enabled.<locals>.wrapped\u001b[1;34m(*args, **kwargs)\u001b[0m\n\u001b[0;32m     75\u001b[0m     \u001b[38;5;28;01mfor\u001b[39;00m arr \u001b[38;5;129;01min\u001b[39;00m array_args:\n\u001b[0;32m     76\u001b[0m         arr\u001b[38;5;241m.\u001b[39mflags\u001b[38;5;241m.\u001b[39mwriteable \u001b[38;5;241m=\u001b[39m \u001b[38;5;28;01mFalse\u001b[39;00m\n\u001b[1;32m---> 77\u001b[0m     \u001b[38;5;28;01mreturn\u001b[39;00m func(\u001b[38;5;241m*\u001b[39margs, \u001b[38;5;241m*\u001b[39m\u001b[38;5;241m*\u001b[39mkwargs)\n\u001b[0;32m     78\u001b[0m \u001b[38;5;28;01mfinally\u001b[39;00m:\n\u001b[0;32m     79\u001b[0m     \u001b[38;5;28;01mfor\u001b[39;00m arr, old_flag \u001b[38;5;129;01min\u001b[39;00m \u001b[38;5;28mzip\u001b[39m(array_args, old_flags):\n",
      "File \u001b[1;32mc:\\Users\\alexl\\miniconda3\\envs\\conda-env\\Lib\\site-packages\\shapely\\predicates.py:526\u001b[0m, in \u001b[0;36mcontains\u001b[1;34m(a, b, **kwargs)\u001b[0m\n\u001b[0;32m    472\u001b[0m \u001b[38;5;129m@multithreading_enabled\u001b[39m\n\u001b[0;32m    473\u001b[0m \u001b[38;5;28;01mdef\u001b[39;00m \u001b[38;5;21mcontains\u001b[39m(a, b, \u001b[38;5;241m*\u001b[39m\u001b[38;5;241m*\u001b[39mkwargs):\n\u001b[0;32m    474\u001b[0m \u001b[38;5;250m    \u001b[39m\u001b[38;5;124;03m\"\"\"Returns True if geometry B is completely inside geometry A.\u001b[39;00m\n\u001b[0;32m    475\u001b[0m \n\u001b[0;32m    476\u001b[0m \u001b[38;5;124;03m    A contains B if no points of B lie in the exterior of A and at least one\u001b[39;00m\n\u001b[1;32m   (...)\u001b[0m\n\u001b[0;32m    524\u001b[0m \u001b[38;5;124;03m    False\u001b[39;00m\n\u001b[0;32m    525\u001b[0m \u001b[38;5;124;03m    \"\"\"\u001b[39;00m\n\u001b[1;32m--> 526\u001b[0m     \u001b[38;5;28;01mreturn\u001b[39;00m lib\u001b[38;5;241m.\u001b[39mcontains(a, b, \u001b[38;5;241m*\u001b[39m\u001b[38;5;241m*\u001b[39mkwargs)\n",
      "\u001b[1;31mKeyboardInterrupt\u001b[0m: "
     ]
    }
   ],
   "source": [
    "result = []\n",
    "for file in sorted(os.listdir(f\"{NDVI_DATA_URL}/yearly_subsample/\")):\n",
    "    year = file[:4]\n",
    "    ds = Dataset(f\"{NDVI_DATA_URL}/yearly_subsample/{file}\")\n",
    "    data = ds.variables[\"NDVI\"][:]\n",
    "    qa = ds.variables[\"QA\"][:]\n",
    "    if int(year) >= 2014:\n",
    "        is_cloudy = check_bit(qa, satellite=\"VIIRS\") #qa is integer -> bitwise operation to make a 16 bit binary value with 1 at 10th place and logical and operation between the two (10th bit is set to one when cloudy)\n",
    "    else:\n",
    "        is_cloudy = check_bit(qa, satellite=\"AVHRR\")\n",
    "    days = data.shape[0]\n",
    "    first_date = datetime(1981, 1, 1)\n",
    "    print(year)\n",
    "    for day in range(days):\n",
    "        date = (first_date + timedelta(days=int(ds.variables[\"time\"][day].data.item()))).strftime(\"%Y-%m-%d\")\n",
    "        cloud_masked = np.ma.masked_array(data[day], mask=~is_cloudy[day])\n",
    "        daily_flattened = cloud_masked.flatten()\n",
    "        daily_data = daily_flattened.filled(np.nan)\n",
    "        for _, dep in geo.iterrows():\n",
    "            if not np.all(np.isnan(daily_data)): #check if full array is not nan\n",
    "                prepared = prep(dep[\"geometry\"]) #use prep for batch operations\n",
    "                valid_points = []\n",
    "                valid_points.extend(filter(prepared.contains, points)) #find POINTS in dep\n",
    "                valid_indices = [points[point] for point in valid_points if point in points] #make a list of valid points that are in the dep\n",
    "                ndvi = daily_data[valid_indices]\n",
    "                mean_ndvi = np.nanmean(ndvi)\n",
    "            else:\n",
    "                mean_ndvi = np.nan\n",
    "            result.append({\"date\": date, \"departement\": dep[\"nom\"], \"dep\": dep[\"code\"], \"ndvi_mean\": float(mean_ndvi)})\n",
    "    df = pd.DataFrame(result)\n",
    "    df.to_csv(f\"{NDVI_DATA_URL}/no_cloud/{year}.csv\")"
   ]
  },
  {
   "cell_type": "code",
   "execution_count": null,
   "metadata": {},
   "outputs": [],
   "source": [
    "#TODO : check why everything is nan, it worked for 2022 alone in dep 79, now for every year every dep, everything is nan"
   ]
  },
  {
   "cell_type": "code",
   "execution_count": null,
   "metadata": {},
   "outputs": [],
   "source": [
    "ds = Dataset(f\"{NDVI_DATA_URL}/yearly_subsample/1981.nc\")\n",
    "data = ds.variables[\"NDVI\"][:]\n",
    "qa = ds.variables[\"QA\"][:]\n",
    "is_cloudy = check_bit(qa, satellite=\"AVHRR\") #qa is integer -> bitwise operation to make a 16 bit binary value with 1 at 10th place and logical and operation between the two (10th bit is set to one when cloudy)"
   ]
  },
  {
   "cell_type": "code",
   "execution_count": null,
   "metadata": {},
   "outputs": [],
   "source": []
  }
 ],
 "metadata": {
  "kernelspec": {
   "display_name": "conda-env",
   "language": "python",
   "name": "python3"
  },
  "language_info": {
   "codemirror_mode": {
    "name": "ipython",
    "version": 3
   },
   "file_extension": ".py",
   "mimetype": "text/x-python",
   "name": "python",
   "nbconvert_exporter": "python",
   "pygments_lexer": "ipython3",
   "version": "3.12.8"
  }
 },
 "nbformat": 4,
 "nbformat_minor": 4
}
