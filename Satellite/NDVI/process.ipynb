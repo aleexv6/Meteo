{
 "cells": [
  {
   "cell_type": "code",
   "execution_count": 1,
   "metadata": {},
   "outputs": [],
   "source": [
    "from netCDF4 import Dataset\n",
    "import numpy as np\n",
    "import pandas as pd\n",
    "from shapely.geometry import Point\n",
    "from shapely.prepared import prep\n",
    "import geopandas\n",
    "from config import NDVI_DATA_URL\n",
    "import os\n",
    "from datetime import datetime, timedelta"
   ]
  },
  {
   "cell_type": "code",
   "execution_count": 2,
   "metadata": {},
   "outputs": [],
   "source": [
    "data_index = 0\n",
    "points = dict()\n",
    "latitude = Dataset(f\"{NDVI_DATA_URL}/yearly_aggregated/1981.nc\").variables[\"latitude\"][:]\n",
    "longitude = Dataset(f\"{NDVI_DATA_URL}/yearly_aggregated/1981.nc\").variables[\"longitude\"][:]\n",
    "#for every lat and lon, we make a dict of index POINT(lon, lat) and value the index of the data associated with this point\n",
    "for lat in latitude:\n",
    "    for lon in longitude:\n",
    "        points[Point(lon, lat)] = data_index\n",
    "        data_index +=1"
   ]
  },
  {
   "cell_type": "code",
   "execution_count": 3,
   "metadata": {},
   "outputs": [],
   "source": [
    "geo = geopandas.read_file(\"geojsonfrance_corse_20.json\") #read france departement geometries\n",
    "geo[\"code\"] = geo[\"code\"].astype(int)\n",
    "geo = geo.sort_values(by=\"code\").reset_index(drop=True)"
   ]
  },
  {
   "cell_type": "code",
   "execution_count": null,
   "metadata": {},
   "outputs": [],
   "source": []
  },
  {
   "cell_type": "code",
   "execution_count": null,
   "metadata": {},
   "outputs": [],
   "source": [
    "result = []\n",
    "for file in sorted(os.listdir(f\"{NDVI_DATA_URL}/yearly_aggregated/\")):\n",
    "    ds = Dataset(f\"{NDVI_DATA_URL}/yearly_aggregated/{file}\")\n",
    "    data = ds.variables[\"NDVI\"][:]\n",
    "    days = data.shape[0]\n",
    "    first_date = datetime(1981, 1, 1)\n",
    "    year = file[:4]\n",
    "    print(year)\n",
    "    for day in range(days):\n",
    "        date = (first_date + timedelta(days=int(ds.variables[\"time\"][day].data.item()))).strftime(\"%Y-%m-%d\")\n",
    "        daily_flattened = data[day].flatten()\n",
    "        daily_data = daily_flattened.filled(np.nan)\n",
    "        for _, dep in geo.iterrows():\n",
    "            if not np.all(np.isnan(daily_data)): #check if full array is not nan\n",
    "                prepared = prep(dep[\"geometry\"]) #use prep for batch operations\n",
    "                valid_points = []\n",
    "                valid_points.extend(filter(prepared.contains, points)) #find POINTS in dep\n",
    "                valid_indices = [points[point] for point in valid_points if point in points] #make a list of valid points that are in the dep\n",
    "                ndvi = daily_data[valid_indices]\n",
    "                mean_ndvi = np.nanmean(ndvi)\n",
    "            else:\n",
    "                mean_ndvi = np.nan\n",
    "            result.append({\"date\": date, \"departement\": dep[\"nom\"], \"dep\": dep[\"code\"], \"ndvi_mean\": float(mean_ndvi)})\n",
    "    df = pd.DataFrame(result)\n",
    "    df.to_csv(f\"{NDVI_DATA_URL}/{year}.csv\")"
   ]
  },
  {
   "cell_type": "code",
   "execution_count": null,
   "metadata": {},
   "outputs": [],
   "source": []
  },
  {
   "cell_type": "code",
   "execution_count": 9,
   "metadata": {},
   "outputs": [
    {
     "data": {
      "text/plain": [
       "masked_array(data=[50.975   , 50.925   , 50.874996, 50.824997, 50.774998,\n",
       "                   50.725   , 50.675   , 50.624996, 50.574997, 50.524998,\n",
       "                   50.475   , 50.425   , 50.374996, 50.324997, 50.274998,\n",
       "                   50.225   , 50.175   , 50.124996, 50.074997, 50.024998,\n",
       "                   49.975   , 49.925   , 49.874996, 49.824997, 49.774998,\n",
       "                   49.725   , 49.675   , 49.624996, 49.574997, 49.524998,\n",
       "                   49.475   , 49.425   , 49.374996, 49.324997, 49.274998,\n",
       "                   49.225   , 49.175   , 49.124996, 49.074997, 49.024998,\n",
       "                   48.975   , 48.925   , 48.874996, 48.824997, 48.774998,\n",
       "                   48.725   , 48.675   , 48.624996, 48.574997, 48.524998,\n",
       "                   48.475   , 48.425   , 48.374996, 48.324997, 48.274998,\n",
       "                   48.225   , 48.175   , 48.124996, 48.074997, 48.024998,\n",
       "                   47.975   , 47.925   , 47.874996, 47.824997, 47.774998,\n",
       "                   47.725   , 47.675   , 47.624996, 47.574997, 47.524998,\n",
       "                   47.475   , 47.425   , 47.374996, 47.324997, 47.274998,\n",
       "                   47.225   , 47.175   , 47.124996, 47.074997, 47.024998,\n",
       "                   46.975   , 46.925   , 46.874996, 46.824997, 46.774998,\n",
       "                   46.725   , 46.675   , 46.624996, 46.574997, 46.524998,\n",
       "                   46.475   , 46.425   , 46.374996, 46.324997, 46.274998,\n",
       "                   46.225   , 46.175   , 46.124996, 46.074997, 46.024998,\n",
       "                   45.975   , 45.925   , 45.874996, 45.824997, 45.774998,\n",
       "                   45.725   , 45.675   , 45.624996, 45.574997, 45.524998,\n",
       "                   45.475   , 45.425   , 45.374996, 45.324997, 45.274998,\n",
       "                   45.225   , 45.175   , 45.124996, 45.074997, 45.024998,\n",
       "                   44.975   , 44.925   , 44.874996, 44.824997, 44.774998,\n",
       "                   44.725   , 44.675   , 44.624996, 44.574997, 44.524998,\n",
       "                   44.475   , 44.425   , 44.374996, 44.324997, 44.274998,\n",
       "                   44.225   , 44.175   , 44.124996, 44.074997, 44.024998,\n",
       "                   43.975   , 43.925   , 43.874996, 43.824997, 43.774998,\n",
       "                   43.725   , 43.675   , 43.624996, 43.574997, 43.524998,\n",
       "                   43.475   , 43.425   , 43.374996, 43.324997, 43.274998,\n",
       "                   43.225   , 43.175   , 43.124996, 43.074997, 43.024998,\n",
       "                   42.975   , 42.925   , 42.874996, 42.824997, 42.774998,\n",
       "                   42.725   , 42.675   , 42.624996, 42.574997, 42.524998,\n",
       "                   42.475   , 42.425   , 42.374996, 42.324997, 42.274998,\n",
       "                   42.225   , 42.175   , 42.124996, 42.074997, 42.024998],\n",
       "             mask=False,\n",
       "       fill_value=np.float64(1e+20),\n",
       "            dtype=float32)"
      ]
     },
     "execution_count": 9,
     "metadata": {},
     "output_type": "execute_result"
    }
   ],
   "source": [
    "ds = Dataset(f\"{NDVI_DATA_URL}/yearly_aggregated/2024.nc\")\n",
    "ds.variables[\"latitude\"][:]"
   ]
  },
  {
   "cell_type": "code",
   "execution_count": null,
   "metadata": {},
   "outputs": [],
   "source": []
  }
 ],
 "metadata": {
  "kernelspec": {
   "display_name": "Python 3 (ipykernel)",
   "language": "python",
   "name": "python3"
  },
  "language_info": {
   "codemirror_mode": {
    "name": "ipython",
    "version": 3
   },
   "file_extension": ".py",
   "mimetype": "text/x-python",
   "name": "python",
   "nbconvert_exporter": "python",
   "pygments_lexer": "ipython3",
   "version": "3.12.2"
  }
 },
 "nbformat": 4,
 "nbformat_minor": 4
}
