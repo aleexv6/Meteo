{
 "cells": [
  {
   "cell_type": "code",
   "execution_count": 1,
   "id": "acc72513",
   "metadata": {},
   "outputs": [],
   "source": [
    "import pandas as pd\n",
    "from config import NDVI_DATA_URL\n",
    "import os"
   ]
  },
  {
   "cell_type": "code",
   "execution_count": 2,
   "id": "f8538f3d",
   "metadata": {},
   "outputs": [],
   "source": [
    "def get_market_year(row): #make a market year row in datas\n",
    "    year = row['date'].year\n",
    "    month = row['date'].month\n",
    "    if month >= 9:\n",
    "        market_year = f\"{year}/{year + 1}\"\n",
    "    else:\n",
    "        market_year = f\"{year - 1}/{year}\"\n",
    "    return market_year"
   ]
  },
  {
   "cell_type": "code",
   "execution_count": 3,
   "id": "4f1b2355",
   "metadata": {},
   "outputs": [],
   "source": [
    "hist = pd.read_csv(f\"{NDVI_DATA_URL}/no_cloud/2025.csv\").drop(\"Unnamed: 0\", axis=1)"
   ]
  },
  {
   "cell_type": "code",
   "execution_count": 4,
   "id": "c3d0e23c",
   "metadata": {},
   "outputs": [],
   "source": [
    "hist[\"date\"] = pd.to_datetime(hist[\"date\"])\n",
    "hist = hist[hist[\"date\"] >= \"2019-09-01\"] #year to start, i will take arbitrary last 5 market years\n",
    "hist[\"MY\"] = hist.apply(get_market_year, axis=1)\n",
    "hist[\"MONTH\"] = hist[\"date\"].dt.month\n",
    "hist = hist[~hist[\"dep\"].isin([75, 93])]\n",
    "current = hist[hist[\"MY\"] == \"2024/2025\"].copy() #copy current MY\n",
    "hist = hist[hist[\"MY\"] != \"2024/2025\"] #remove current MY"
   ]
  },
  {
   "cell_type": "code",
   "execution_count": 5,
   "id": "a8242ed1",
   "metadata": {},
   "outputs": [],
   "source": [
    "meanHist = hist[[\"dep\", \"MONTH\", \"ndvi_mean\"]].groupby([\"dep\", \"MONTH\"]).mean().reset_index()"
   ]
  },
  {
   "cell_type": "code",
   "execution_count": 6,
   "id": "47e65e8a",
   "metadata": {},
   "outputs": [],
   "source": [
    "meanCurrent = current[[\"dep\", \"MONTH\", \"ndvi_mean\"]].groupby([\"dep\", \"MONTH\"]).mean().reset_index()"
   ]
  },
  {
   "cell_type": "code",
   "execution_count": 7,
   "id": "05dd5ac2",
   "metadata": {},
   "outputs": [],
   "source": [
    "custom_month_order = [9, 10, 11, 12, 1, 2, 3, 4, 5, 6, 7, 8] #order month in real MY month series\n",
    "meanCurrent['MONTHCAT'] = pd.Categorical(meanCurrent['MONTH'], categories=custom_month_order, ordered=True) #convert month column to a categorical type with the custom order\n",
    "meanCurrent = meanCurrent.sort_values(['dep', 'MONTHCAT']) #sort values with dep then month\n",
    "meanCurrent['ndvi_mean'] = meanCurrent.groupby('dep')['ndvi_mean'].ffill() #fill nan values with previous month (9 first, if 9 is nan, will still be nan)"
   ]
  },
  {
   "cell_type": "code",
   "execution_count": 8,
   "id": "64c70f41",
   "metadata": {},
   "outputs": [
    {
     "data": {
      "text/html": [
       "<div>\n",
       "<style scoped>\n",
       "    .dataframe tbody tr th:only-of-type {\n",
       "        vertical-align: middle;\n",
       "    }\n",
       "\n",
       "    .dataframe tbody tr th {\n",
       "        vertical-align: top;\n",
       "    }\n",
       "\n",
       "    .dataframe thead th {\n",
       "        text-align: right;\n",
       "    }\n",
       "</style>\n",
       "<table border=\"1\" class=\"dataframe\">\n",
       "  <thead>\n",
       "    <tr style=\"text-align: right;\">\n",
       "      <th></th>\n",
       "      <th>dep</th>\n",
       "      <th>MONTH</th>\n",
       "      <th>ndvi_mean</th>\n",
       "      <th>MONTHCAT</th>\n",
       "    </tr>\n",
       "  </thead>\n",
       "  <tbody>\n",
       "  </tbody>\n",
       "</table>\n",
       "</div>"
      ],
      "text/plain": [
       "Empty DataFrame\n",
       "Columns: [dep, MONTH, ndvi_mean, MONTHCAT]\n",
       "Index: []"
      ]
     },
     "execution_count": 8,
     "metadata": {},
     "output_type": "execute_result"
    }
   ],
   "source": [
    "meanCurrent[meanCurrent[\"ndvi_mean\"].isna()] #if not empty, we have missing some data for current year."
   ]
  },
  {
   "cell_type": "code",
   "execution_count": null,
   "id": "eb7b0c32",
   "metadata": {},
   "outputs": [],
   "source": [
    "meanHist.to_csv(\"../../YieldModel/data/forecast/currentYear/ndvi_mean_historical.csv\")"
   ]
  },
  {
   "cell_type": "code",
   "execution_count": 10,
   "id": "71b09adb",
   "metadata": {},
   "outputs": [],
   "source": [
    "meanCurrent.to_csv(\"../../YieldModel/data/forecast/currentYear/ndvi_mean_current.csv\")"
   ]
  },
  {
   "cell_type": "code",
   "execution_count": null,
   "id": "68b61fb5",
   "metadata": {},
   "outputs": [],
   "source": []
  }
 ],
 "metadata": {
  "kernelspec": {
   "display_name": "Python 3",
   "language": "python",
   "name": "python3"
  },
  "language_info": {
   "codemirror_mode": {
    "name": "ipython",
    "version": 3
   },
   "file_extension": ".py",
   "mimetype": "text/x-python",
   "name": "python",
   "nbconvert_exporter": "python",
   "pygments_lexer": "ipython3",
   "version": "3.10.11"
  }
 },
 "nbformat": 4,
 "nbformat_minor": 5
}
