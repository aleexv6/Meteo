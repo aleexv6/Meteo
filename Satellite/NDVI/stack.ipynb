{
 "cells": [
  {
   "cell_type": "code",
   "execution_count": 1,
   "metadata": {},
   "outputs": [],
   "source": [
    "from config import NDVI_DATA_URL\n",
    "import os\n",
    "import xarray as xr\n",
    "from netCDF4 import Dataset"
   ]
  },
  {
   "cell_type": "code",
   "execution_count": 2,
   "metadata": {},
   "outputs": [
    {
     "name": "stderr",
     "output_type": "stream",
     "text": [
      "c:\\Users\\alexl\\miniconda3\\envs\\conda-env\\Lib\\site-packages\\xarray\\coding\\times.py:645: RuntimeWarning: invalid value encountered in cast\n",
      "  flat_num = flat_num.astype(np.int64)\n",
      "c:\\Users\\alexl\\miniconda3\\envs\\conda-env\\Lib\\site-packages\\xarray\\coding\\times.py:372: RuntimeWarning: invalid value encountered in multiply\n",
      "  delta = date * np.timedelta64(1, unit)\n"
     ]
    }
   ],
   "source": [
    "for year in os.listdir(f\"{NDVI_DATA_URL}/raw/\"):\n",
    "    files = [f\"{NDVI_DATA_URL}/raw/{year}/{file}\" for file in os.listdir(f\"{NDVI_DATA_URL}/raw/{year}\") if file.endswith(\".nc\")] #list of files for each year\n",
    "    ds = xr.open_mfdataset(files, combine=\"nested\", concat_dim='time') #open all the files dataset, concat them by time which will output ds in shape (len(files), latitude, longitude)\n",
    "    ds.to_netcdf(f\"{NDVI_DATA_URL}/yearly_aggregated/{year}.nc\")\n"
   ]
  },
  {
   "cell_type": "code",
   "execution_count": 25,
   "metadata": {},
   "outputs": [
    {
     "data": {
      "text/plain": [
       "(191, 180, 300)"
      ]
     },
     "execution_count": 25,
     "metadata": {},
     "output_type": "execute_result"
    }
   ],
   "source": [
    "ds.variables[\"NDVI\"].values.shape"
   ]
  },
  {
   "cell_type": "code",
   "execution_count": 6,
   "metadata": {},
   "outputs": [
    {
     "data": {
      "text/plain": [
       "(365, 180, 300)"
      ]
     },
     "execution_count": 6,
     "metadata": {},
     "output_type": "execute_result"
    }
   ],
   "source": [
    "Dataset(f\"{NDVI_DATA_URL}/yearly_aggregated/2024.nc\").variables[\"NDVI\"][:].shape"
   ]
  },
  {
   "cell_type": "code",
   "execution_count": null,
   "metadata": {},
   "outputs": [],
   "source": []
  }
 ],
 "metadata": {
  "kernelspec": {
   "display_name": "conda-env",
   "language": "python",
   "name": "python3"
  },
  "language_info": {
   "codemirror_mode": {
    "name": "ipython",
    "version": 3
   },
   "file_extension": ".py",
   "mimetype": "text/x-python",
   "name": "python",
   "nbconvert_exporter": "python",
   "pygments_lexer": "ipython3",
   "version": "3.12.8"
  }
 },
 "nbformat": 4,
 "nbformat_minor": 2
}
