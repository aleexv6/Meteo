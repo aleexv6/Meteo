{
 "cells": [
  {
   "cell_type": "code",
   "execution_count": 1,
   "metadata": {},
   "outputs": [],
   "source": [
    "from config import NDVI_DATA_URL\n",
    "import os\n",
    "import xarray as xr\n",
    "from netCDF4 import Dataset\n",
    "import numpy as np"
   ]
  },
  {
   "cell_type": "code",
   "execution_count": 2,
   "metadata": {},
   "outputs": [
    {
     "name": "stderr",
     "output_type": "stream",
     "text": [
      "c:\\Users\\alexl\\miniconda3\\envs\\conda-env\\Lib\\site-packages\\xarray\\coding\\times.py:645: RuntimeWarning: invalid value encountered in cast\n",
      "  flat_num = flat_num.astype(np.int64)\n",
      "c:\\Users\\alexl\\miniconda3\\envs\\conda-env\\Lib\\site-packages\\xarray\\coding\\times.py:372: RuntimeWarning: invalid value encountered in multiply\n",
      "  delta = date * np.timedelta64(1, unit)\n"
     ]
    }
   ],
   "source": [
    "for year in os.listdir(f\"{NDVI_DATA_URL}/raw/\"):\n",
    "    files = [f\"{NDVI_DATA_URL}/raw/{year}/{file}\" for file in os.listdir(f\"{NDVI_DATA_URL}/raw/{year}\") if file.endswith(\".nc\")] #list of files for each year\n",
    "    ds = xr.open_mfdataset(files, combine=\"nested\", concat_dim='time') #open all the files dataset, concat them by time which will output ds in shape (len(files), latitude, longitude)\n",
    "    ds.to_netcdf(f\"{NDVI_DATA_URL}/yearly_aggregated/{year}.nc\")\n"
   ]
  },
  {
   "cell_type": "code",
   "execution_count": null,
   "metadata": {},
   "outputs": [],
   "source": []
  },
  {
   "cell_type": "code",
   "execution_count": 17,
   "metadata": {},
   "outputs": [],
   "source": [
    "target_lats = np.arange(51.0, 42.0, -0.25)\n",
    "target_lons = np.arange(-5, 10, 0.25)\n",
    "for file in os.listdir(f\"{NDVI_DATA_URL}/yearly_aggregated/\"):  \n",
    "    ds = xr.open_dataset(f\"{NDVI_DATA_URL}/yearly_aggregated/{file}\")\n",
    "    subsample = ds.sel(longitude=target_lons, latitude=target_lats, method='nearest', tolerance=0.1) #subsample from 0.025 degrees to 0.25\n",
    "    subsample.to_netcdf(f\"{NDVI_DATA_URL}/yearly_subsample/{file}\") #save new nc file"
   ]
  },
  {
   "cell_type": "code",
   "execution_count": 2,
   "metadata": {},
   "outputs": [
    {
     "name": "stderr",
     "output_type": "stream",
     "text": [
      "c:\\Users\\alexl\\miniconda3\\envs\\conda-env\\Lib\\site-packages\\xarray\\coding\\times.py:645: RuntimeWarning: invalid value encountered in cast\n",
      "  flat_num = flat_num.astype(np.int64)\n"
     ]
    }
   ],
   "source": [
    "#for one file (concat last file of current year)\n",
    "files = [f\"{NDVI_DATA_URL}/raw/2025/{file}\" for file in os.listdir(f\"{NDVI_DATA_URL}/raw/2025\") if file.endswith(\".nc\")] #list of files for each year\n",
    "ds = xr.open_mfdataset(files, combine=\"nested\", concat_dim='time') #open all the files dataset, concat them by time which will output ds in shape (len(files), latitude, longitude)\n",
    "ds.to_netcdf(f\"{NDVI_DATA_URL}/yearly_aggregated/2025.nc\")\n",
    "\n",
    "target_lats = np.arange(51.0, 42.0, -0.25)\n",
    "target_lons = np.arange(-5, 10, 0.25)\n",
    "ds = xr.open_dataset(f\"{NDVI_DATA_URL}/yearly_aggregated/2025.nc\")\n",
    "subsample = ds.sel(longitude=target_lons, latitude=target_lats, method='nearest', tolerance=0.1) #subsample from 0.025 degrees to 0.25\n",
    "subsample.to_netcdf(f\"{NDVI_DATA_URL}/yearly_subsample/2025.nc\") #save new nc file"
   ]
  },
  {
   "cell_type": "code",
   "execution_count": null,
   "metadata": {},
   "outputs": [],
   "source": []
  }
 ],
 "metadata": {
  "kernelspec": {
   "display_name": "conda-env",
   "language": "python",
   "name": "python3"
  },
  "language_info": {
   "codemirror_mode": {
    "name": "ipython",
    "version": 3
   },
   "file_extension": ".py",
   "mimetype": "text/x-python",
   "name": "python",
   "nbconvert_exporter": "python",
   "pygments_lexer": "ipython3",
   "version": "3.12.8"
  }
 },
 "nbformat": 4,
 "nbformat_minor": 2
}
