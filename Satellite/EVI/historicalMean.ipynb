{
 "cells": [
  {
   "cell_type": "code",
   "execution_count": 1,
   "metadata": {},
   "outputs": [],
   "source": [
    "import pandas as pd\n",
    "import os\n",
    "from config import EVI_DATA_URL"
   ]
  },
  {
   "cell_type": "markdown",
   "metadata": {},
   "source": [
    "Historical monthly mean EVI"
   ]
  },
  {
   "cell_type": "code",
   "execution_count": 18,
   "metadata": {},
   "outputs": [
    {
     "name": "stderr",
     "output_type": "stream",
     "text": [
      "C:\\Users\\alexl\\AppData\\Local\\Temp\\ipykernel_12748\\2523346169.py:4: FutureWarning: The behavior of DataFrame concatenation with empty or all-NA entries is deprecated. In a future version, this will no longer exclude empty or all-NA columns when determining the result dtypes. To retain the old behavior, exclude the relevant entries before the concat operation.\n",
      "  evi = pd.concat([evi, evi_dep]) #concat data\n"
     ]
    }
   ],
   "source": [
    "evi = pd.DataFrame(columns=[\"name\", \"code\", \"date\", \"mean_data\"]) \n",
    "for evi_file in os.listdir(f\"{EVI_DATA_URL}/monthlyDepMean/\"): #loop throught files\n",
    "    evi_dep = pd.read_json(f\"{EVI_DATA_URL}/monthlyDepMean/{evi_file}\") #read json\n",
    "    evi = pd.concat([evi, evi_dep]) #concat data\n",
    "evi[\"YEAR-MONTH\"] = pd.to_datetime(evi[\"date\"]).dt.to_period('M') #set period (already to monthly data but we keep same format for every dataset (Year-Month))\n",
    "evi = evi.rename(columns={\"code\": \"DEP\", \"mean_data\": \"evi\"}) #rename for same format\n",
    "evi = evi[[\"YEAR-MONTH\", \"DEP\", \"evi\"]].sort_values(by=\"YEAR-MONTH\") #keep wanted data \n",
    "evi[\"MONTH\"] = evi[\"YEAR-MONTH\"].dt.month\n",
    "\n",
    "monthlyEvi = evi[[\"DEP\", \"evi\", \"MONTH\"]].groupby([\"MONTH\", \"DEP\"]).mean().reset_index()"
   ]
  },
  {
   "cell_type": "code",
   "execution_count": 23,
   "metadata": {},
   "outputs": [
    {
     "data": {
      "text/html": [
       "<div>\n",
       "<style scoped>\n",
       "    .dataframe tbody tr th:only-of-type {\n",
       "        vertical-align: middle;\n",
       "    }\n",
       "\n",
       "    .dataframe tbody tr th {\n",
       "        vertical-align: top;\n",
       "    }\n",
       "\n",
       "    .dataframe thead th {\n",
       "        text-align: right;\n",
       "    }\n",
       "</style>\n",
       "<table border=\"1\" class=\"dataframe\">\n",
       "  <thead>\n",
       "    <tr style=\"text-align: right;\">\n",
       "      <th></th>\n",
       "      <th>MONTH</th>\n",
       "      <th>DEP</th>\n",
       "      <th>evi</th>\n",
       "    </tr>\n",
       "  </thead>\n",
       "  <tbody>\n",
       "    <tr>\n",
       "      <th>0</th>\n",
       "      <td>1</td>\n",
       "      <td>1</td>\n",
       "      <td>0.248809</td>\n",
       "    </tr>\n",
       "    <tr>\n",
       "      <th>1</th>\n",
       "      <td>1</td>\n",
       "      <td>2</td>\n",
       "      <td>0.235100</td>\n",
       "    </tr>\n",
       "    <tr>\n",
       "      <th>2</th>\n",
       "      <td>1</td>\n",
       "      <td>3</td>\n",
       "      <td>0.338494</td>\n",
       "    </tr>\n",
       "    <tr>\n",
       "      <th>3</th>\n",
       "      <td>1</td>\n",
       "      <td>4</td>\n",
       "      <td>0.167896</td>\n",
       "    </tr>\n",
       "    <tr>\n",
       "      <th>4</th>\n",
       "      <td>1</td>\n",
       "      <td>5</td>\n",
       "      <td>0.092290</td>\n",
       "    </tr>\n",
       "    <tr>\n",
       "      <th>...</th>\n",
       "      <td>...</td>\n",
       "      <td>...</td>\n",
       "      <td>...</td>\n",
       "    </tr>\n",
       "    <tr>\n",
       "      <th>1135</th>\n",
       "      <td>12</td>\n",
       "      <td>91</td>\n",
       "      <td>0.235538</td>\n",
       "    </tr>\n",
       "    <tr>\n",
       "      <th>1136</th>\n",
       "      <td>12</td>\n",
       "      <td>92</td>\n",
       "      <td>0.145847</td>\n",
       "    </tr>\n",
       "    <tr>\n",
       "      <th>1137</th>\n",
       "      <td>12</td>\n",
       "      <td>93</td>\n",
       "      <td>0.150636</td>\n",
       "    </tr>\n",
       "    <tr>\n",
       "      <th>1138</th>\n",
       "      <td>12</td>\n",
       "      <td>94</td>\n",
       "      <td>0.167259</td>\n",
       "    </tr>\n",
       "    <tr>\n",
       "      <th>1139</th>\n",
       "      <td>12</td>\n",
       "      <td>95</td>\n",
       "      <td>0.240615</td>\n",
       "    </tr>\n",
       "  </tbody>\n",
       "</table>\n",
       "<p>1140 rows × 3 columns</p>\n",
       "</div>"
      ],
      "text/plain": [
       "      MONTH  DEP       evi\n",
       "0         1    1  0.248809\n",
       "1         1    2  0.235100\n",
       "2         1    3  0.338494\n",
       "3         1    4  0.167896\n",
       "4         1    5  0.092290\n",
       "...     ...  ...       ...\n",
       "1135     12   91  0.235538\n",
       "1136     12   92  0.145847\n",
       "1137     12   93  0.150636\n",
       "1138     12   94  0.167259\n",
       "1139     12   95  0.240615\n",
       "\n",
       "[1140 rows x 3 columns]"
      ]
     },
     "execution_count": 23,
     "metadata": {},
     "output_type": "execute_result"
    }
   ],
   "source": [
    "monthlyEvi"
   ]
  },
  {
   "cell_type": "code",
   "execution_count": 21,
   "metadata": {},
   "outputs": [],
   "source": [
    "monthlyEvi.to_csv(\"../../YieldModel/data/forecast/currentYear/evi_mean_historical.csv\")"
   ]
  },
  {
   "cell_type": "markdown",
   "metadata": {},
   "source": [
    "Find current market year EVI"
   ]
  },
  {
   "cell_type": "code",
   "execution_count": 25,
   "metadata": {},
   "outputs": [
    {
     "name": "stderr",
     "output_type": "stream",
     "text": [
      "C:\\Users\\alexl\\AppData\\Local\\Temp\\ipykernel_12748\\3566812235.py:4: FutureWarning: The behavior of DataFrame concatenation with empty or all-NA entries is deprecated. In a future version, this will no longer exclude empty or all-NA columns when determining the result dtypes. To retain the old behavior, exclude the relevant entries before the concat operation.\n",
      "  evi = pd.concat([evi, evi_dep]) #concat data\n"
     ]
    }
   ],
   "source": [
    "evi = pd.DataFrame(columns=[\"name\", \"code\", \"date\", \"mean_data\"]) \n",
    "for evi_file in os.listdir(f\"{EVI_DATA_URL}/monthlyDepMean/\"): #loop throught files\n",
    "    evi_dep = pd.read_json(f\"{EVI_DATA_URL}/monthlyDepMean/{evi_file}\") #read json\n",
    "    evi = pd.concat([evi, evi_dep]) #concat data\n",
    "evi[\"YEAR-MONTH\"] = pd.to_datetime(evi[\"date\"]).dt.to_period('M') #set period (already to monthly data but we keep same format for every dataset (Year-Month))\n",
    "evi = evi.rename(columns={\"code\": \"DEP\", \"mean_data\": \"evi\"}) #rename for same format\n",
    "evi = evi[[\"YEAR-MONTH\", \"DEP\", \"evi\"]].sort_values(by=[\"YEAR-MONTH\", \"DEP\"]) #keep wanted data \n",
    "evi[\"MONTH\"] = evi[\"YEAR-MONTH\"].dt.month\n",
    "evi = evi[evi[\"YEAR-MONTH\"] >= \"2024-09\"][[\"DEP\", \"MONTH\", \"evi\"]].reset_index(drop=True)"
   ]
  },
  {
   "cell_type": "code",
   "execution_count": 26,
   "metadata": {},
   "outputs": [
    {
     "data": {
      "text/html": [
       "<div>\n",
       "<style scoped>\n",
       "    .dataframe tbody tr th:only-of-type {\n",
       "        vertical-align: middle;\n",
       "    }\n",
       "\n",
       "    .dataframe tbody tr th {\n",
       "        vertical-align: top;\n",
       "    }\n",
       "\n",
       "    .dataframe thead th {\n",
       "        text-align: right;\n",
       "    }\n",
       "</style>\n",
       "<table border=\"1\" class=\"dataframe\">\n",
       "  <thead>\n",
       "    <tr style=\"text-align: right;\">\n",
       "      <th></th>\n",
       "      <th>DEP</th>\n",
       "      <th>MONTH</th>\n",
       "      <th>evi</th>\n",
       "    </tr>\n",
       "  </thead>\n",
       "  <tbody>\n",
       "    <tr>\n",
       "      <th>0</th>\n",
       "      <td>1</td>\n",
       "      <td>9</td>\n",
       "      <td>0.468340</td>\n",
       "    </tr>\n",
       "    <tr>\n",
       "      <th>1</th>\n",
       "      <td>2</td>\n",
       "      <td>9</td>\n",
       "      <td>0.418794</td>\n",
       "    </tr>\n",
       "    <tr>\n",
       "      <th>2</th>\n",
       "      <td>3</td>\n",
       "      <td>9</td>\n",
       "      <td>0.464130</td>\n",
       "    </tr>\n",
       "    <tr>\n",
       "      <th>3</th>\n",
       "      <td>4</td>\n",
       "      <td>9</td>\n",
       "      <td>0.342470</td>\n",
       "    </tr>\n",
       "    <tr>\n",
       "      <th>4</th>\n",
       "      <td>5</td>\n",
       "      <td>9</td>\n",
       "      <td>0.313995</td>\n",
       "    </tr>\n",
       "    <tr>\n",
       "      <th>...</th>\n",
       "      <td>...</td>\n",
       "      <td>...</td>\n",
       "      <td>...</td>\n",
       "    </tr>\n",
       "    <tr>\n",
       "      <th>565</th>\n",
       "      <td>91</td>\n",
       "      <td>2</td>\n",
       "      <td>0.232283</td>\n",
       "    </tr>\n",
       "    <tr>\n",
       "      <th>566</th>\n",
       "      <td>92</td>\n",
       "      <td>2</td>\n",
       "      <td>0.139222</td>\n",
       "    </tr>\n",
       "    <tr>\n",
       "      <th>567</th>\n",
       "      <td>93</td>\n",
       "      <td>2</td>\n",
       "      <td>0.164456</td>\n",
       "    </tr>\n",
       "    <tr>\n",
       "      <th>568</th>\n",
       "      <td>94</td>\n",
       "      <td>2</td>\n",
       "      <td>0.188024</td>\n",
       "    </tr>\n",
       "    <tr>\n",
       "      <th>569</th>\n",
       "      <td>95</td>\n",
       "      <td>2</td>\n",
       "      <td>0.162212</td>\n",
       "    </tr>\n",
       "  </tbody>\n",
       "</table>\n",
       "<p>570 rows × 3 columns</p>\n",
       "</div>"
      ],
      "text/plain": [
       "    DEP  MONTH       evi\n",
       "0     1      9  0.468340\n",
       "1     2      9  0.418794\n",
       "2     3      9  0.464130\n",
       "3     4      9  0.342470\n",
       "4     5      9  0.313995\n",
       "..   ..    ...       ...\n",
       "565  91      2  0.232283\n",
       "566  92      2  0.139222\n",
       "567  93      2  0.164456\n",
       "568  94      2  0.188024\n",
       "569  95      2  0.162212\n",
       "\n",
       "[570 rows x 3 columns]"
      ]
     },
     "execution_count": 26,
     "metadata": {},
     "output_type": "execute_result"
    }
   ],
   "source": [
    "evi"
   ]
  },
  {
   "cell_type": "code",
   "execution_count": 27,
   "metadata": {},
   "outputs": [],
   "source": [
    "evi.to_csv(\"../../YieldModel/data/forecast/currentYear/evi_mean_current.csv\")"
   ]
  },
  {
   "cell_type": "code",
   "execution_count": null,
   "metadata": {},
   "outputs": [],
   "source": []
  }
 ],
 "metadata": {
  "kernelspec": {
   "display_name": "conda-env",
   "language": "python",
   "name": "python3"
  },
  "language_info": {
   "codemirror_mode": {
    "name": "ipython",
    "version": 3
   },
   "file_extension": ".py",
   "mimetype": "text/x-python",
   "name": "python",
   "nbconvert_exporter": "python",
   "pygments_lexer": "ipython3",
   "version": "3.12.8"
  }
 },
 "nbformat": 4,
 "nbformat_minor": 2
}
