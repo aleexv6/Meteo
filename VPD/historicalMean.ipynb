{
 "cells": [
  {
   "cell_type": "code",
   "execution_count": 1,
   "metadata": {},
   "outputs": [],
   "source": [
    "import pandas as pd\n",
    "from config import DATA_DOWNLOAD_URL\n",
    "import os"
   ]
  },
  {
   "cell_type": "code",
   "execution_count": 2,
   "metadata": {},
   "outputs": [],
   "source": [
    "def get_market_year(row): #make a market year row in datas\n",
    "    year = row['date'].year\n",
    "    month = row['date'].month\n",
    "    if month >= 9:\n",
    "        market_year = f\"{year}/{year + 1}\"\n",
    "    else:\n",
    "        market_year = f\"{year - 1}/{year}\"\n",
    "    return market_year"
   ]
  },
  {
   "cell_type": "code",
   "execution_count": 3,
   "metadata": {},
   "outputs": [],
   "source": [
    "hist = pd.read_csv(f\"{DATA_DOWNLOAD_URL}/ERA5/1940-2025_vpd.csv\").drop(\"Unnamed: 0\", axis=1)"
   ]
  },
  {
   "cell_type": "code",
   "execution_count": 4,
   "metadata": {},
   "outputs": [],
   "source": [
    "hist[\"date\"] = pd.to_datetime(hist[\"date\"])\n",
    "hist = hist[hist[\"date\"] >= \"2019-09-01\"] #year to start, i will take arbitrary last 5 market years\n",
    "hist[\"MY\"] = hist.apply(get_market_year, axis=1)\n",
    "hist[\"MONTH\"] = hist[\"date\"].dt.month\n",
    "hist = hist[~hist[\"dep\"].isin([75,92,93])] #remove 3 deps cause we have no data\n",
    "current = hist[hist[\"MY\"] == \"2024/2025\"].copy() #copy current MY\n",
    "hist = hist[hist[\"MY\"] != \"2024/2025\"] #remove current MY"
   ]
  },
  {
   "cell_type": "code",
   "execution_count": null,
   "metadata": {},
   "outputs": [],
   "source": [
    "meanHist = hist[[\"dep\", \"MONTH\", \"vpd_min\", \"vpd_mean\", \"vpd_max\"]].groupby([\"dep\", \"MONTH\"]).mean().reset_index()"
   ]
  },
  {
   "cell_type": "code",
   "execution_count": 5,
   "metadata": {},
   "outputs": [],
   "source": [
    "meanCurrent = current[[\"dep\", \"MONTH\", \"vpd_min\", \"vpd_mean\", \"vpd_max\"]].groupby([\"dep\", \"MONTH\"]).mean().reset_index()"
   ]
  },
  {
   "cell_type": "code",
   "execution_count": null,
   "metadata": {},
   "outputs": [],
   "source": [
    "meanHist.to_csv(\"../YieldModel/data/forecast/currentYear/vpd_mean_historical.csv\")"
   ]
  },
  {
   "cell_type": "code",
   "execution_count": 7,
   "metadata": {},
   "outputs": [],
   "source": [
    "meanCurrent.to_csv(\"../YieldModel/data/forecast/currentYear/vpd_mean_current.csv\")"
   ]
  }
 ],
 "metadata": {
  "kernelspec": {
   "display_name": "conda-env",
   "language": "python",
   "name": "python3"
  },
  "language_info": {
   "codemirror_mode": {
    "name": "ipython",
    "version": 3
   },
   "file_extension": ".py",
   "mimetype": "text/x-python",
   "name": "python",
   "nbconvert_exporter": "python",
   "pygments_lexer": "ipython3",
   "version": "3.12.8"
  }
 },
 "nbformat": 4,
 "nbformat_minor": 2
}
