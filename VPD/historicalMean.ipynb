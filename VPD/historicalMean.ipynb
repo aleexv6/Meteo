{
 "cells": [
  {
   "cell_type": "code",
   "execution_count": 1,
   "metadata": {},
   "outputs": [],
   "source": [
    "import pandas as pd\n",
    "from config import DATA_DOWNLOAD_URL\n",
    "import os"
   ]
  },
  {
   "cell_type": "code",
   "execution_count": 2,
   "metadata": {},
   "outputs": [],
   "source": [
    "def get_market_year(row): #make a market year row in datas\n",
    "    year = row['date'].year\n",
    "    month = row['date'].month\n",
    "    if month >= 9:\n",
    "        market_year = f\"{year}/{year + 1}\"\n",
    "    else:\n",
    "        market_year = f\"{year - 1}/{year}\"\n",
    "    return market_year"
   ]
  },
  {
   "cell_type": "code",
   "execution_count": 3,
   "metadata": {},
   "outputs": [],
   "source": [
    "hist = pd.read_csv(f\"{DATA_DOWNLOAD_URL}/ERA5/1940-2025_vpd.csv\").drop(\"Unnamed: 0\", axis=1)"
   ]
  },
  {
   "cell_type": "code",
   "execution_count": 4,
   "metadata": {},
   "outputs": [],
   "source": [
    "hist[\"date\"] = pd.to_datetime(hist[\"date\"])\n",
    "hist = hist[hist[\"date\"] >= \"2019-09-01\"] #year to start, i will take arbitrary last 5 market years\n",
    "hist[\"MY\"] = hist.apply(get_market_year, axis=1)\n",
    "hist[\"MONTH\"] = hist[\"date\"].dt.month\n",
    "hist = hist[~hist[\"dep\"].isin([75,92,93])] #remove 3 deps cause we have no data\n",
    "current = hist[hist[\"MY\"] == \"2024/2025\"].copy() #copy current MY\n",
    "hist = hist[hist[\"MY\"] != \"2024/2025\"] #remove current MY"
   ]
  },
  {
   "cell_type": "code",
   "execution_count": 5,
   "metadata": {},
   "outputs": [],
   "source": [
    "meanHist = hist[[\"dep\", \"MONTH\", \"vpd_min\", \"vpd_mean\", \"vpd_max\"]].groupby([\"dep\", \"MONTH\"]).mean().reset_index()\n",
    "meanCurrent = current[[\"dep\", \"MONTH\", \"vpd_min\", \"vpd_mean\", \"vpd_max\"]].groupby([\"dep\", \"MONTH\"]).mean().reset_index()"
   ]
  },
  {
   "cell_type": "code",
   "execution_count": 6,
   "metadata": {},
   "outputs": [
    {
     "data": {
      "text/html": [
       "<div>\n",
       "<style scoped>\n",
       "    .dataframe tbody tr th:only-of-type {\n",
       "        vertical-align: middle;\n",
       "    }\n",
       "\n",
       "    .dataframe tbody tr th {\n",
       "        vertical-align: top;\n",
       "    }\n",
       "\n",
       "    .dataframe thead th {\n",
       "        text-align: right;\n",
       "    }\n",
       "</style>\n",
       "<table border=\"1\" class=\"dataframe\">\n",
       "  <thead>\n",
       "    <tr style=\"text-align: right;\">\n",
       "      <th></th>\n",
       "      <th>dep</th>\n",
       "      <th>MONTH</th>\n",
       "      <th>vpd_min</th>\n",
       "      <th>vpd_mean</th>\n",
       "      <th>vpd_max</th>\n",
       "    </tr>\n",
       "  </thead>\n",
       "  <tbody>\n",
       "    <tr>\n",
       "      <th>0</th>\n",
       "      <td>1</td>\n",
       "      <td>1</td>\n",
       "      <td>0.057895</td>\n",
       "      <td>0.177691</td>\n",
       "      <td>0.360193</td>\n",
       "    </tr>\n",
       "    <tr>\n",
       "      <th>1</th>\n",
       "      <td>1</td>\n",
       "      <td>2</td>\n",
       "      <td>0.058770</td>\n",
       "      <td>0.183886</td>\n",
       "      <td>0.404316</td>\n",
       "    </tr>\n",
       "    <tr>\n",
       "      <th>2</th>\n",
       "      <td>1</td>\n",
       "      <td>3</td>\n",
       "      <td>0.096471</td>\n",
       "      <td>0.354761</td>\n",
       "      <td>0.771763</td>\n",
       "    </tr>\n",
       "    <tr>\n",
       "      <th>3</th>\n",
       "      <td>1</td>\n",
       "      <td>4</td>\n",
       "      <td>0.230609</td>\n",
       "      <td>0.523371</td>\n",
       "      <td>0.944297</td>\n",
       "    </tr>\n",
       "    <tr>\n",
       "      <th>4</th>\n",
       "      <td>1</td>\n",
       "      <td>9</td>\n",
       "      <td>0.105314</td>\n",
       "      <td>0.416935</td>\n",
       "      <td>0.929223</td>\n",
       "    </tr>\n",
       "    <tr>\n",
       "      <th>...</th>\n",
       "      <td>...</td>\n",
       "      <td>...</td>\n",
       "      <td>...</td>\n",
       "      <td>...</td>\n",
       "      <td>...</td>\n",
       "    </tr>\n",
       "    <tr>\n",
       "      <th>731</th>\n",
       "      <td>95</td>\n",
       "      <td>4</td>\n",
       "      <td>0.160272</td>\n",
       "      <td>0.582396</td>\n",
       "      <td>1.084573</td>\n",
       "    </tr>\n",
       "    <tr>\n",
       "      <th>732</th>\n",
       "      <td>95</td>\n",
       "      <td>9</td>\n",
       "      <td>0.079830</td>\n",
       "      <td>0.369314</td>\n",
       "      <td>0.843572</td>\n",
       "    </tr>\n",
       "    <tr>\n",
       "      <th>733</th>\n",
       "      <td>95</td>\n",
       "      <td>10</td>\n",
       "      <td>0.037508</td>\n",
       "      <td>0.174421</td>\n",
       "      <td>0.449937</td>\n",
       "    </tr>\n",
       "    <tr>\n",
       "      <th>734</th>\n",
       "      <td>95</td>\n",
       "      <td>11</td>\n",
       "      <td>0.048371</td>\n",
       "      <td>0.132023</td>\n",
       "      <td>0.264044</td>\n",
       "    </tr>\n",
       "    <tr>\n",
       "      <th>735</th>\n",
       "      <td>95</td>\n",
       "      <td>12</td>\n",
       "      <td>0.043943</td>\n",
       "      <td>0.092821</td>\n",
       "      <td>0.162972</td>\n",
       "    </tr>\n",
       "  </tbody>\n",
       "</table>\n",
       "<p>736 rows × 5 columns</p>\n",
       "</div>"
      ],
      "text/plain": [
       "     dep  MONTH   vpd_min  vpd_mean   vpd_max\n",
       "0      1      1  0.057895  0.177691  0.360193\n",
       "1      1      2  0.058770  0.183886  0.404316\n",
       "2      1      3  0.096471  0.354761  0.771763\n",
       "3      1      4  0.230609  0.523371  0.944297\n",
       "4      1      9  0.105314  0.416935  0.929223\n",
       "..   ...    ...       ...       ...       ...\n",
       "731   95      4  0.160272  0.582396  1.084573\n",
       "732   95      9  0.079830  0.369314  0.843572\n",
       "733   95     10  0.037508  0.174421  0.449937\n",
       "734   95     11  0.048371  0.132023  0.264044\n",
       "735   95     12  0.043943  0.092821  0.162972\n",
       "\n",
       "[736 rows x 5 columns]"
      ]
     },
     "execution_count": 6,
     "metadata": {},
     "output_type": "execute_result"
    }
   ],
   "source": [
    "meanCurrent"
   ]
  },
  {
   "cell_type": "code",
   "execution_count": 7,
   "metadata": {},
   "outputs": [],
   "source": [
    "meanHist.to_csv(\"../YieldModel/data/forecast/currentYear/vpd_mean_historical.csv\")\n",
    "meanCurrent.to_csv(\"../YieldModel/data/forecast/currentYear/vpd_mean_current.csv\")"
   ]
  },
  {
   "cell_type": "code",
   "execution_count": null,
   "metadata": {},
   "outputs": [],
   "source": []
  }
 ],
 "metadata": {
  "kernelspec": {
   "display_name": "conda-env",
   "language": "python",
   "name": "python3"
  },
  "language_info": {
   "codemirror_mode": {
    "name": "ipython",
    "version": 3
   },
   "file_extension": ".py",
   "mimetype": "text/x-python",
   "name": "python",
   "nbconvert_exporter": "python",
   "pygments_lexer": "ipython3",
   "version": "3.12.8"
  }
 },
 "nbformat": 4,
 "nbformat_minor": 2
}
