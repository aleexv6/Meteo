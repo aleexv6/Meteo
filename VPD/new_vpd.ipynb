{
 "cells": [
  {
   "cell_type": "code",
   "execution_count": 1,
   "metadata": {},
   "outputs": [],
   "source": [
    "import cdsapi\n",
    "from netCDF4 import Dataset\n",
    "import numpy as np\n",
    "from shapely.geometry import Point\n",
    "from shapely.prepared import prep\n",
    "import geopandas\n",
    "from datetime import datetime, timedelta\n",
    "import os"
   ]
  },
  {
   "cell_type": "code",
   "execution_count": null,
   "metadata": {},
   "outputs": [],
   "source": [
    "#get the data \n",
    "dataset = \"reanalysis-era5-single-levels\"\n",
    "request = {\"product_type\": [\"reanalysis\"], \"variable\": [\"2m_dewpoint_temperature\", \"2m_temperature\"], \"year\": [\"2024\", \"2025\"], \"month\": [\"01\", \"02\", \"03\", \"04\", \"05\", \"06\", \"07\", \"08\", \"09\", \"10\", \"11\", \"12\"], \"day\": [\"01\", \"02\", \"03\", \"04\", \"05\", \"06\", \"07\", \"08\", \"09\", \"10\", \"11\", \"12\", \"13\", \"14\", \"15\", \"16\", \"17\", \"18\", \"19\", \"20\", \"21\", \"22\", \"23\", \"24\", \"25\", \"26\", \"27\", \"28\", \"29\", \"30\", \"31\"], \"time\": [\"00:00\", \"01:00\", \"02:00\", \"03:00\", \"04:00\", \"05:00\", \"06:00\", \"07:00\", \"08:00\", \"09:00\", \"10:00\", \"11:00\", \"12:00\", \"13:00\", \"14:00\", \"15:00\", \"16:00\", \"17:00\", \"18:00\", \"19:00\", \"20:00\", \"21:00\", \"22:00\", \"23:00\"], \"data_format\": \"netcdf\", \"download_format\": \"zip\", \"area\": [51, -5, 41.5, 9.75]}\n",
    "client = cdsapi.Client()\n",
    "client.retrieve(dataset, request, \"2024-2025.zip\")"
   ]
  },
  {
   "cell_type": "code",
   "execution_count": null,
   "metadata": {},
   "outputs": [],
   "source": []
  },
  {
   "cell_type": "code",
   "execution_count": null,
   "metadata": {},
   "outputs": [],
   "source": [
    "#for data of shape (n, x, y) with n the hour, x the latitude and y the longitude \n",
    "#we can find daily datas in the form (0:23, x, y), (24:47, x, y), (48:71, x, y)....\n",
    "#then make the calcalutions on the daily data, find the data points of each dep, find the day and finaly save the produces datas"
   ]
  },
  {
   "cell_type": "code",
   "execution_count": 2,
   "metadata": {},
   "outputs": [],
   "source": [
    "geo = geopandas.read_file(\"data/geojsonfrance_corse_20.json\") #read france departement geometries\n",
    "geo[\"code\"] = geo[\"code\"].astype(int)\n",
    "geo = geo.sort_values(by=\"code\").reset_index(drop=True)"
   ]
  },
  {
   "cell_type": "code",
   "execution_count": 3,
   "metadata": {},
   "outputs": [
    {
     "ename": "",
     "evalue": "",
     "output_type": "error",
     "traceback": [
      "\u001b[1;31mThe Kernel crashed while executing code in the current cell or a previous cell. \n",
      "\u001b[1;31mPlease review the code in the cell(s) to identify a possible cause of the failure. \n",
      "\u001b[1;31mClick <a href='https://aka.ms/vscodeJupyterKernelCrash'>here</a> for more info. \n",
      "\u001b[1;31mView Jupyter <a href='command:jupyter.viewOutput'>log</a> for further details."
     ]
    }
   ],
   "source": [
    "points = []\n",
    "data_index = 0\n",
    "points = dict()\n",
    "#for every lat and lon, we make a dict of index POINT(lon, lat) and value the index of the data associated with this point\n",
    "for lat in Dataset(\"data/ERA5/1940-1945.nc\").variables[\"latitude\"][:]:\n",
    "        for lon in Dataset(\"data/ERA5/1940-1945.nc\").variables[\"longitude\"][:]:\n",
    "            points[Point(lon, lat)] = data_index\n",
    "            data_index +=1"
   ]
  },
  {
   "cell_type": "code",
   "execution_count": 12,
   "metadata": {},
   "outputs": [
    {
     "ename": "NameError",
     "evalue": "name 'geo' is not defined",
     "output_type": "error",
     "traceback": [
      "\u001b[1;31m---------------------------------------------------------------------------\u001b[0m",
      "\u001b[1;31mNameError\u001b[0m                                 Traceback (most recent call last)",
      "Cell \u001b[1;32mIn[12], line 32\u001b[0m\n\u001b[0;32m     29\u001b[0m vpd_mean \u001b[38;5;241m=\u001b[39m np\u001b[38;5;241m.\u001b[39mmean(vpd, axis\u001b[38;5;241m=\u001b[39m\u001b[38;5;241m0\u001b[39m)\n\u001b[0;32m     30\u001b[0m vpd_mean_flattened \u001b[38;5;241m=\u001b[39m vpd_mean\u001b[38;5;241m.\u001b[39mflatten()\n\u001b[1;32m---> 32\u001b[0m \u001b[38;5;28;01mfor\u001b[39;00m _, dep \u001b[38;5;129;01min\u001b[39;00m geo\u001b[38;5;241m.\u001b[39mitterows():\n\u001b[0;32m     33\u001b[0m     prepared \u001b[38;5;241m=\u001b[39m prep(dep[\u001b[38;5;124m\"\u001b[39m\u001b[38;5;124mgeometry\u001b[39m\u001b[38;5;124m\"\u001b[39m]) \u001b[38;5;66;03m#use prep for batch operations\u001b[39;00m\n\u001b[0;32m     34\u001b[0m     valid_points \u001b[38;5;241m=\u001b[39m []\n",
      "\u001b[1;31mNameError\u001b[0m: name 'geo' is not defined"
     ]
    }
   ],
   "source": [
    "temp = Dataset(\"data/ERA5/1940-1945.nc\").variables[\"t2m\"][:]\n",
    "dewP = Dataset(\"data/ERA5/1940-1945.nc\").variables[\"d2m\"][:]\n",
    "\n",
    "date = datetime(1940, 1, 1)\n",
    "\n",
    "# Calculate how many complete days we have\n",
    "total_hours = temp.shape[0]\n",
    "hours_per_day = 24\n",
    "num_complete_days = total_hours // hours_per_day\n",
    "\n",
    "result = []\n",
    "# Loop through the array in 24-hour chunks\n",
    "for day in range(num_complete_days):\n",
    "    # Calculate start and end indices for this day\n",
    "    start_idx = day * hours_per_day       # e.g., 0, 24, 48, ...\n",
    "    end_idx = start_idx + hours_per_day   # e.g., 24, 48, 72, ...\n",
    "    \n",
    "    # Get the data for this day\n",
    "    dailyTemp = temp[start_idx:end_idx]\n",
    "    dailyDewP = dewP[start_idx:end_idx]\n",
    "\n",
    "    rh = 100*(np.exp((17.625*dailyDewP)/(243.04+dailyDewP))/np.exp((17.625*dailyTemp)/(243.04+dailyTemp))) #August-Roche-Magnus equation to calculate relative humidity\n",
    "\n",
    "    vpd = 6.1078 * (1 - rh / 100) * np.exp(17.08085 * dailyTemp / (234.175 + dailyTemp)) * 0.1 #vpd in kPa #Alduchov, O. A., and R. E. Eskridge, 1996 formula\n",
    "    vpd_max = np.max(vpd, axis=0)\n",
    "    vpd_max_flattened = vpd_max.flatten()\n",
    "    vpd_min = np.min(vpd, axis=0)\n",
    "    vpd_min_flattened = vpd_min.flatten()\n",
    "    vpd_mean = np.mean(vpd, axis=0)\n",
    "    vpd_mean_flattened = vpd_mean.flatten()\n",
    "\n",
    "    for _, dep in geo.itterows():\n",
    "        prepared = prep(dep[\"geometry\"]) #use prep for batch operations\n",
    "        valid_points = []\n",
    "        valid_points.extend(filter(prepared.contains, points)) #find POINTS in dep\n",
    "        valid_indices = [points[point] for point in valid_points if point in points] #make a list of valid points that are in the dep\n",
    "\n",
    "        vpd_max_dep = vpd_max_flattened[valid_indices] #find values with indices\n",
    "        vpd_mean_dep = vpd_mean_flattened[valid_indices] #find values with indices\n",
    "        vpd_min_dep = vpd_min_flattened[valid_indices] #find values with indices\n",
    "\n",
    "        result.append[{\"date\": date, \"dep\": dep[\"departement\"], \"vpd_max\": vpd_max_dep, \"vpd_mean\": vpd_mean_dep, \"vpd_min\": vpd_min_dep}]\n",
    "    \n",
    "    date += timedelta(days=1)\n",
    "    break"
   ]
  },
  {
   "cell_type": "code",
   "execution_count": null,
   "metadata": {},
   "outputs": [],
   "source": []
  },
  {
   "cell_type": "code",
   "execution_count": 4,
   "metadata": {},
   "outputs": [
    {
     "data": {
      "text/plain": [
       "(24, 41, 61)"
      ]
     },
     "execution_count": 4,
     "metadata": {},
     "output_type": "execute_result"
    }
   ],
   "source": [
    "temp = Dataset(\"data/2025test.nc\").variables[\"t2m\"][:] - 273.15\n",
    "temp.shape"
   ]
  },
  {
   "cell_type": "code",
   "execution_count": null,
   "metadata": {},
   "outputs": [],
   "source": [
    "temp = Dataset(\"data/2025test.nc\").variables[\"t2m\"][:] - 273.15 #convert to from Kelvin to Celsius\n",
    "dewP = Dataset(\"data/2025test.nc\").variables[\"d2m\"][:] - 273.15 #convert to from Kelvin to Celsius\n",
    "rh = 100*(np.exp((17.625*dewP)/(243.04+dewP))/np.exp((17.625*temp)/(243.04+temp))) #August-Roche-Magnus equation to calculate relative humidity\n",
    "\n",
    "vpd = 6.1078 * (1 - rh / 100) * np.exp(17.08085 * temp / (234.175 + temp)) * 0.1 #vpd in kPa #Alduchov, O. A., and R. E. Eskridge, 1996 formula\n",
    "\n",
    "#calculations and flattend datas\n",
    "vpd_max = np.max(vpd, axis=0)\n",
    "vpd_max_flattened = vpd_max.flatten()\n",
    "vpd_min = np.min(vpd, axis=0)\n",
    "vpd_min_flattened = vpd_min.flatten()\n",
    "vpd_mean = np.mean(vpd, axis=0)\n",
    "vpd_mean_flattened = vpd_mean.flatten()"
   ]
  },
  {
   "cell_type": "code",
   "execution_count": null,
   "metadata": {},
   "outputs": [],
   "source": []
  },
  {
   "cell_type": "code",
   "execution_count": null,
   "metadata": {},
   "outputs": [],
   "source": []
  },
  {
   "cell_type": "code",
   "execution_count": null,
   "metadata": {},
   "outputs": [],
   "source": []
  },
  {
   "cell_type": "code",
   "execution_count": null,
   "metadata": {},
   "outputs": [],
   "source": [
    "prepared = prep(geo[\"geometry\"].iloc[0]) #use prep for batch operations\n",
    "valid_points = []\n",
    "valid_points.extend(filter(prepared.contains, points)) #find POINTS in dep\n",
    "valid_indices = [points[point] for point in valid_points if point in points] #make a list of valid points that are in the dep"
   ]
  },
  {
   "cell_type": "code",
   "execution_count": null,
   "metadata": {},
   "outputs": [
    {
     "data": {
      "text/plain": [
       "masked_array(data=[0.3330575227737427, 0.3533657491207123,\n",
       "                   0.3058649003505707, 0.20237870514392853,\n",
       "                   0.1655619740486145, 0.12627676129341125,\n",
       "                   0.28827622532844543, 0.28825050592422485,\n",
       "                   0.23285146057605743, 0.212148055434227,\n",
       "                   0.1754762977361679, 0.2255707085132599,\n",
       "                   0.15644685924053192],\n",
       "             mask=[False, False, False, False, False, False, False, False,\n",
       "                   False, False, False, False, False],\n",
       "       fill_value=1e+20,\n",
       "            dtype=float32)"
      ]
     },
     "execution_count": 135,
     "metadata": {},
     "output_type": "execute_result"
    }
   ],
   "source": [
    "vpd_max_flattened[valid_indices] #find values with indices"
   ]
  },
  {
   "cell_type": "code",
   "execution_count": 138,
   "metadata": {},
   "outputs": [
    {
     "data": {
      "text/plain": [
       "masked_array(data=[0.15823116898536682, 0.17255668342113495,\n",
       "                   0.16261878609657288, 0.08930866420269012,\n",
       "                   0.034297965466976166, 0.031788866966962814,\n",
       "                   0.13649725914001465, 0.14891740679740906,\n",
       "                   0.11739559471607208, 0.05278622731566429,\n",
       "                   0.01027910690754652, 0.055440690368413925,\n",
       "                   0.041455790400505066],\n",
       "             mask=[False, False, False, False, False, False, False, False,\n",
       "                   False, False, False, False, False],\n",
       "       fill_value=1e+20,\n",
       "            dtype=float32)"
      ]
     },
     "execution_count": 138,
     "metadata": {},
     "output_type": "execute_result"
    }
   ],
   "source": [
    "vpd_min_flattened[valid_indices]"
   ]
  },
  {
   "cell_type": "code",
   "execution_count": 139,
   "metadata": {},
   "outputs": [
    {
     "data": {
      "text/plain": [
       "masked_array(data=[0.20956015586853027, 0.2174536188443502,\n",
       "                   0.21111108859380087, 0.1379851500193278,\n",
       "                   0.10079453388849895, 0.0886037250359853,\n",
       "                   0.20597984393437704, 0.21295567353566489,\n",
       "                   0.1918415625890096, 0.14592679341634116,\n",
       "                   0.11190817753473918, 0.16238168875376383,\n",
       "                   0.11925611893335979],\n",
       "             mask=[False, False, False, False, False, False, False, False,\n",
       "                   False, False, False, False, False],\n",
       "       fill_value=1e+20)"
      ]
     },
     "execution_count": 139,
     "metadata": {},
     "output_type": "execute_result"
    }
   ],
   "source": [
    "vpd_mean_flattened[valid_indices]"
   ]
  },
  {
   "cell_type": "code",
   "execution_count": null,
   "metadata": {},
   "outputs": [],
   "source": []
  },
  {
   "cell_type": "code",
   "execution_count": null,
   "metadata": {},
   "outputs": [],
   "source": []
  },
  {
   "cell_type": "code",
   "execution_count": null,
   "metadata": {},
   "outputs": [],
   "source": []
  }
 ],
 "metadata": {
  "kernelspec": {
   "display_name": "conda-env",
   "language": "python",
   "name": "python3"
  },
  "language_info": {
   "codemirror_mode": {
    "name": "ipython",
    "version": 3
   },
   "file_extension": ".py",
   "mimetype": "text/x-python",
   "name": "python",
   "nbconvert_exporter": "python",
   "pygments_lexer": "ipython3",
   "version": "3.12.8"
  }
 },
 "nbformat": 4,
 "nbformat_minor": 2
}
